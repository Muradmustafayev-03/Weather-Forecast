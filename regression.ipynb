{
 "cells": [
  {
   "cell_type": "markdown",
   "source": [
    "# Weather Forecasting algorithms\n",
    "### (Or how to use Linear Regression)"
   ],
   "metadata": {
    "collapsed": false,
    "pycharm": {
     "name": "#%% md\n"
    }
   }
  },
  {
   "cell_type": "code",
   "execution_count": 1,
   "metadata": {
    "collapsed": true
   },
   "outputs": [],
   "source": [
    "import pandas as pd\n",
    "import numpy as np\n",
    "from sklearn import linear_model as skl\n",
    "from regression import Regressors as reg"
   ]
  },
  {
   "cell_type": "markdown",
   "source": [
    "# Creating the datasets"
   ],
   "metadata": {
    "collapsed": false,
    "pycharm": {
     "name": "#%% md\n"
    }
   }
  },
  {
   "cell_type": "code",
   "execution_count": 2,
   "outputs": [
    {
     "data": {
      "text/plain": "            Date  Maximum Temperature (°C)  Minimum Temperature (°C)  \\\n0     02/01/2008                  2.610529                 -4.039472   \n1     03/01/2008                  5.630528                 -1.179471   \n2     04/01/2008                  9.200529                 -1.619471   \n3     05/01/2008                 10.950529                  2.600528   \n4     06/01/2008                  8.540529                  5.860529   \n...          ...                       ...                       ...   \n5385  30/09/2022                 16.190529                  6.340528   \n5386  01/10/2022                 16.310530                  8.130529   \n5387  02/10/2022                 19.560530                 14.260529   \n5388  03/10/2022                 18.200530                 11.390529   \n5389  04/10/2022                 20.910528                  8.400529   \n\n      Mean Temperature (°C)  Sunshine Duration (min)  \\\n0                 -0.716971               220.386890   \n1                  1.312195               149.133350   \n2                  3.012196               132.000000   \n3                  7.090530                 0.000000   \n4                  7.061361               134.042560   \n...                     ...                      ...   \n5385              11.649693               307.843630   \n5386              12.479695                41.554966   \n5387              17.118862               480.000000   \n5388              14.677612               440.240400   \n5389              13.741363               566.983640   \n\n      Shortwave Radiation (MJ/m²)  Precipitation (mm)  \\\n0                        5.264172            0.000000   \n1                        4.194036            0.000000   \n2                        4.972608            0.000000   \n3                        2.124252            1.500000   \n4                        2.159496            8.800001   \n...                           ...                 ...   \n5385                    15.103656            0.000000   \n5386                     5.920992            0.500000   \n5387                    13.254948            0.000000   \n5388                    13.985458            0.000000   \n5389                    15.324732            0.000000   \n\n      Maximum Relative Humidity (%)  Minimum Relative Humidity (%)  \\\n0                                96                             59   \n1                                97                             66   \n2                                96                             60   \n3                                89                             57   \n4                                98                             76   \n...                             ...                            ...   \n5385                             93                             53   \n5386                             86                             61   \n5387                             88                             62   \n5388                             93                             59   \n5389                             88                             42   \n\n      Mean Relative Humidity (%)  Maximum Sea Level Pressure (hPa)  \\\n0                      73.500000                            1022.9   \n1                      79.291664                            1012.2   \n2                      80.000000                            1014.2   \n3                      70.583336                            1015.1   \n4                      90.250000                            1019.7   \n...                          ...                               ...   \n5385                   73.875000                            1014.0   \n5386                   73.750000                            1019.9   \n5387                   75.708336                            1022.8   \n5388                   78.083336                            1026.3   \n5389                   70.125000                            1024.3   \n\n      Minimum Sea Level Pressure (hPa)  Mean Sea Level Pressure (hPa)  \\\n0                               1012.3                     1018.27094   \n1                               1004.9                     1007.71246   \n2                               1007.6                     1010.79987   \n3                               1008.6                     1012.06670   \n4                               1006.1                     1013.62915   \n...                                ...                            ...   \n5385                            1007.2                     1010.52910   \n5386                            1013.5                     1015.44165   \n5387                            1020.2                     1021.20416   \n5388                            1023.3                     1024.75430   \n5389                            1020.6                     1022.30835   \n\n      Maximum Wind Speed (m/s)  Minimum Wind Speed (m/s)  \\\n0                     5.536244                  0.400000   \n1                     6.673080                  0.900000   \n2                     5.292448                  1.500000   \n3                     6.946222                  1.421267   \n4                     7.102817                  0.900000   \n...                        ...                       ...   \n5385                  1.964688                  0.316228   \n5386                  9.411164                  1.552418   \n5387                  8.547514                  1.565247   \n5388                  6.537584                  0.282843   \n5389                  4.554119                  1.166190   \n\n      Mean Wind Speed (m/s)  Wind Direction Dominant (°)  \n0                  3.426518                   110.169304  \n1                  4.628796                   111.911970  \n2                  3.371137                   114.188460  \n3                  3.831986                   201.784740  \n4                  3.537873                   246.239300  \n...                     ...                          ...  \n5385               1.089594                   283.240500  \n5386               4.244933                   237.491330  \n5387               5.617112                   263.698400  \n5388               2.786462                   347.471200  \n5389               2.962703                   118.800026  \n\n[5390 rows x 17 columns]",
      "text/html": "<div>\n<style scoped>\n    .dataframe tbody tr th:only-of-type {\n        vertical-align: middle;\n    }\n\n    .dataframe tbody tr th {\n        vertical-align: top;\n    }\n\n    .dataframe thead th {\n        text-align: right;\n    }\n</style>\n<table border=\"1\" class=\"dataframe\">\n  <thead>\n    <tr style=\"text-align: right;\">\n      <th></th>\n      <th>Date</th>\n      <th>Maximum Temperature (°C)</th>\n      <th>Minimum Temperature (°C)</th>\n      <th>Mean Temperature (°C)</th>\n      <th>Sunshine Duration (min)</th>\n      <th>Shortwave Radiation (MJ/m²)</th>\n      <th>Precipitation (mm)</th>\n      <th>Maximum Relative Humidity (%)</th>\n      <th>Minimum Relative Humidity (%)</th>\n      <th>Mean Relative Humidity (%)</th>\n      <th>Maximum Sea Level Pressure (hPa)</th>\n      <th>Minimum Sea Level Pressure (hPa)</th>\n      <th>Mean Sea Level Pressure (hPa)</th>\n      <th>Maximum Wind Speed (m/s)</th>\n      <th>Minimum Wind Speed (m/s)</th>\n      <th>Mean Wind Speed (m/s)</th>\n      <th>Wind Direction Dominant (°)</th>\n    </tr>\n  </thead>\n  <tbody>\n    <tr>\n      <th>0</th>\n      <td>02/01/2008</td>\n      <td>2.610529</td>\n      <td>-4.039472</td>\n      <td>-0.716971</td>\n      <td>220.386890</td>\n      <td>5.264172</td>\n      <td>0.000000</td>\n      <td>96</td>\n      <td>59</td>\n      <td>73.500000</td>\n      <td>1022.9</td>\n      <td>1012.3</td>\n      <td>1018.27094</td>\n      <td>5.536244</td>\n      <td>0.400000</td>\n      <td>3.426518</td>\n      <td>110.169304</td>\n    </tr>\n    <tr>\n      <th>1</th>\n      <td>03/01/2008</td>\n      <td>5.630528</td>\n      <td>-1.179471</td>\n      <td>1.312195</td>\n      <td>149.133350</td>\n      <td>4.194036</td>\n      <td>0.000000</td>\n      <td>97</td>\n      <td>66</td>\n      <td>79.291664</td>\n      <td>1012.2</td>\n      <td>1004.9</td>\n      <td>1007.71246</td>\n      <td>6.673080</td>\n      <td>0.900000</td>\n      <td>4.628796</td>\n      <td>111.911970</td>\n    </tr>\n    <tr>\n      <th>2</th>\n      <td>04/01/2008</td>\n      <td>9.200529</td>\n      <td>-1.619471</td>\n      <td>3.012196</td>\n      <td>132.000000</td>\n      <td>4.972608</td>\n      <td>0.000000</td>\n      <td>96</td>\n      <td>60</td>\n      <td>80.000000</td>\n      <td>1014.2</td>\n      <td>1007.6</td>\n      <td>1010.79987</td>\n      <td>5.292448</td>\n      <td>1.500000</td>\n      <td>3.371137</td>\n      <td>114.188460</td>\n    </tr>\n    <tr>\n      <th>3</th>\n      <td>05/01/2008</td>\n      <td>10.950529</td>\n      <td>2.600528</td>\n      <td>7.090530</td>\n      <td>0.000000</td>\n      <td>2.124252</td>\n      <td>1.500000</td>\n      <td>89</td>\n      <td>57</td>\n      <td>70.583336</td>\n      <td>1015.1</td>\n      <td>1008.6</td>\n      <td>1012.06670</td>\n      <td>6.946222</td>\n      <td>1.421267</td>\n      <td>3.831986</td>\n      <td>201.784740</td>\n    </tr>\n    <tr>\n      <th>4</th>\n      <td>06/01/2008</td>\n      <td>8.540529</td>\n      <td>5.860529</td>\n      <td>7.061361</td>\n      <td>134.042560</td>\n      <td>2.159496</td>\n      <td>8.800001</td>\n      <td>98</td>\n      <td>76</td>\n      <td>90.250000</td>\n      <td>1019.7</td>\n      <td>1006.1</td>\n      <td>1013.62915</td>\n      <td>7.102817</td>\n      <td>0.900000</td>\n      <td>3.537873</td>\n      <td>246.239300</td>\n    </tr>\n    <tr>\n      <th>...</th>\n      <td>...</td>\n      <td>...</td>\n      <td>...</td>\n      <td>...</td>\n      <td>...</td>\n      <td>...</td>\n      <td>...</td>\n      <td>...</td>\n      <td>...</td>\n      <td>...</td>\n      <td>...</td>\n      <td>...</td>\n      <td>...</td>\n      <td>...</td>\n      <td>...</td>\n      <td>...</td>\n      <td>...</td>\n    </tr>\n    <tr>\n      <th>5385</th>\n      <td>30/09/2022</td>\n      <td>16.190529</td>\n      <td>6.340528</td>\n      <td>11.649693</td>\n      <td>307.843630</td>\n      <td>15.103656</td>\n      <td>0.000000</td>\n      <td>93</td>\n      <td>53</td>\n      <td>73.875000</td>\n      <td>1014.0</td>\n      <td>1007.2</td>\n      <td>1010.52910</td>\n      <td>1.964688</td>\n      <td>0.316228</td>\n      <td>1.089594</td>\n      <td>283.240500</td>\n    </tr>\n    <tr>\n      <th>5386</th>\n      <td>01/10/2022</td>\n      <td>16.310530</td>\n      <td>8.130529</td>\n      <td>12.479695</td>\n      <td>41.554966</td>\n      <td>5.920992</td>\n      <td>0.500000</td>\n      <td>86</td>\n      <td>61</td>\n      <td>73.750000</td>\n      <td>1019.9</td>\n      <td>1013.5</td>\n      <td>1015.44165</td>\n      <td>9.411164</td>\n      <td>1.552418</td>\n      <td>4.244933</td>\n      <td>237.491330</td>\n    </tr>\n    <tr>\n      <th>5387</th>\n      <td>02/10/2022</td>\n      <td>19.560530</td>\n      <td>14.260529</td>\n      <td>17.118862</td>\n      <td>480.000000</td>\n      <td>13.254948</td>\n      <td>0.000000</td>\n      <td>88</td>\n      <td>62</td>\n      <td>75.708336</td>\n      <td>1022.8</td>\n      <td>1020.2</td>\n      <td>1021.20416</td>\n      <td>8.547514</td>\n      <td>1.565247</td>\n      <td>5.617112</td>\n      <td>263.698400</td>\n    </tr>\n    <tr>\n      <th>5388</th>\n      <td>03/10/2022</td>\n      <td>18.200530</td>\n      <td>11.390529</td>\n      <td>14.677612</td>\n      <td>440.240400</td>\n      <td>13.985458</td>\n      <td>0.000000</td>\n      <td>93</td>\n      <td>59</td>\n      <td>78.083336</td>\n      <td>1026.3</td>\n      <td>1023.3</td>\n      <td>1024.75430</td>\n      <td>6.537584</td>\n      <td>0.282843</td>\n      <td>2.786462</td>\n      <td>347.471200</td>\n    </tr>\n    <tr>\n      <th>5389</th>\n      <td>04/10/2022</td>\n      <td>20.910528</td>\n      <td>8.400529</td>\n      <td>13.741363</td>\n      <td>566.983640</td>\n      <td>15.324732</td>\n      <td>0.000000</td>\n      <td>88</td>\n      <td>42</td>\n      <td>70.125000</td>\n      <td>1024.3</td>\n      <td>1020.6</td>\n      <td>1022.30835</td>\n      <td>4.554119</td>\n      <td>1.166190</td>\n      <td>2.962703</td>\n      <td>118.800026</td>\n    </tr>\n  </tbody>\n</table>\n<p>5390 rows × 17 columns</p>\n</div>"
     },
     "execution_count": 2,
     "metadata": {},
     "output_type": "execute_result"
    }
   ],
   "source": [
    "# Creating a dataframe from the CSV file\n",
    "data = pd.read_csv(\"weather_data.csv\")\n",
    "data"
   ],
   "metadata": {
    "collapsed": false,
    "pycharm": {
     "name": "#%%\n"
    }
   }
  },
  {
   "cell_type": "markdown",
   "source": [
    "*Let's represent data as an array of floats*\n",
    "\n",
    "*As the data is ordered by date, the Date column is not important, so we get rid of it*"
   ],
   "metadata": {
    "collapsed": false,
    "pycharm": {
     "name": "#%% md\n"
    }
   }
  },
  {
   "cell_type": "code",
   "execution_count": 3,
   "outputs": [
    {
     "data": {
      "text/plain": "array([[ 2.61052850e+00, -4.03947160e+00, -7.16971460e-01, ...,\n         4.00000000e-01,  3.42651750e+00,  1.10169304e+02],\n       [ 5.63052850e+00, -1.17947140e+00,  1.31219540e+00, ...,\n         9.00000000e-01,  4.62879600e+00,  1.11911970e+02],\n       [ 9.20052900e+00, -1.61947130e+00,  3.01219560e+00, ...,\n         1.50000000e+00,  3.37113700e+00,  1.14188460e+02],\n       ...,\n       [ 1.95605300e+01,  1.42605290e+01,  1.71188620e+01, ...,\n         1.56524750e+00,  5.61711170e+00,  2.63698400e+02],\n       [ 1.82005300e+01,  1.13905290e+01,  1.46776120e+01, ...,\n         2.82842730e-01,  2.78646250e+00,  3.47471200e+02],\n       [ 2.09105280e+01,  8.40052900e+00,  1.37413630e+01, ...,\n         1.16619040e+00,  2.96270280e+00,  1.18800026e+02]])"
     },
     "execution_count": 3,
     "metadata": {},
     "output_type": "execute_result"
    }
   ],
   "source": [
    "data_array = np.array(data.drop(columns=\"Date\").values)\n",
    "data_array"
   ],
   "metadata": {
    "collapsed": false,
    "pycharm": {
     "name": "#%%\n"
    }
   }
  },
  {
   "cell_type": "markdown",
   "source": [
    "*We'll also need each column as a separate array*"
   ],
   "metadata": {
    "collapsed": false,
    "pycharm": {
     "name": "#%% md\n"
    }
   }
  },
  {
   "cell_type": "code",
   "execution_count": 4,
   "outputs": [],
   "source": [
    "max_temp = np.array(data[\"Maximum Temperature (°C)\"])\n",
    "min_temp = np.array(data[\"Minimum Temperature (°C)\"])\n",
    "mean_temp = np.array(data[\"Mean Temperature (°C)\"])\n",
    "\n",
    "sunshine = np.array(data[\"Sunshine Duration (min)\"])\n",
    "radiation = np.array(data[\"Shortwave Radiation (MJ/m²)\"])\n",
    "precipitation = np.array(data[\"Precipitation (mm)\"])\n",
    "\n",
    "max_humidity = np.array(data[\"Maximum Relative Humidity (%)\"])\n",
    "min_humidity = np.array(data[\"Minimum Relative Humidity (%)\"])\n",
    "mean_humidity = np.array(data[\"Mean Relative Humidity (%)\"])\n",
    "\n",
    "max_pressure = np.array(data[\"Maximum Sea Level Pressure (hPa)\"])\n",
    "min_pressure = np.array(data[\"Minimum Relative Humidity (%)\"])\n",
    "mean_pressure = np.array(data[\"Mean Sea Level Pressure (hPa)\"])\n",
    "\n",
    "max_wind_speed = np.array(data[\"Maximum Wind Speed (m/s)\"])\n",
    "min_wind_speed = np.array(data[\"Minimum Wind Speed (m/s)\"])\n",
    "mean_wind_speed = np.array(data[\"Mean Wind Speed (m/s)\"])\n",
    "wind_direction = np.array(data[\"Wind Direction Dominant (°)\"])"
   ],
   "metadata": {
    "collapsed": false,
    "pycharm": {
     "name": "#%%\n"
    }
   }
  },
  {
   "cell_type": "markdown",
   "source": [
    "# Necessary functions to analyse the data"
   ],
   "metadata": {
    "collapsed": false,
    "pycharm": {
     "name": "#%% md\n"
    }
   }
  },
  {
   "cell_type": "code",
   "execution_count": 5,
   "outputs": [],
   "source": [
    "# Standardise / Destandardise data\n",
    "\n",
    "def to_standard(dataset):\n",
    "    return (dataset - min(dataset)) / (max(dataset) - min(dataset))\n",
    "\n",
    "def to_source(standard, source):\n",
    "    return standard * (max(source) - min(source)) + min(source)"
   ],
   "metadata": {
    "collapsed": false,
    "pycharm": {
     "name": "#%%\n"
    }
   }
  },
  {
   "cell_type": "code",
   "execution_count": 6,
   "outputs": [],
   "source": [
    "# This function returns an array of all sequential sub-arrays of n elements from the array\n",
    "\n",
    "def group(array, _n):\n",
    "    return np.array([array[i:i + _n] for i in range(len(array) - _n)])"
   ],
   "metadata": {
    "collapsed": false,
    "pycharm": {
     "name": "#%%\n"
    }
   }
  },
  {
   "cell_type": "code",
   "execution_count": 7,
   "outputs": [],
   "source": [
    "# This function splits dataset into train and test sets\n",
    "\n",
    "def split(dataset, point=0.8):\n",
    "    pivot = int(len(dataset) * point)\n",
    "    return dataset[:pivot], dataset[pivot:]"
   ],
   "metadata": {
    "collapsed": false,
    "pycharm": {
     "name": "#%%\n"
    }
   }
  },
  {
   "cell_type": "code",
   "execution_count": 8,
   "outputs": [],
   "source": [
    "# Error functions\n",
    "\n",
    "def MAE(real, predicted):\n",
    "    difference = abs(real - predicted)\n",
    "    return sum(difference) / len(difference)\n",
    "\n",
    "def MSE(real, predicted):\n",
    "    difference = abs(real - predicted)\n",
    "    return sum(difference ** 2) / (2 * len(difference))"
   ],
   "metadata": {
    "collapsed": false,
    "pycharm": {
     "name": "#%%\n"
    }
   }
  },
  {
   "cell_type": "markdown",
   "source": [
    "## What we are going to do:\n",
    "We are going to use 3 methods of training and predicting data:\n",
    "- For each table in dataframe predict data for the next day, according to the data from previous day of the same column\n",
    "- For each table in dataframe predict data for the next day, according to the data from n previous days of the same column\n",
    "- For each table in dataframe predict data for the next day, according to the data from previous day of the whole dataframe\n",
    "\n",
    "For each method we use both sklearn and regression libraries\n",
    "The results are compared with each other and with the zero theory(s)"
   ],
   "metadata": {
    "collapsed": false,
    "pycharm": {
     "name": "#%% md\n"
    }
   }
  },
  {
   "cell_type": "markdown",
   "source": [
    "# Method 1:\n",
    "In this method we are going to predict a particular weather parameter (ex. temperature) for \"tomorrow\",\n",
    "having only information about this parameter \"today\""
   ],
   "metadata": {
    "collapsed": false,
    "pycharm": {
     "name": "#%% md\n"
    }
   }
  },
  {
   "cell_type": "markdown",
   "source": [
    "Taking mean temperature as an example and creating datasets"
   ],
   "metadata": {
    "collapsed": false,
    "pycharm": {
     "name": "#%% md\n"
    }
   }
  },
  {
   "cell_type": "code",
   "execution_count": 9,
   "outputs": [],
   "source": [
    "data_train, data_test = split(mean_temp)\n",
    "\n",
    "X_train = data_train[:-1]\n",
    "y_train = data_train[1:]\n",
    "\n",
    "X_test = data_test[:-1]\n",
    "y_test = data_test[1:]"
   ],
   "metadata": {
    "collapsed": false,
    "pycharm": {
     "name": "#%%\n"
    }
   }
  },
  {
   "cell_type": "markdown",
   "source": [
    "*Scikit-learn model*"
   ],
   "metadata": {
    "collapsed": false,
    "pycharm": {
     "name": "#%% md\n"
    }
   }
  },
  {
   "cell_type": "code",
   "execution_count": 10,
   "outputs": [
    {
     "data": {
      "text/plain": "0.9146006523841227"
     },
     "execution_count": 10,
     "metadata": {},
     "output_type": "execute_result"
    }
   ],
   "source": [
    "skl_model = skl.LinearRegression()\n",
    "skl_model.fit(X_train.reshape(-1, 1), y_train)\n",
    "# Show the R value\n",
    "skl_model.score(X_train.reshape(-1, 1), y_train)"
   ],
   "metadata": {
    "collapsed": false,
    "pycharm": {
     "name": "#%%\n"
    }
   }
  },
  {
   "cell_type": "markdown",
   "source": [
    "*Prediction*"
   ],
   "metadata": {
    "collapsed": false,
    "pycharm": {
     "name": "#%% md\n"
    }
   }
  },
  {
   "cell_type": "code",
   "execution_count": 11,
   "outputs": [
    {
     "data": {
      "text/plain": "array([15.46849589, 15.61110053, 14.74432287, ..., 12.46984066,\n       16.90488524, 14.57104975])"
     },
     "execution_count": 11,
     "metadata": {},
     "output_type": "execute_result"
    }
   ],
   "source": [
    "prediction = skl_model.predict(X_test.reshape(-1, 1))\n",
    "prediction"
   ],
   "metadata": {
    "collapsed": false,
    "pycharm": {
     "name": "#%%\n"
    }
   }
  },
  {
   "cell_type": "markdown",
   "source": [
    "*Reality*"
   ],
   "metadata": {
    "collapsed": false,
    "pycharm": {
     "name": "#%% md\n"
    }
   }
  },
  {
   "cell_type": "code",
   "execution_count": 12,
   "outputs": [
    {
     "data": {
      "text/plain": "array([15.765531, 14.85886 , 15.000527, ..., 17.118862, 14.677612,\n       13.741363])"
     },
     "execution_count": 12,
     "metadata": {},
     "output_type": "execute_result"
    }
   ],
   "source": [
    "y_test"
   ],
   "metadata": {
    "collapsed": false,
    "pycharm": {
     "name": "#%%\n"
    }
   }
  },
  {
   "cell_type": "markdown",
   "source": [
    "*Error values*"
   ],
   "metadata": {
    "collapsed": false,
    "pycharm": {
     "name": "#%% md\n"
    }
   }
  },
  {
   "cell_type": "code",
   "execution_count": 13,
   "outputs": [
    {
     "name": "stdout",
     "output_type": "stream",
     "text": [
      "Mean Absolute Error: 1.6468385480344996\n",
      "Mean Squared Error: 2.3136632848913203\n"
     ]
    }
   ],
   "source": [
    "print(\"Mean Absolute Error:\", MAE(y_test, prediction))\n",
    "print(\"Mean Squared Error:\", MSE(y_test, prediction))"
   ],
   "metadata": {
    "collapsed": false,
    "pycharm": {
     "name": "#%%\n"
    }
   }
  },
  {
   "cell_type": "markdown",
   "source": [
    "*Let's do the same operation with my own regression model*"
   ],
   "metadata": {
    "collapsed": false,
    "pycharm": {
     "name": "#%% md\n"
    }
   }
  },
  {
   "cell_type": "code",
   "execution_count": 14,
   "outputs": [
    {
     "data": {
      "text/plain": "0.9146006523841227"
     },
     "execution_count": 14,
     "metadata": {},
     "output_type": "execute_result"
    }
   ],
   "source": [
    "reg_model = reg.LinearRegressor()\n",
    "reg_model.fit(X_train.reshape(-1, 1), y_train)\n",
    "# Show the R value\n",
    "reg_model.score(X_train, y_train)"
   ],
   "metadata": {
    "collapsed": false,
    "pycharm": {
     "name": "#%%\n"
    }
   }
  },
  {
   "cell_type": "markdown",
   "source": [
    "*Prediction*"
   ],
   "metadata": {
    "collapsed": false,
    "pycharm": {
     "name": "#%% md\n"
    }
   }
  },
  {
   "cell_type": "code",
   "source": [
    "prediction = skl_model.predict(X_test.reshape(-1, 1))\n",
    "prediction"
   ],
   "metadata": {
    "collapsed": false,
    "pycharm": {
     "name": "#%%\n"
    }
   },
   "execution_count": 15,
   "outputs": [
    {
     "data": {
      "text/plain": "array([15.46849589, 15.61110053, 14.74432287, ..., 12.46984066,\n       16.90488524, 14.57104975])"
     },
     "execution_count": 15,
     "metadata": {},
     "output_type": "execute_result"
    }
   ]
  },
  {
   "cell_type": "markdown",
   "source": [
    "*Error values*"
   ],
   "metadata": {
    "collapsed": false,
    "pycharm": {
     "name": "#%% md\n"
    }
   }
  },
  {
   "cell_type": "code",
   "execution_count": 16,
   "outputs": [
    {
     "name": "stdout",
     "output_type": "stream",
     "text": [
      "Mean Absolute Error: 1.6468385480344996\n",
      "Mean Squared Error: 2.3136632848913203\n"
     ]
    }
   ],
   "source": [
    "print(\"Mean Absolute Error:\", MAE(y_test, prediction))\n",
    "print(\"Mean Squared Error:\", MSE(y_test, prediction))"
   ],
   "metadata": {
    "collapsed": false,
    "pycharm": {
     "name": "#%%\n"
    }
   }
  },
  {
   "cell_type": "markdown",
   "source": [
    "## Results\n",
    "As we can see, the results of Scikit-learn model and regression library model are completely the same.\n",
    "We've got that for the first method:\n",
    "- Mean Absolute Error: 1.6468385480344996 K\n",
    "- Mean Squared Error: 2.3136632848913203 K\n",
    "\n",
    "***But how much sense do these results make?***\n",
    "\n",
    "## Zero theory\n",
    "*Zero theory is an assumption, that we can do to predict the data without Machine Learning,\n",
    "in order to compare its results with the ML-estimator's and to see if the using of the ML is reasonable*\n",
    "\n",
    "In this case, we can assume that the weather doesn't change very much from day to day.\n",
    "So, our *zero theory* will be that the next day the temperature wil be (approximately) the same as 'today'."
   ],
   "metadata": {
    "collapsed": false,
    "pycharm": {
     "name": "#%% md\n"
    }
   }
  },
  {
   "cell_type": "code",
   "execution_count": 17,
   "outputs": [],
   "source": [
    "# Estimator function of the first zero function\n",
    "# (we might have different zero functions for other methods)\n",
    "def zero_func1(X):\n",
    "    return X"
   ],
   "metadata": {
    "collapsed": false,
    "pycharm": {
     "name": "#%%\n"
    }
   }
  },
  {
   "cell_type": "markdown",
   "source": [
    "*Prediction*"
   ],
   "metadata": {
    "collapsed": false,
    "pycharm": {
     "name": "#%% md\n"
    }
   }
  },
  {
   "cell_type": "code",
   "execution_count": 18,
   "outputs": [
    {
     "data": {
      "text/plain": "array([15.616363, 15.765531, 14.85886 , ..., 12.479695, 17.118862,\n       14.677612])"
     },
     "execution_count": 18,
     "metadata": {},
     "output_type": "execute_result"
    }
   ],
   "source": [
    "prediction = zero_func1(X_test)\n",
    "prediction"
   ],
   "metadata": {
    "collapsed": false,
    "pycharm": {
     "name": "#%%\n"
    }
   }
  },
  {
   "cell_type": "markdown",
   "source": [
    "*Error values*"
   ],
   "metadata": {
    "collapsed": false,
    "pycharm": {
     "name": "#%% md\n"
    }
   }
  },
  {
   "cell_type": "code",
   "execution_count": 19,
   "outputs": [
    {
     "name": "stdout",
     "output_type": "stream",
     "text": [
      "Mean Absolute Error: 1.6384525693221936\n",
      "Mean Squared Error: 2.3680028320543958\n"
     ]
    }
   ],
   "source": [
    "print(\"Mean Absolute Error:\", MAE(y_test, prediction))\n",
    "print(\"Mean Squared Error:\", MSE(y_test, prediction))"
   ],
   "metadata": {
    "collapsed": false,
    "pycharm": {
     "name": "#%%\n"
    }
   }
  },
  {
   "cell_type": "markdown",
   "source": [
    "# Conclusion\n",
    "As we can see, the errors of the linear models are approximately the same as the errors of the zero-function.\n",
    "That means, that there is no use in linear models as we can make predictions with just the same quality just from an assumption.\n",
    "We obtained such result because the linear model had too little information to build a better estimator.\n",
    "The next methods are expected to be more effective."
   ],
   "metadata": {
    "collapsed": false,
    "pycharm": {
     "name": "#%% md\n"
    }
   }
  },
  {
   "cell_type": "markdown",
   "source": [
    "# Method 2:\n",
    "In this method we are going to predict a particular weather parameter (ex. pressure) for \"tomorrow\",\n",
    "having information about this parameter for the past *n* days."
   ],
   "metadata": {
    "collapsed": false,
    "pycharm": {
     "name": "#%% md\n"
    }
   }
  },
  {
   "cell_type": "code",
   "execution_count": 20,
   "outputs": [],
   "source": [
    "# First, let's pick some random n\n",
    "test_n = 5"
   ],
   "metadata": {
    "collapsed": false,
    "pycharm": {
     "name": "#%%\n"
    }
   }
  },
  {
   "cell_type": "code",
   "execution_count": 21,
   "outputs": [],
   "source": [
    "# Now we'll create new datasets with mean pressure as example\n",
    "data_train, data_test = split(mean_pressure)\n",
    "\n",
    "X_train = group(data_train, test_n)\n",
    "y_train = data_train[test_n:]\n",
    "\n",
    "X_test = group(data_test, test_n)\n",
    "y_test = data_test[test_n:]"
   ],
   "metadata": {
    "collapsed": false,
    "pycharm": {
     "name": "#%%\n"
    }
   }
  },
  {
   "cell_type": "code",
   "execution_count": 22,
   "outputs": [
    {
     "data": {
      "text/plain": "0.7127591598412133"
     },
     "execution_count": 22,
     "metadata": {},
     "output_type": "execute_result"
    }
   ],
   "source": [
    "# Scikit-learn model\n",
    "skl_model = skl.LinearRegression()\n",
    "skl_model.fit(X_train, y_train)\n",
    "# Show the R value\n",
    "skl_model.score(X_train, y_train)"
   ],
   "metadata": {
    "collapsed": false,
    "pycharm": {
     "name": "#%%\n"
    }
   }
  },
  {
   "cell_type": "markdown",
   "source": [
    "*Prediction*"
   ],
   "metadata": {
    "collapsed": false,
    "pycharm": {
     "name": "#%% md\n"
    }
   }
  },
  {
   "cell_type": "code",
   "execution_count": 23,
   "outputs": [
    {
     "data": {
      "text/plain": "array([1019.57327338, 1019.1199901 , 1018.67113904, ..., 1015.97976355,\n       1021.42841779, 1023.11275939])"
     },
     "execution_count": 23,
     "metadata": {},
     "output_type": "execute_result"
    }
   ],
   "source": [
    "prediction = skl_model.predict(X_test)\n",
    "prediction"
   ],
   "metadata": {
    "collapsed": false,
    "pycharm": {
     "name": "#%%\n"
    }
   }
  },
  {
   "cell_type": "markdown",
   "source": [
    "*Reality*"
   ],
   "metadata": {
    "collapsed": false,
    "pycharm": {
     "name": "#%% md\n"
    }
   }
  },
  {
   "cell_type": "code",
   "execution_count": 24,
   "outputs": [
    {
     "data": {
      "text/plain": "array([1019.9709 , 1019.3667 , 1021.7459 , ..., 1021.20416, 1024.7543 ,\n       1022.30835])"
     },
     "execution_count": 24,
     "metadata": {},
     "output_type": "execute_result"
    }
   ],
   "source": [
    "y_test"
   ],
   "metadata": {
    "collapsed": false,
    "pycharm": {
     "name": "#%%\n"
    }
   }
  },
  {
   "cell_type": "markdown",
   "source": [
    "*Error values*"
   ],
   "metadata": {
    "collapsed": false,
    "pycharm": {
     "name": "#%% md\n"
    }
   }
  },
  {
   "cell_type": "code",
   "execution_count": 25,
   "outputs": [
    {
     "name": "stdout",
     "output_type": "stream",
     "text": [
      "Mean Absolute Error: 3.2240711822864134\n",
      "Mean Squared Error: 10.188293257490312\n"
     ]
    }
   ],
   "source": [
    "print(\"Mean Absolute Error:\", MAE(y_test, prediction))\n",
    "print(\"Mean Squared Error:\", MSE(y_test, prediction))"
   ],
   "metadata": {
    "collapsed": false,
    "pycharm": {
     "name": "#%%\n"
    }
   }
  },
  {
   "cell_type": "markdown",
   "source": [
    "*Now test MultivariateRegressor of regression module*"
   ],
   "metadata": {
    "collapsed": false,
    "pycharm": {
     "name": "#%% md\n"
    }
   }
  },
  {
   "cell_type": "code",
   "execution_count": 26,
   "outputs": [
    {
     "data": {
      "text/plain": "0.7127591598412144"
     },
     "execution_count": 26,
     "metadata": {},
     "output_type": "execute_result"
    }
   ],
   "source": [
    "reg_model = reg.MultivariateRegressor(test_n)\n",
    "reg_model.fit(X_train, y_train)\n",
    "# Show the R value\n",
    "reg_model.score(X_train, y_train)"
   ],
   "metadata": {
    "collapsed": false,
    "pycharm": {
     "name": "#%%\n"
    }
   }
  },
  {
   "cell_type": "markdown",
   "source": [
    "*Prediction*"
   ],
   "metadata": {
    "collapsed": false,
    "pycharm": {
     "name": "#%% md\n"
    }
   }
  },
  {
   "cell_type": "code",
   "execution_count": 27,
   "outputs": [
    {
     "data": {
      "text/plain": "array([1019.5732734 , 1019.11999012, 1018.67113906, ..., 1015.97976357,\n       1021.42841781, 1023.11275941])"
     },
     "execution_count": 27,
     "metadata": {},
     "output_type": "execute_result"
    }
   ],
   "source": [
    "prediction = reg_model.predict(X_test)\n",
    "prediction"
   ],
   "metadata": {
    "collapsed": false,
    "pycharm": {
     "name": "#%%\n"
    }
   }
  },
  {
   "cell_type": "markdown",
   "source": [
    "*Error values*"
   ],
   "metadata": {
    "collapsed": false,
    "pycharm": {
     "name": "#%% md\n"
    }
   }
  },
  {
   "cell_type": "code",
   "execution_count": 28,
   "outputs": [
    {
     "name": "stdout",
     "output_type": "stream",
     "text": [
      "Mean Absolute Error: 3.224071181693679\n",
      "Mean Squared Error: 10.188293255390596\n"
     ]
    }
   ],
   "source": [
    "print(\"Mean Absolute Error:\", MAE(y_test, prediction))\n",
    "print(\"Mean Squared Error:\", MSE(y_test, prediction))"
   ],
   "metadata": {
    "collapsed": false,
    "pycharm": {
     "name": "#%%\n"
    }
   }
  },
  {
   "cell_type": "markdown",
   "source": [
    "***Note:*** *Don't be confused with the absolute values of errors looking just at the raw numbers.\n",
    "They are not 'larger' than the ones, there were in method 1.\n",
    "As you remember, in method 1 we were predicting temperature (in Celsius degrees),\n",
    "whereas now we are predicting pressure (in hectoPascale). So, they cannot be compared directly.\n",
    "To see how effective the model is, we will compare it to the zero theory, but before...*"
   ],
   "metadata": {
    "collapsed": false,
    "pycharm": {
     "name": "#%% md\n"
    }
   }
  },
  {
   "cell_type": "markdown",
   "source": [
    "# Optimising the value of n\n",
    "*If you play with the value of n, and run the code again, you can see, that the prediction also changes.\n",
    "That obviously means that the precision of the estimator depends on n.\n",
    "Now, as we want to train an estimator with the highest precision of predictions possible, we need to optimise the value of n.*\n",
    "\n",
    "In this example, we'll minimise the MAE function."
   ],
   "metadata": {
    "collapsed": false,
    "pycharm": {
     "name": "#%% md\n"
    }
   }
  },
  {
   "cell_type": "code",
   "execution_count": 29,
   "outputs": [],
   "source": [
    "# First, let's create of function of MAE on n:\n",
    "def n_to_MAE(n):\n",
    "    test_X_train = group(data_train, n)\n",
    "    test_y_train = data_train[n:]\n",
    "\n",
    "    test_X_test = group(data_test, n)\n",
    "    test_y_test = data_test[n:]\n",
    "\n",
    "    model = skl.LinearRegression()\n",
    "    model.fit(test_X_train, test_y_train)\n",
    "\n",
    "    test_prediction = model.predict(test_X_test)\n",
    "\n",
    "    return MAE(test_y_test, test_prediction)"
   ],
   "metadata": {
    "collapsed": false,
    "pycharm": {
     "name": "#%%\n"
    }
   }
  },
  {
   "cell_type": "markdown",
   "source": [
    "Although there are lots of different optimisation methods,\n",
    "in this particular case the easiest and the most sufficient way is just a simple enumeration"
   ],
   "metadata": {
    "collapsed": false,
    "pycharm": {
     "name": "#%% md\n"
    }
   }
  },
  {
   "cell_type": "code",
   "execution_count": 30,
   "outputs": [
    {
     "data": {
      "text/plain": "147"
     },
     "execution_count": 30,
     "metadata": {},
     "output_type": "execute_result"
    }
   ],
   "source": [
    "# using range up to 400, because 1 year is 365 days, which can be rounded up to 400\n",
    "optimal_n = 1\n",
    "for n in range(1, 400):\n",
    "    if n_to_MAE(n) < n_to_MAE(optimal_n):\n",
    "        optimal_n = n\n",
    "optimal_n"
   ],
   "metadata": {
    "collapsed": false,
    "pycharm": {
     "name": "#%%\n"
    }
   }
  },
  {
   "cell_type": "code",
   "execution_count": 31,
   "outputs": [],
   "source": [
    "# Creating new datasets split with optimal n = 147\n",
    "data_train, data_test = split(mean_pressure)\n",
    "\n",
    "X_train = group(data_train, optimal_n)\n",
    "y_train = data_train[optimal_n:]\n",
    "\n",
    "X_test = group(data_test, optimal_n)\n",
    "y_test = data_test[optimal_n:]"
   ],
   "metadata": {
    "collapsed": false,
    "pycharm": {
     "name": "#%%\n"
    }
   }
  },
  {
   "cell_type": "code",
   "execution_count": 32,
   "outputs": [],
   "source": [
    "# Training the model and making a prediction\n",
    "model = skl.LinearRegression()\n",
    "model.fit(X_train, y_train)\n",
    "prediction = model.predict(X_test)"
   ],
   "metadata": {
    "collapsed": false,
    "pycharm": {
     "name": "#%%\n"
    }
   }
  },
  {
   "cell_type": "code",
   "execution_count": 33,
   "outputs": [
    {
     "data": {
      "text/plain": "<FloatingArray>\n[1027.0518885164952, 1021.6400124233592, 1021.8699117996645,\n   1018.11410231894, 1017.5530914157034, 1021.5904110911827,\n 1027.7360412680102,  1023.545329985453,  1020.432741049831,\n 1015.5364251814304,\n ...\n 1013.8640483944607, 1014.6258366573825, 1009.3199500825806,\n 1005.6587125897677, 1003.2068192175697,  1006.386750135083,\n 1013.4450530983213, 1015.9608534376454, 1022.3074444287386,\n 1023.2499092152377]\nLength: 931, dtype: Float64"
     },
     "execution_count": 33,
     "metadata": {},
     "output_type": "execute_result"
    }
   ],
   "source": [
    "# Prediction\n",
    "pd.array(prediction)"
   ],
   "metadata": {
    "collapsed": false,
    "pycharm": {
     "name": "#%%\n"
    }
   }
  },
  {
   "cell_type": "markdown",
   "source": [
    "*Error values*"
   ],
   "metadata": {
    "collapsed": false,
    "pycharm": {
     "name": "#%% md\n"
    }
   }
  },
  {
   "cell_type": "code",
   "execution_count": 34,
   "outputs": [
    {
     "name": "stdout",
     "output_type": "stream",
     "text": [
      "Mean Absolute Error: 3.061828450299197\n",
      "Mean Squared Error: 8.797552368492019\n"
     ]
    }
   ],
   "source": [
    "print(\"Mean Absolute Error:\", MAE(y_test, prediction))\n",
    "print(\"Mean Squared Error:\", MSE(y_test, prediction))"
   ],
   "metadata": {
    "collapsed": false,
    "pycharm": {
     "name": "#%%\n"
    }
   }
  },
  {
   "cell_type": "markdown",
   "source": [
    "## Results\n",
    "As we can see, *Mean Absolute Error* decreased by ***5%*** and *Mean Squared Error* by ***13.7%*** after optimization, compared to initial n = 5\n",
    "We've got that for the first method:\n",
    "- Mean Absolute Error: 3.061828450299197 hPa\n",
    "- Mean Squared Error: 8.797552368492019 hPa\n",
    "\n",
    "## Zero theory\n",
    "In this case we can assume that the dataset can be split into such segments of length n,\n",
    "that the change of the given value can be approximated as linear.\n",
    "Then, the daily change will be *c = (X [ i ] - X [ i - n ]) / n* and *X [ i + 1 ] = X [ i ] + c*"
   ],
   "metadata": {
    "collapsed": false,
    "pycharm": {
     "name": "#%% md\n"
    }
   }
  },
  {
   "cell_type": "code",
   "execution_count": 35,
   "outputs": [],
   "source": [
    "def zero_func2(X):\n",
    "    return np.array([x[-1] + (x[-1] - x[0]) / len(x) for x in X])"
   ],
   "metadata": {
    "collapsed": false,
    "pycharm": {
     "name": "#%%\n"
    }
   }
  },
  {
   "cell_type": "markdown",
   "source": [
    "Note, that for zero theory optimal value for n might be different, so we'll find it once more"
   ],
   "metadata": {
    "collapsed": false,
    "pycharm": {
     "name": "#%% md\n"
    }
   }
  },
  {
   "cell_type": "code",
   "execution_count": 36,
   "outputs": [],
   "source": [
    "def zero_MAE(n):\n",
    "    test_X_test = group(data_test, n)\n",
    "    test_y_test = data_test[n:]\n",
    "\n",
    "    test_prediction = zero_func2(test_X_test)\n",
    "    return MAE(test_y_test, test_prediction)"
   ],
   "metadata": {
    "collapsed": false,
    "pycharm": {
     "name": "#%%\n"
    }
   }
  },
  {
   "cell_type": "code",
   "execution_count": 37,
   "outputs": [
    {
     "data": {
      "text/plain": "139"
     },
     "execution_count": 37,
     "metadata": {},
     "output_type": "execute_result"
    }
   ],
   "source": [
    "optimal_n = 1\n",
    "for n in range(1, 400):\n",
    "    if zero_MAE(n) < zero_MAE(optimal_n):\n",
    "        optimal_n = n\n",
    "optimal_n"
   ],
   "metadata": {
    "collapsed": false,
    "pycharm": {
     "name": "#%%\n"
    }
   }
  },
  {
   "cell_type": "code",
   "execution_count": 38,
   "outputs": [],
   "source": [
    "# Creating new datasets split with optimal n = 139\n",
    "data_test = split(mean_pressure)[1]\n",
    "\n",
    "X_test = group(data_test, optimal_n)\n",
    "y_test = data_test[optimal_n:]"
   ],
   "metadata": {
    "collapsed": false,
    "pycharm": {
     "name": "#%%\n"
    }
   }
  },
  {
   "cell_type": "code",
   "execution_count": 39,
   "outputs": [],
   "source": [
    "prediction = zero_func2(X_test)"
   ],
   "metadata": {
    "collapsed": false,
    "pycharm": {
     "name": "#%%\n"
    }
   }
  },
  {
   "cell_type": "code",
   "execution_count": 40,
   "outputs": [
    {
     "name": "stdout",
     "output_type": "stream",
     "text": [
      "Mean Absolute Error: 3.3721915684832364\n",
      "Mean Squared Error: 10.604314636986622\n"
     ]
    }
   ],
   "source": [
    "print(\"Mean Absolute Error:\", MAE(y_test, prediction))\n",
    "print(\"Mean Squared Error:\", MSE(y_test, prediction))"
   ],
   "metadata": {
    "collapsed": false,
    "pycharm": {
     "name": "#%%\n"
    }
   }
  },
  {
   "cell_type": "markdown",
   "source": [
    "# Conclusion\n",
    "In our experiment we calculated that Linear Model shows *9.2%* lower Mean Absolute Error and *17%* lower Mean Squared Error.\n",
    "These results are not too impressive, but having that it doesn't take a lot of time to train, that definitely worth it.\n",
    "Overall Mean Absolute Error makes about 3 hPa, or *3%* of the mean value.\n",
    "The results can be improved by providing larger datasets and/or using different models."
   ],
   "metadata": {
    "collapsed": false,
    "pycharm": {
     "name": "#%% md\n"
    }
   }
  },
  {
   "cell_type": "markdown",
   "source": [
    "# Method 3\n",
    "In this method we are going to predict a particular weather parameter (ex. humidity) for \"tomorrow\",\n",
    "having information about all the parameters for \"today\"."
   ],
   "metadata": {
    "collapsed": false,
    "pycharm": {
     "name": "#%% md\n"
    }
   }
  },
  {
   "cell_type": "code",
   "execution_count": 41,
   "outputs": [],
   "source": [
    "# Creating datasets\n",
    "data_train, data_test = split(data_array)\n",
    "\n",
    "X_train = data_train[:-1]\n",
    "X_test = data_test[:-1]\n",
    "\n",
    "data_train, data_test = split(mean_humidity)\n",
    "\n",
    "y_train = data_train[1:]\n",
    "y_test = data_test[1:]"
   ],
   "metadata": {
    "collapsed": false,
    "pycharm": {
     "name": "#%%\n"
    }
   }
  },
  {
   "cell_type": "markdown",
   "source": [
    "## Data Standardisation\n",
    "In this method we use different parameters with a wide range of values, different variation and different units.\n",
    "It is known that Linear Regression doesn't work well enough with such kind of data.\n",
    "To handle this, we need to standardise the data.\n",
    "Standardisation is a method of representing the data in such way, that it fits in range from 0 to 1,\n",
    "where 0 and 1 correspond to the minimum and maximum values in the dataset, and all the variations remain in proportion.\n",
    "This can be achieved by the following formula: *standardised = (original - min) / (max - min)*"
   ],
   "metadata": {
    "collapsed": false,
    "pycharm": {
     "name": "#%% md\n"
    }
   }
  },
  {
   "cell_type": "code",
   "execution_count": 42,
   "outputs": [
    {
     "data": {
      "text/plain": "array([[0.00647555, 0.        , 0.00323534, ..., 0.00432301, 0.00727014,\n        0.11121276],\n       [0.00672009, 0.        , 0.00245877, ..., 0.00205202, 0.00573158,\n        0.11159831],\n       [0.0106515 , 0.        , 0.00455954, ..., 0.00307089, 0.00491289,\n        0.11400444],\n       ...,\n       [0.01786508, 0.01268466, 0.01466109, ..., 0.00049432, 0.00355743,\n        0.13482435],\n       [0.02255498, 0.01111934, 0.01665151, ..., 0.00093929, 0.00365002,\n        0.11652841],\n       [0.0173302 , 0.01129951, 0.01476854, ..., 0.        , 0.00203992,\n        0.3118153 ]])"
     },
     "execution_count": 42,
     "metadata": {},
     "output_type": "execute_result"
    }
   ],
   "source": [
    "# Converting data into standard\n",
    "X_train = np.array([to_standard(i) for i in X_train])\n",
    "X_test = np.array([to_standard(i) for i in X_test])\n",
    "y_train = to_standard(y_train)\n",
    "y_test = to_standard(y_test)\n",
    "\n",
    "X_train"
   ],
   "metadata": {
    "collapsed": false,
    "pycharm": {
     "name": "#%%\n"
    }
   }
  },
  {
   "cell_type": "markdown",
   "source": [
    "As you can see, there is no variation in column 9\n",
    "So, this column doesn't give us any useful information\n",
    "Let's then, just get rid of it"
   ],
   "metadata": {
    "collapsed": false,
    "pycharm": {
     "name": "#%% md\n"
    }
   }
  },
  {
   "cell_type": "code",
   "execution_count": 43,
   "outputs": [],
   "source": [
    "X_train = np.delete(X_train, 9, 1)\n",
    "X_test = np.delete(X_test, 9, 1)"
   ],
   "metadata": {
    "collapsed": false,
    "pycharm": {
     "name": "#%%\n"
    }
   }
  },
  {
   "cell_type": "markdown",
   "source": [
    "Training and scoring the model"
   ],
   "metadata": {
    "collapsed": false,
    "pycharm": {
     "name": "#%% md\n"
    }
   }
  },
  {
   "cell_type": "code",
   "execution_count": 44,
   "outputs": [
    {
     "data": {
      "text/plain": "0.4892230346333346"
     },
     "execution_count": 44,
     "metadata": {},
     "output_type": "execute_result"
    }
   ],
   "source": [
    "reg_model = reg.MultivariateRegressor(test_n)\n",
    "reg_model.fit(X_train, y_train)\n",
    "reg_model.score(X_train, y_train)"
   ],
   "metadata": {
    "collapsed": false,
    "pycharm": {
     "name": "#%%\n"
    }
   }
  },
  {
   "cell_type": "markdown",
   "source": [
    "R value is relatively low, which means that predictions can be less accurate"
   ],
   "metadata": {
    "collapsed": false,
    "pycharm": {
     "name": "#%% md\n"
    }
   }
  },
  {
   "cell_type": "code",
   "execution_count": 45,
   "outputs": [],
   "source": [
    "prediction = reg_model.predict(X_test)"
   ],
   "metadata": {
    "collapsed": false,
    "pycharm": {
     "name": "#%%\n"
    }
   }
  },
  {
   "cell_type": "code",
   "execution_count": 46,
   "outputs": [
    {
     "name": "stdout",
     "output_type": "stream",
     "text": [
      "Mean Absolute Error: 5.467852629220432\n",
      "Mean Squared Error: 0.38812686947544506\n"
     ]
    }
   ],
   "source": [
    "print(\"Mean Absolute Error:\", MAE(y_test, prediction) * (max(mean_humidity) - min(mean_humidity)))\n",
    "print(\"Mean Squared Error:\", MSE(y_test, prediction) * (max(mean_humidity) - min(mean_humidity)))"
   ],
   "metadata": {
    "collapsed": false,
    "pycharm": {
     "name": "#%%\n"
    }
   }
  },
  {
   "cell_type": "markdown",
   "source": [
    "Doing the same operations with the Scikit-Learn model to compare"
   ],
   "metadata": {
    "collapsed": false,
    "pycharm": {
     "name": "#%% md\n"
    }
   }
  },
  {
   "cell_type": "code",
   "execution_count": 47,
   "outputs": [
    {
     "data": {
      "text/plain": "0.4892230346333346"
     },
     "execution_count": 47,
     "metadata": {},
     "output_type": "execute_result"
    }
   ],
   "source": [
    "skl_model = skl.LinearRegression()\n",
    "skl_model.fit(X_train, y_train)\n",
    "skl_model.score(X_train, y_train)"
   ],
   "metadata": {
    "collapsed": false,
    "pycharm": {
     "name": "#%%\n"
    }
   }
  },
  {
   "cell_type": "code",
   "execution_count": 48,
   "outputs": [],
   "source": [
    "prediction = reg_model.predict(X_test)"
   ],
   "metadata": {
    "collapsed": false,
    "pycharm": {
     "name": "#%%\n"
    }
   }
  },
  {
   "cell_type": "code",
   "execution_count": 49,
   "outputs": [
    {
     "name": "stdout",
     "output_type": "stream",
     "text": [
      "Mean Absolute Error: 5.467852629220432\n",
      "Mean Squared Error: 0.38812686947544506\n"
     ]
    }
   ],
   "source": [
    "print(\"Mean Absolute Error:\", MAE(y_test, prediction) * (max(mean_humidity) - min(mean_humidity)))\n",
    "print(\"Mean Squared Error:\", MSE(y_test, prediction) * (max(mean_humidity) - min(mean_humidity)))"
   ],
   "metadata": {
    "collapsed": false,
    "pycharm": {
     "name": "#%%\n"
    }
   }
  },
  {
   "cell_type": "markdown",
   "source": [
    "Now there is no surprise that results are identical"
   ],
   "metadata": {
    "collapsed": false
   }
  },
  {
   "cell_type": "markdown",
   "source": [
    "## Zero theory\n",
    "Though, most probably, there are some correlations between the various parameters,\n",
    "I don't see a way to make any reasonable assumption, any better than the one, we've already seen in the method 1.\n",
    "\n",
    "You can try to figure out one, but remember, that it shouldn't be too complicated:\n",
    "You don't need to train a model, where it is easier to make an assumption that is going to be as precise,\n",
    "but if for making such kind of assumption you have to train yourself to become a meteorologist, it is easier to train model anyway.\n",
    "\n",
    "Now, as we don't have anything better, we'll use an assumption from the first method."
   ],
   "metadata": {
    "collapsed": false,
    "pycharm": {
     "name": "#%% md\n"
    }
   }
  },
  {
   "cell_type": "code",
   "execution_count": 50,
   "outputs": [],
   "source": [
    "prediction = to_standard(zero_func1(split(mean_humidity)[1][:-1]))"
   ],
   "metadata": {
    "collapsed": false,
    "pycharm": {
     "name": "#%%\n"
    }
   }
  },
  {
   "cell_type": "code",
   "execution_count": 51,
   "outputs": [
    {
     "name": "stdout",
     "output_type": "stream",
     "text": [
      "Mean Absolute Error: 5.9436319999999965\n",
      "Mean Squared Error: 0.48390273750628265\n"
     ]
    }
   ],
   "source": [
    "print(\"Mean Absolute Error:\", MAE(y_test, prediction) * (max(mean_humidity) - min(mean_humidity)))\n",
    "print(\"Mean Squared Error:\", MSE(y_test, prediction) * (max(mean_humidity) - min(mean_humidity)))"
   ],
   "metadata": {
    "collapsed": false,
    "pycharm": {
     "name": "#%%\n"
    }
   }
  },
  {
   "cell_type": "markdown",
   "source": [
    "# Results and conclusion\n",
    "As a result of this experiment we created an estimator, making predictions for mean humidity with:\n",
    "- Mean Absolute Error of *5.47% of humidity*, which is *8% (relatively)* lower than such for the zero theory.\n",
    "- Mean Squared Error of *0.39% of humidity*, which is *19.8% (relatively)* lower than such for the zero theory.\n",
    "\n",
    "It is barely possible to distinguish whether these results are better or worse than the ones for method 2, so we need more experiments for that.\n",
    "Most probably you need to try both methods for each column and then choose which one is more precise.\n",
    "Thus, and then by improving the models on larger datasets you can create a full functional weather forecast program.\n",
    "(But don't forget to test models on different datasets to be sure that it is not over-fit)"
   ],
   "metadata": {
    "collapsed": false,
    "pycharm": {
     "name": "#%% md\n"
    }
   }
  }
 ],
 "metadata": {
  "kernelspec": {
   "display_name": "Python 3",
   "language": "python",
   "name": "python3"
  },
  "language_info": {
   "codemirror_mode": {
    "name": "ipython",
    "version": 2
   },
   "file_extension": ".py",
   "mimetype": "text/x-python",
   "name": "python",
   "nbconvert_exporter": "python",
   "pygments_lexer": "ipython2",
   "version": "2.7.6"
  }
 },
 "nbformat": 4,
 "nbformat_minor": 0
}