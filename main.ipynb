{
 "cells": [
  {
   "cell_type": "code",
   "execution_count": 1,
   "metadata": {
    "collapsed": true
   },
   "outputs": [],
   "source": [
    "import pandas as pd\n",
    "import numpy as np\n",
    "from sklearn import linear_model as skl\n",
    "from regression import Regressors as reg"
   ]
  },
  {
   "cell_type": "code",
   "execution_count": 2,
   "outputs": [
    {
     "data": {
      "text/plain": "            Date  Maximum Temperature (°C)  Minimum Temperature (°C)  \\\n0     02/01/2008                  2.610529                 -4.039472   \n1     03/01/2008                  5.630528                 -1.179471   \n2     04/01/2008                  9.200529                 -1.619471   \n3     05/01/2008                 10.950529                  2.600528   \n4     06/01/2008                  8.540529                  5.860529   \n...          ...                       ...                       ...   \n5385  30/09/2022                 16.190529                  6.340528   \n5386  01/10/2022                 16.310530                  8.130529   \n5387  02/10/2022                 19.560530                 14.260529   \n5388  03/10/2022                 18.200530                 11.390529   \n5389  04/10/2022                 20.910528                  8.400529   \n\n      Mean Temperature (°C)  Sunshine Duration (min)  \\\n0                 -0.716971               220.386890   \n1                  1.312195               149.133350   \n2                  3.012196               132.000000   \n3                  7.090530                 0.000000   \n4                  7.061361               134.042560   \n...                     ...                      ...   \n5385              11.649693               307.843630   \n5386              12.479695                41.554966   \n5387              17.118862               480.000000   \n5388              14.677612               440.240400   \n5389              13.741363               566.983640   \n\n      Shortwave Radiation (MJ/m²)  Precipitation (mm)  \\\n0                        5.264172            0.000000   \n1                        4.194036            0.000000   \n2                        4.972608            0.000000   \n3                        2.124252            1.500000   \n4                        2.159496            8.800001   \n...                           ...                 ...   \n5385                    15.103656            0.000000   \n5386                     5.920992            0.500000   \n5387                    13.254948            0.000000   \n5388                    13.985458            0.000000   \n5389                    15.324732            0.000000   \n\n      Maximum Relative Humidity (%)  Minimum Relative Humidity (%)  \\\n0                                96                             59   \n1                                97                             66   \n2                                96                             60   \n3                                89                             57   \n4                                98                             76   \n...                             ...                            ...   \n5385                             93                             53   \n5386                             86                             61   \n5387                             88                             62   \n5388                             93                             59   \n5389                             88                             42   \n\n      Mean Relative Humidity (%)  Maximum Sea Level Pressure (hPa)  \\\n0                      73.500000                            1022.9   \n1                      79.291664                            1012.2   \n2                      80.000000                            1014.2   \n3                      70.583336                            1015.1   \n4                      90.250000                            1019.7   \n...                          ...                               ...   \n5385                   73.875000                            1014.0   \n5386                   73.750000                            1019.9   \n5387                   75.708336                            1022.8   \n5388                   78.083336                            1026.3   \n5389                   70.125000                            1024.3   \n\n      Minimum Sea Level Pressure (hPa)  Mean Sea Level Pressure (hPa)  \\\n0                               1012.3                     1018.27094   \n1                               1004.9                     1007.71246   \n2                               1007.6                     1010.79987   \n3                               1008.6                     1012.06670   \n4                               1006.1                     1013.62915   \n...                                ...                            ...   \n5385                            1007.2                     1010.52910   \n5386                            1013.5                     1015.44165   \n5387                            1020.2                     1021.20416   \n5388                            1023.3                     1024.75430   \n5389                            1020.6                     1022.30835   \n\n      Maximum Wind Speed (m/s)  Minimum Wind Speed (m/s)  \\\n0                     5.536244                  0.400000   \n1                     6.673080                  0.900000   \n2                     5.292448                  1.500000   \n3                     6.946222                  1.421267   \n4                     7.102817                  0.900000   \n...                        ...                       ...   \n5385                  1.964688                  0.316228   \n5386                  9.411164                  1.552418   \n5387                  8.547514                  1.565247   \n5388                  6.537584                  0.282843   \n5389                  4.554119                  1.166190   \n\n      Mean Wind Speed (m/s)  Wind Direction Dominant (°)  \n0                  3.426518                   110.169304  \n1                  4.628796                   111.911970  \n2                  3.371137                   114.188460  \n3                  3.831986                   201.784740  \n4                  3.537873                   246.239300  \n...                     ...                          ...  \n5385               1.089594                   283.240500  \n5386               4.244933                   237.491330  \n5387               5.617112                   263.698400  \n5388               2.786462                   347.471200  \n5389               2.962703                   118.800026  \n\n[5390 rows x 17 columns]",
      "text/html": "<div>\n<style scoped>\n    .dataframe tbody tr th:only-of-type {\n        vertical-align: middle;\n    }\n\n    .dataframe tbody tr th {\n        vertical-align: top;\n    }\n\n    .dataframe thead th {\n        text-align: right;\n    }\n</style>\n<table border=\"1\" class=\"dataframe\">\n  <thead>\n    <tr style=\"text-align: right;\">\n      <th></th>\n      <th>Date</th>\n      <th>Maximum Temperature (°C)</th>\n      <th>Minimum Temperature (°C)</th>\n      <th>Mean Temperature (°C)</th>\n      <th>Sunshine Duration (min)</th>\n      <th>Shortwave Radiation (MJ/m²)</th>\n      <th>Precipitation (mm)</th>\n      <th>Maximum Relative Humidity (%)</th>\n      <th>Minimum Relative Humidity (%)</th>\n      <th>Mean Relative Humidity (%)</th>\n      <th>Maximum Sea Level Pressure (hPa)</th>\n      <th>Minimum Sea Level Pressure (hPa)</th>\n      <th>Mean Sea Level Pressure (hPa)</th>\n      <th>Maximum Wind Speed (m/s)</th>\n      <th>Minimum Wind Speed (m/s)</th>\n      <th>Mean Wind Speed (m/s)</th>\n      <th>Wind Direction Dominant (°)</th>\n    </tr>\n  </thead>\n  <tbody>\n    <tr>\n      <th>0</th>\n      <td>02/01/2008</td>\n      <td>2.610529</td>\n      <td>-4.039472</td>\n      <td>-0.716971</td>\n      <td>220.386890</td>\n      <td>5.264172</td>\n      <td>0.000000</td>\n      <td>96</td>\n      <td>59</td>\n      <td>73.500000</td>\n      <td>1022.9</td>\n      <td>1012.3</td>\n      <td>1018.27094</td>\n      <td>5.536244</td>\n      <td>0.400000</td>\n      <td>3.426518</td>\n      <td>110.169304</td>\n    </tr>\n    <tr>\n      <th>1</th>\n      <td>03/01/2008</td>\n      <td>5.630528</td>\n      <td>-1.179471</td>\n      <td>1.312195</td>\n      <td>149.133350</td>\n      <td>4.194036</td>\n      <td>0.000000</td>\n      <td>97</td>\n      <td>66</td>\n      <td>79.291664</td>\n      <td>1012.2</td>\n      <td>1004.9</td>\n      <td>1007.71246</td>\n      <td>6.673080</td>\n      <td>0.900000</td>\n      <td>4.628796</td>\n      <td>111.911970</td>\n    </tr>\n    <tr>\n      <th>2</th>\n      <td>04/01/2008</td>\n      <td>9.200529</td>\n      <td>-1.619471</td>\n      <td>3.012196</td>\n      <td>132.000000</td>\n      <td>4.972608</td>\n      <td>0.000000</td>\n      <td>96</td>\n      <td>60</td>\n      <td>80.000000</td>\n      <td>1014.2</td>\n      <td>1007.6</td>\n      <td>1010.79987</td>\n      <td>5.292448</td>\n      <td>1.500000</td>\n      <td>3.371137</td>\n      <td>114.188460</td>\n    </tr>\n    <tr>\n      <th>3</th>\n      <td>05/01/2008</td>\n      <td>10.950529</td>\n      <td>2.600528</td>\n      <td>7.090530</td>\n      <td>0.000000</td>\n      <td>2.124252</td>\n      <td>1.500000</td>\n      <td>89</td>\n      <td>57</td>\n      <td>70.583336</td>\n      <td>1015.1</td>\n      <td>1008.6</td>\n      <td>1012.06670</td>\n      <td>6.946222</td>\n      <td>1.421267</td>\n      <td>3.831986</td>\n      <td>201.784740</td>\n    </tr>\n    <tr>\n      <th>4</th>\n      <td>06/01/2008</td>\n      <td>8.540529</td>\n      <td>5.860529</td>\n      <td>7.061361</td>\n      <td>134.042560</td>\n      <td>2.159496</td>\n      <td>8.800001</td>\n      <td>98</td>\n      <td>76</td>\n      <td>90.250000</td>\n      <td>1019.7</td>\n      <td>1006.1</td>\n      <td>1013.62915</td>\n      <td>7.102817</td>\n      <td>0.900000</td>\n      <td>3.537873</td>\n      <td>246.239300</td>\n    </tr>\n    <tr>\n      <th>...</th>\n      <td>...</td>\n      <td>...</td>\n      <td>...</td>\n      <td>...</td>\n      <td>...</td>\n      <td>...</td>\n      <td>...</td>\n      <td>...</td>\n      <td>...</td>\n      <td>...</td>\n      <td>...</td>\n      <td>...</td>\n      <td>...</td>\n      <td>...</td>\n      <td>...</td>\n      <td>...</td>\n      <td>...</td>\n    </tr>\n    <tr>\n      <th>5385</th>\n      <td>30/09/2022</td>\n      <td>16.190529</td>\n      <td>6.340528</td>\n      <td>11.649693</td>\n      <td>307.843630</td>\n      <td>15.103656</td>\n      <td>0.000000</td>\n      <td>93</td>\n      <td>53</td>\n      <td>73.875000</td>\n      <td>1014.0</td>\n      <td>1007.2</td>\n      <td>1010.52910</td>\n      <td>1.964688</td>\n      <td>0.316228</td>\n      <td>1.089594</td>\n      <td>283.240500</td>\n    </tr>\n    <tr>\n      <th>5386</th>\n      <td>01/10/2022</td>\n      <td>16.310530</td>\n      <td>8.130529</td>\n      <td>12.479695</td>\n      <td>41.554966</td>\n      <td>5.920992</td>\n      <td>0.500000</td>\n      <td>86</td>\n      <td>61</td>\n      <td>73.750000</td>\n      <td>1019.9</td>\n      <td>1013.5</td>\n      <td>1015.44165</td>\n      <td>9.411164</td>\n      <td>1.552418</td>\n      <td>4.244933</td>\n      <td>237.491330</td>\n    </tr>\n    <tr>\n      <th>5387</th>\n      <td>02/10/2022</td>\n      <td>19.560530</td>\n      <td>14.260529</td>\n      <td>17.118862</td>\n      <td>480.000000</td>\n      <td>13.254948</td>\n      <td>0.000000</td>\n      <td>88</td>\n      <td>62</td>\n      <td>75.708336</td>\n      <td>1022.8</td>\n      <td>1020.2</td>\n      <td>1021.20416</td>\n      <td>8.547514</td>\n      <td>1.565247</td>\n      <td>5.617112</td>\n      <td>263.698400</td>\n    </tr>\n    <tr>\n      <th>5388</th>\n      <td>03/10/2022</td>\n      <td>18.200530</td>\n      <td>11.390529</td>\n      <td>14.677612</td>\n      <td>440.240400</td>\n      <td>13.985458</td>\n      <td>0.000000</td>\n      <td>93</td>\n      <td>59</td>\n      <td>78.083336</td>\n      <td>1026.3</td>\n      <td>1023.3</td>\n      <td>1024.75430</td>\n      <td>6.537584</td>\n      <td>0.282843</td>\n      <td>2.786462</td>\n      <td>347.471200</td>\n    </tr>\n    <tr>\n      <th>5389</th>\n      <td>04/10/2022</td>\n      <td>20.910528</td>\n      <td>8.400529</td>\n      <td>13.741363</td>\n      <td>566.983640</td>\n      <td>15.324732</td>\n      <td>0.000000</td>\n      <td>88</td>\n      <td>42</td>\n      <td>70.125000</td>\n      <td>1024.3</td>\n      <td>1020.6</td>\n      <td>1022.30835</td>\n      <td>4.554119</td>\n      <td>1.166190</td>\n      <td>2.962703</td>\n      <td>118.800026</td>\n    </tr>\n  </tbody>\n</table>\n<p>5390 rows × 17 columns</p>\n</div>"
     },
     "execution_count": 2,
     "metadata": {},
     "output_type": "execute_result"
    }
   ],
   "source": [
    "# Creating a dataset from the CSV file\n",
    "data = pd.read_csv(\"weather_data.csv\")\n",
    "data"
   ],
   "metadata": {
    "collapsed": false,
    "pycharm": {
     "name": "#%%\n"
    }
   }
  },
  {
   "cell_type": "code",
   "execution_count": 3,
   "outputs": [
    {
     "data": {
      "text/plain": "array([[ 2.61052850e+00, -4.03947160e+00, -7.16971460e-01, ...,\n         4.00000000e-01,  3.42651750e+00,  1.10169304e+02],\n       [ 5.63052850e+00, -1.17947140e+00,  1.31219540e+00, ...,\n         9.00000000e-01,  4.62879600e+00,  1.11911970e+02],\n       [ 9.20052900e+00, -1.61947130e+00,  3.01219560e+00, ...,\n         1.50000000e+00,  3.37113700e+00,  1.14188460e+02],\n       ...,\n       [ 1.95605300e+01,  1.42605290e+01,  1.71188620e+01, ...,\n         1.56524750e+00,  5.61711170e+00,  2.63698400e+02],\n       [ 1.82005300e+01,  1.13905290e+01,  1.46776120e+01, ...,\n         2.82842730e-01,  2.78646250e+00,  3.47471200e+02],\n       [ 2.09105280e+01,  8.40052900e+00,  1.37413630e+01, ...,\n         1.16619040e+00,  2.96270280e+00,  1.18800026e+02]])"
     },
     "execution_count": 3,
     "metadata": {},
     "output_type": "execute_result"
    }
   ],
   "source": [
    "# Let's represent data as an array of floats\n",
    "# As the data is ordered by date, the Date column is not important, so we get rid of it\n",
    "data_array = np.array(data.drop(columns=\"Date\").values)\n",
    "data_array"
   ],
   "metadata": {
    "collapsed": false,
    "pycharm": {
     "name": "#%%\n"
    }
   }
  },
  {
   "cell_type": "code",
   "execution_count": 5,
   "outputs": [],
   "source": [
    "# We'll also need each column as a separate array\n",
    "\n",
    "max_temp = np.array(data[\"Maximum Temperature (°C)\"])\n",
    "min_temp = np.array(data[\"Minimum Temperature (°C)\"])\n",
    "mean_temp = np.array(data[\"Mean Temperature (°C)\"])\n",
    "\n",
    "sunshine = np.array(data[\"Sunshine Duration (min)\"])\n",
    "radiation = np.array(data[\"Shortwave Radiation (MJ/m²)\"])\n",
    "precipitation = np.array(data[\"Precipitation (mm)\"])\n",
    "\n",
    "max_humidity = np.array(data[\"Maximum Relative Humidity (%)\"])\n",
    "min_humidity = np.array(data[\"Minimum Relative Humidity (%)\"])\n",
    "mean_humidity = np.array(data[\"Mean Relative Humidity (%)\"])\n",
    "\n",
    "max_pressure = np.array(data[\"Maximum Sea Level Pressure (hPa)\"])\n",
    "min_pressure = np.array(data[\"Minimum Relative Humidity (%)\"])\n",
    "mean_pressure = np.array(data[\"Mean Sea Level Pressure (hPa)\"])\n",
    "\n",
    "max_wind_speed = np.array(data[\"Maximum Wind Speed (m/s)\"])\n",
    "min_wind_speed = np.array(data[\"Minimum Wind Speed (m/s)\"])\n",
    "mean_wind_speed = np.array(data[\"Mean Wind Speed (m/s)\"])\n",
    "wind_direction = np.array(data[\"Wind Direction Dominant (°)\"])"
   ],
   "metadata": {
    "collapsed": false,
    "pycharm": {
     "name": "#%%\n"
    }
   }
  },
  {
   "cell_type": "code",
   "execution_count": 4,
   "outputs": [],
   "source": [],
   "metadata": {
    "collapsed": false,
    "pycharm": {
     "name": "#%%\n"
    }
   }
  }
 ],
 "metadata": {
  "kernelspec": {
   "display_name": "Python 3",
   "language": "python",
   "name": "python3"
  },
  "language_info": {
   "codemirror_mode": {
    "name": "ipython",
    "version": 2
   },
   "file_extension": ".py",
   "mimetype": "text/x-python",
   "name": "python",
   "nbconvert_exporter": "python",
   "pygments_lexer": "ipython2",
   "version": "2.7.6"
  }
 },
 "nbformat": 4,
 "nbformat_minor": 0
}