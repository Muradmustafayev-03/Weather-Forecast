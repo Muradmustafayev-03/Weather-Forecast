{
 "cells": [
  {
   "cell_type": "markdown",
   "source": [
    "# Weather Forecasting algorithms\n",
    "### (Or how to use Linear Regression)"
   ],
   "metadata": {
    "collapsed": false,
    "pycharm": {
     "name": "#%% md\n"
    }
   }
  },
  {
   "cell_type": "code",
   "execution_count": 1,
   "metadata": {
    "collapsed": true
   },
   "outputs": [],
   "source": [
    "import pandas as pd\n",
    "import numpy as np\n",
    "from sklearn import linear_model as skl\n",
    "from regression import Regressors as reg"
   ]
  },
  {
   "cell_type": "markdown",
   "source": [
    "# Creating the datasets"
   ],
   "metadata": {
    "collapsed": false,
    "pycharm": {
     "name": "#%% md\n"
    }
   }
  },
  {
   "cell_type": "code",
   "execution_count": 2,
   "outputs": [
    {
     "data": {
      "text/plain": "            Date  Maximum Temperature (°C)  Minimum Temperature (°C)  \\\n0     02/01/2008                  2.610529                 -4.039472   \n1     03/01/2008                  5.630528                 -1.179471   \n2     04/01/2008                  9.200529                 -1.619471   \n3     05/01/2008                 10.950529                  2.600528   \n4     06/01/2008                  8.540529                  5.860529   \n...          ...                       ...                       ...   \n5385  30/09/2022                 16.190529                  6.340528   \n5386  01/10/2022                 16.310530                  8.130529   \n5387  02/10/2022                 19.560530                 14.260529   \n5388  03/10/2022                 18.200530                 11.390529   \n5389  04/10/2022                 20.910528                  8.400529   \n\n      Mean Temperature (°C)  Sunshine Duration (min)  \\\n0                 -0.716971               220.386890   \n1                  1.312195               149.133350   \n2                  3.012196               132.000000   \n3                  7.090530                 0.000000   \n4                  7.061361               134.042560   \n...                     ...                      ...   \n5385              11.649693               307.843630   \n5386              12.479695                41.554966   \n5387              17.118862               480.000000   \n5388              14.677612               440.240400   \n5389              13.741363               566.983640   \n\n      Shortwave Radiation (MJ/m²)  Precipitation (mm)  \\\n0                        5.264172            0.000000   \n1                        4.194036            0.000000   \n2                        4.972608            0.000000   \n3                        2.124252            1.500000   \n4                        2.159496            8.800001   \n...                           ...                 ...   \n5385                    15.103656            0.000000   \n5386                     5.920992            0.500000   \n5387                    13.254948            0.000000   \n5388                    13.985458            0.000000   \n5389                    15.324732            0.000000   \n\n      Maximum Relative Humidity (%)  Minimum Relative Humidity (%)  \\\n0                                96                             59   \n1                                97                             66   \n2                                96                             60   \n3                                89                             57   \n4                                98                             76   \n...                             ...                            ...   \n5385                             93                             53   \n5386                             86                             61   \n5387                             88                             62   \n5388                             93                             59   \n5389                             88                             42   \n\n      Mean Relative Humidity (%)  Maximum Sea Level Pressure (hPa)  \\\n0                      73.500000                            1022.9   \n1                      79.291664                            1012.2   \n2                      80.000000                            1014.2   \n3                      70.583336                            1015.1   \n4                      90.250000                            1019.7   \n...                          ...                               ...   \n5385                   73.875000                            1014.0   \n5386                   73.750000                            1019.9   \n5387                   75.708336                            1022.8   \n5388                   78.083336                            1026.3   \n5389                   70.125000                            1024.3   \n\n      Minimum Sea Level Pressure (hPa)  Mean Sea Level Pressure (hPa)  \\\n0                               1012.3                     1018.27094   \n1                               1004.9                     1007.71246   \n2                               1007.6                     1010.79987   \n3                               1008.6                     1012.06670   \n4                               1006.1                     1013.62915   \n...                                ...                            ...   \n5385                            1007.2                     1010.52910   \n5386                            1013.5                     1015.44165   \n5387                            1020.2                     1021.20416   \n5388                            1023.3                     1024.75430   \n5389                            1020.6                     1022.30835   \n\n      Maximum Wind Speed (m/s)  Minimum Wind Speed (m/s)  \\\n0                     5.536244                  0.400000   \n1                     6.673080                  0.900000   \n2                     5.292448                  1.500000   \n3                     6.946222                  1.421267   \n4                     7.102817                  0.900000   \n...                        ...                       ...   \n5385                  1.964688                  0.316228   \n5386                  9.411164                  1.552418   \n5387                  8.547514                  1.565247   \n5388                  6.537584                  0.282843   \n5389                  4.554119                  1.166190   \n\n      Mean Wind Speed (m/s)  Wind Direction Dominant (°)  \n0                  3.426518                   110.169304  \n1                  4.628796                   111.911970  \n2                  3.371137                   114.188460  \n3                  3.831986                   201.784740  \n4                  3.537873                   246.239300  \n...                     ...                          ...  \n5385               1.089594                   283.240500  \n5386               4.244933                   237.491330  \n5387               5.617112                   263.698400  \n5388               2.786462                   347.471200  \n5389               2.962703                   118.800026  \n\n[5390 rows x 17 columns]",
      "text/html": "<div>\n<style scoped>\n    .dataframe tbody tr th:only-of-type {\n        vertical-align: middle;\n    }\n\n    .dataframe tbody tr th {\n        vertical-align: top;\n    }\n\n    .dataframe thead th {\n        text-align: right;\n    }\n</style>\n<table border=\"1\" class=\"dataframe\">\n  <thead>\n    <tr style=\"text-align: right;\">\n      <th></th>\n      <th>Date</th>\n      <th>Maximum Temperature (°C)</th>\n      <th>Minimum Temperature (°C)</th>\n      <th>Mean Temperature (°C)</th>\n      <th>Sunshine Duration (min)</th>\n      <th>Shortwave Radiation (MJ/m²)</th>\n      <th>Precipitation (mm)</th>\n      <th>Maximum Relative Humidity (%)</th>\n      <th>Minimum Relative Humidity (%)</th>\n      <th>Mean Relative Humidity (%)</th>\n      <th>Maximum Sea Level Pressure (hPa)</th>\n      <th>Minimum Sea Level Pressure (hPa)</th>\n      <th>Mean Sea Level Pressure (hPa)</th>\n      <th>Maximum Wind Speed (m/s)</th>\n      <th>Minimum Wind Speed (m/s)</th>\n      <th>Mean Wind Speed (m/s)</th>\n      <th>Wind Direction Dominant (°)</th>\n    </tr>\n  </thead>\n  <tbody>\n    <tr>\n      <th>0</th>\n      <td>02/01/2008</td>\n      <td>2.610529</td>\n      <td>-4.039472</td>\n      <td>-0.716971</td>\n      <td>220.386890</td>\n      <td>5.264172</td>\n      <td>0.000000</td>\n      <td>96</td>\n      <td>59</td>\n      <td>73.500000</td>\n      <td>1022.9</td>\n      <td>1012.3</td>\n      <td>1018.27094</td>\n      <td>5.536244</td>\n      <td>0.400000</td>\n      <td>3.426518</td>\n      <td>110.169304</td>\n    </tr>\n    <tr>\n      <th>1</th>\n      <td>03/01/2008</td>\n      <td>5.630528</td>\n      <td>-1.179471</td>\n      <td>1.312195</td>\n      <td>149.133350</td>\n      <td>4.194036</td>\n      <td>0.000000</td>\n      <td>97</td>\n      <td>66</td>\n      <td>79.291664</td>\n      <td>1012.2</td>\n      <td>1004.9</td>\n      <td>1007.71246</td>\n      <td>6.673080</td>\n      <td>0.900000</td>\n      <td>4.628796</td>\n      <td>111.911970</td>\n    </tr>\n    <tr>\n      <th>2</th>\n      <td>04/01/2008</td>\n      <td>9.200529</td>\n      <td>-1.619471</td>\n      <td>3.012196</td>\n      <td>132.000000</td>\n      <td>4.972608</td>\n      <td>0.000000</td>\n      <td>96</td>\n      <td>60</td>\n      <td>80.000000</td>\n      <td>1014.2</td>\n      <td>1007.6</td>\n      <td>1010.79987</td>\n      <td>5.292448</td>\n      <td>1.500000</td>\n      <td>3.371137</td>\n      <td>114.188460</td>\n    </tr>\n    <tr>\n      <th>3</th>\n      <td>05/01/2008</td>\n      <td>10.950529</td>\n      <td>2.600528</td>\n      <td>7.090530</td>\n      <td>0.000000</td>\n      <td>2.124252</td>\n      <td>1.500000</td>\n      <td>89</td>\n      <td>57</td>\n      <td>70.583336</td>\n      <td>1015.1</td>\n      <td>1008.6</td>\n      <td>1012.06670</td>\n      <td>6.946222</td>\n      <td>1.421267</td>\n      <td>3.831986</td>\n      <td>201.784740</td>\n    </tr>\n    <tr>\n      <th>4</th>\n      <td>06/01/2008</td>\n      <td>8.540529</td>\n      <td>5.860529</td>\n      <td>7.061361</td>\n      <td>134.042560</td>\n      <td>2.159496</td>\n      <td>8.800001</td>\n      <td>98</td>\n      <td>76</td>\n      <td>90.250000</td>\n      <td>1019.7</td>\n      <td>1006.1</td>\n      <td>1013.62915</td>\n      <td>7.102817</td>\n      <td>0.900000</td>\n      <td>3.537873</td>\n      <td>246.239300</td>\n    </tr>\n    <tr>\n      <th>...</th>\n      <td>...</td>\n      <td>...</td>\n      <td>...</td>\n      <td>...</td>\n      <td>...</td>\n      <td>...</td>\n      <td>...</td>\n      <td>...</td>\n      <td>...</td>\n      <td>...</td>\n      <td>...</td>\n      <td>...</td>\n      <td>...</td>\n      <td>...</td>\n      <td>...</td>\n      <td>...</td>\n      <td>...</td>\n    </tr>\n    <tr>\n      <th>5385</th>\n      <td>30/09/2022</td>\n      <td>16.190529</td>\n      <td>6.340528</td>\n      <td>11.649693</td>\n      <td>307.843630</td>\n      <td>15.103656</td>\n      <td>0.000000</td>\n      <td>93</td>\n      <td>53</td>\n      <td>73.875000</td>\n      <td>1014.0</td>\n      <td>1007.2</td>\n      <td>1010.52910</td>\n      <td>1.964688</td>\n      <td>0.316228</td>\n      <td>1.089594</td>\n      <td>283.240500</td>\n    </tr>\n    <tr>\n      <th>5386</th>\n      <td>01/10/2022</td>\n      <td>16.310530</td>\n      <td>8.130529</td>\n      <td>12.479695</td>\n      <td>41.554966</td>\n      <td>5.920992</td>\n      <td>0.500000</td>\n      <td>86</td>\n      <td>61</td>\n      <td>73.750000</td>\n      <td>1019.9</td>\n      <td>1013.5</td>\n      <td>1015.44165</td>\n      <td>9.411164</td>\n      <td>1.552418</td>\n      <td>4.244933</td>\n      <td>237.491330</td>\n    </tr>\n    <tr>\n      <th>5387</th>\n      <td>02/10/2022</td>\n      <td>19.560530</td>\n      <td>14.260529</td>\n      <td>17.118862</td>\n      <td>480.000000</td>\n      <td>13.254948</td>\n      <td>0.000000</td>\n      <td>88</td>\n      <td>62</td>\n      <td>75.708336</td>\n      <td>1022.8</td>\n      <td>1020.2</td>\n      <td>1021.20416</td>\n      <td>8.547514</td>\n      <td>1.565247</td>\n      <td>5.617112</td>\n      <td>263.698400</td>\n    </tr>\n    <tr>\n      <th>5388</th>\n      <td>03/10/2022</td>\n      <td>18.200530</td>\n      <td>11.390529</td>\n      <td>14.677612</td>\n      <td>440.240400</td>\n      <td>13.985458</td>\n      <td>0.000000</td>\n      <td>93</td>\n      <td>59</td>\n      <td>78.083336</td>\n      <td>1026.3</td>\n      <td>1023.3</td>\n      <td>1024.75430</td>\n      <td>6.537584</td>\n      <td>0.282843</td>\n      <td>2.786462</td>\n      <td>347.471200</td>\n    </tr>\n    <tr>\n      <th>5389</th>\n      <td>04/10/2022</td>\n      <td>20.910528</td>\n      <td>8.400529</td>\n      <td>13.741363</td>\n      <td>566.983640</td>\n      <td>15.324732</td>\n      <td>0.000000</td>\n      <td>88</td>\n      <td>42</td>\n      <td>70.125000</td>\n      <td>1024.3</td>\n      <td>1020.6</td>\n      <td>1022.30835</td>\n      <td>4.554119</td>\n      <td>1.166190</td>\n      <td>2.962703</td>\n      <td>118.800026</td>\n    </tr>\n  </tbody>\n</table>\n<p>5390 rows × 17 columns</p>\n</div>"
     },
     "execution_count": 2,
     "metadata": {},
     "output_type": "execute_result"
    }
   ],
   "source": [
    "# Creating a dataframe from the CSV file\n",
    "data = pd.read_csv(\"weather_data.csv\")\n",
    "data"
   ],
   "metadata": {
    "collapsed": false,
    "pycharm": {
     "name": "#%%\n"
    }
   }
  },
  {
   "cell_type": "markdown",
   "source": [
    "*Let's represent data as an array of floats*\n",
    "\n",
    "*As the data is ordered by date, the Date column is not important, so we get rid of it*"
   ],
   "metadata": {
    "collapsed": false,
    "pycharm": {
     "name": "#%% md\n"
    }
   }
  },
  {
   "cell_type": "code",
   "execution_count": 3,
   "outputs": [
    {
     "data": {
      "text/plain": "array([[ 2.61052850e+00, -4.03947160e+00, -7.16971460e-01, ...,\n         4.00000000e-01,  3.42651750e+00,  1.10169304e+02],\n       [ 5.63052850e+00, -1.17947140e+00,  1.31219540e+00, ...,\n         9.00000000e-01,  4.62879600e+00,  1.11911970e+02],\n       [ 9.20052900e+00, -1.61947130e+00,  3.01219560e+00, ...,\n         1.50000000e+00,  3.37113700e+00,  1.14188460e+02],\n       ...,\n       [ 1.95605300e+01,  1.42605290e+01,  1.71188620e+01, ...,\n         1.56524750e+00,  5.61711170e+00,  2.63698400e+02],\n       [ 1.82005300e+01,  1.13905290e+01,  1.46776120e+01, ...,\n         2.82842730e-01,  2.78646250e+00,  3.47471200e+02],\n       [ 2.09105280e+01,  8.40052900e+00,  1.37413630e+01, ...,\n         1.16619040e+00,  2.96270280e+00,  1.18800026e+02]])"
     },
     "execution_count": 3,
     "metadata": {},
     "output_type": "execute_result"
    }
   ],
   "source": [
    "data_array = np.array(data.drop(columns=\"Date\").values)\n",
    "data_array"
   ],
   "metadata": {
    "collapsed": false,
    "pycharm": {
     "name": "#%%\n"
    }
   }
  },
  {
   "cell_type": "markdown",
   "source": [
    "*We'll also need each column as a separate array*"
   ],
   "metadata": {
    "collapsed": false,
    "pycharm": {
     "name": "#%% md\n"
    }
   }
  },
  {
   "cell_type": "code",
   "execution_count": 4,
   "outputs": [],
   "source": [
    "max_temp = np.array(data[\"Maximum Temperature (°C)\"])\n",
    "min_temp = np.array(data[\"Minimum Temperature (°C)\"])\n",
    "mean_temp = np.array(data[\"Mean Temperature (°C)\"])\n",
    "\n",
    "sunshine = np.array(data[\"Sunshine Duration (min)\"])\n",
    "radiation = np.array(data[\"Shortwave Radiation (MJ/m²)\"])\n",
    "precipitation = np.array(data[\"Precipitation (mm)\"])\n",
    "\n",
    "max_humidity = np.array(data[\"Maximum Relative Humidity (%)\"])\n",
    "min_humidity = np.array(data[\"Minimum Relative Humidity (%)\"])\n",
    "mean_humidity = np.array(data[\"Mean Relative Humidity (%)\"])\n",
    "\n",
    "max_pressure = np.array(data[\"Maximum Sea Level Pressure (hPa)\"])\n",
    "min_pressure = np.array(data[\"Minimum Relative Humidity (%)\"])\n",
    "mean_pressure = np.array(data[\"Mean Sea Level Pressure (hPa)\"])\n",
    "\n",
    "max_wind_speed = np.array(data[\"Maximum Wind Speed (m/s)\"])\n",
    "min_wind_speed = np.array(data[\"Minimum Wind Speed (m/s)\"])\n",
    "mean_wind_speed = np.array(data[\"Mean Wind Speed (m/s)\"])\n",
    "wind_direction = np.array(data[\"Wind Direction Dominant (°)\"])"
   ],
   "metadata": {
    "collapsed": false,
    "pycharm": {
     "name": "#%%\n"
    }
   }
  },
  {
   "cell_type": "markdown",
   "source": [
    "# Necessary functions to analyse the data"
   ],
   "metadata": {
    "collapsed": false,
    "pycharm": {
     "name": "#%% md\n"
    }
   }
  },
  {
   "cell_type": "code",
   "execution_count": 5,
   "outputs": [],
   "source": [
    "# Standardise / Destandardise data\n",
    "\n",
    "def to_standard(dataset):\n",
    "    return (dataset - min(dataset)) / (max(dataset) - min(dataset))\n",
    "\n",
    "def to_source(standard, source):\n",
    "    return standard * (max(source) - min(source)) + min(source)"
   ],
   "metadata": {
    "collapsed": false,
    "pycharm": {
     "name": "#%%\n"
    }
   }
  },
  {
   "cell_type": "code",
   "execution_count": 6,
   "outputs": [],
   "source": [
    "# This function returns an array of all sequential sub-arrays of n elements from the array\n",
    "\n",
    "def group(array, _n):\n",
    "    return np.array([array[i:i + _n] for i in range(len(array) - _n)])"
   ],
   "metadata": {
    "collapsed": false,
    "pycharm": {
     "name": "#%%\n"
    }
   }
  },
  {
   "cell_type": "code",
   "execution_count": 7,
   "outputs": [],
   "source": [
    "# This function splits dataset into train and test sets\n",
    "\n",
    "def split(dataset, point=0.8):\n",
    "    pivot = int(len(dataset) * point)\n",
    "    return dataset[:pivot], dataset[pivot:]"
   ],
   "metadata": {
    "collapsed": false,
    "pycharm": {
     "name": "#%%\n"
    }
   }
  },
  {
   "cell_type": "code",
   "execution_count": 8,
   "outputs": [],
   "source": [
    "# Error functions\n",
    "\n",
    "def MAE(real, predicted):\n",
    "    difference = abs(real - predicted)\n",
    "    return sum(difference) / len(difference)\n",
    "\n",
    "def MSE(real, predicted):\n",
    "    difference = abs(real - predicted)\n",
    "    return sum(difference ** 2) / (2 * len(difference))"
   ],
   "metadata": {
    "collapsed": false,
    "pycharm": {
     "name": "#%%\n"
    }
   }
  },
  {
   "cell_type": "markdown",
   "source": [
    "## What we are going to do:\n",
    "We are going to use 3 methods of training and predicting data:\n",
    "- For each table in dataframe predict data for the next day, according to the data from previous day of the same column\n",
    "- For each table in dataframe predict data for the next day, according to the data from n previous days of the same column\n",
    "- For each table in dataframe predict data for the next day, according to the data from previous day of the whole dataframe\n",
    "\n",
    "For each method we use both sklearn and regression libraries\n",
    "The results are compared with each other and with the zero theory(s)"
   ],
   "metadata": {
    "collapsed": false,
    "pycharm": {
     "name": "#%% md\n"
    }
   }
  },
  {
   "cell_type": "markdown",
   "source": [
    "# Method 1:\n",
    "In this method we are going to predict a particular weather parameter (ex. temperature) for \"tomorrow\",\n",
    "having only information about this parameter \"today\""
   ],
   "metadata": {
    "collapsed": false,
    "pycharm": {
     "name": "#%% md\n"
    }
   }
  },
  {
   "cell_type": "markdown",
   "source": [
    "Taking mean temperature as an example and creating datasets"
   ],
   "metadata": {
    "collapsed": false,
    "pycharm": {
     "name": "#%% md\n"
    }
   }
  },
  {
   "cell_type": "code",
   "execution_count": 9,
   "outputs": [],
   "source": [
    "data_train, data_test = split(mean_temp)\n",
    "\n",
    "X_train = data_train[:-1]\n",
    "y_train = data_train[1:]\n",
    "\n",
    "X_test = data_test[:-1]\n",
    "y_test = data_test[1:]"
   ],
   "metadata": {
    "collapsed": false,
    "pycharm": {
     "name": "#%%\n"
    }
   }
  },
  {
   "cell_type": "markdown",
   "source": [
    "*Scikit-learn model*"
   ],
   "metadata": {
    "collapsed": false,
    "pycharm": {
     "name": "#%% md\n"
    }
   }
  },
  {
   "cell_type": "code",
   "execution_count": 10,
   "outputs": [
    {
     "data": {
      "text/plain": "0.9146006523841227"
     },
     "execution_count": 10,
     "metadata": {},
     "output_type": "execute_result"
    }
   ],
   "source": [
    "skl_model = skl.LinearRegression()\n",
    "skl_model.fit(X_train.reshape(-1, 1), y_train)\n",
    "# Show the R value\n",
    "skl_model.score(X_train.reshape(-1, 1), y_train)"
   ],
   "metadata": {
    "collapsed": false,
    "pycharm": {
     "name": "#%%\n"
    }
   }
  },
  {
   "cell_type": "markdown",
   "source": [
    "*Prediction*"
   ],
   "metadata": {
    "collapsed": false,
    "pycharm": {
     "name": "#%% md\n"
    }
   }
  },
  {
   "cell_type": "code",
   "execution_count": 11,
   "outputs": [
    {
     "data": {
      "text/plain": "array([15.46849589, 15.61110053, 14.74432287, ..., 12.46984066,\n       16.90488524, 14.57104975])"
     },
     "execution_count": 11,
     "metadata": {},
     "output_type": "execute_result"
    }
   ],
   "source": [
    "prediction = skl_model.predict(X_test.reshape(-1, 1))\n",
    "prediction"
   ],
   "metadata": {
    "collapsed": false,
    "pycharm": {
     "name": "#%%\n"
    }
   }
  },
  {
   "cell_type": "markdown",
   "source": [
    "*Reality*"
   ],
   "metadata": {
    "collapsed": false,
    "pycharm": {
     "name": "#%% md\n"
    }
   }
  },
  {
   "cell_type": "code",
   "execution_count": 12,
   "outputs": [
    {
     "data": {
      "text/plain": "array([15.765531, 14.85886 , 15.000527, ..., 17.118862, 14.677612,\n       13.741363])"
     },
     "execution_count": 12,
     "metadata": {},
     "output_type": "execute_result"
    }
   ],
   "source": [
    "y_test"
   ],
   "metadata": {
    "collapsed": false,
    "pycharm": {
     "name": "#%%\n"
    }
   }
  },
  {
   "cell_type": "markdown",
   "source": [
    "*Error values*"
   ],
   "metadata": {
    "collapsed": false,
    "pycharm": {
     "name": "#%% md\n"
    }
   }
  },
  {
   "cell_type": "code",
   "execution_count": 13,
   "outputs": [
    {
     "name": "stdout",
     "output_type": "stream",
     "text": [
      "Mean Absolute Error: 1.6468385480344996\n",
      "Mean Squared Error: 2.3136632848913203\n"
     ]
    }
   ],
   "source": [
    "print(\"Mean Absolute Error:\", MAE(y_test, prediction))\n",
    "print(\"Mean Squared Error:\", MSE(y_test, prediction))"
   ],
   "metadata": {
    "collapsed": false,
    "pycharm": {
     "name": "#%%\n"
    }
   }
  },
  {
   "cell_type": "markdown",
   "source": [
    "*Let's do the same operation with my own regression model*"
   ],
   "metadata": {
    "collapsed": false,
    "pycharm": {
     "name": "#%% md\n"
    }
   }
  },
  {
   "cell_type": "code",
   "execution_count": 14,
   "outputs": [
    {
     "data": {
      "text/plain": "0.9146006523841227"
     },
     "execution_count": 14,
     "metadata": {},
     "output_type": "execute_result"
    }
   ],
   "source": [
    "reg_model = reg.LinearRegressor()\n",
    "reg_model.fit(X_train.reshape(-1, 1), y_train)\n",
    "# Show the R value\n",
    "reg_model.score(X_train, y_train)"
   ],
   "metadata": {
    "collapsed": false,
    "pycharm": {
     "name": "#%%\n"
    }
   }
  },
  {
   "cell_type": "markdown",
   "source": [
    "*Prediction*"
   ],
   "metadata": {
    "collapsed": false,
    "pycharm": {
     "name": "#%% md\n"
    }
   }
  },
  {
   "cell_type": "code",
   "source": [
    "prediction = skl_model.predict(X_test.reshape(-1, 1))\n",
    "prediction"
   ],
   "metadata": {
    "collapsed": false,
    "pycharm": {
     "name": "#%%\n"
    }
   },
   "execution_count": 15,
   "outputs": [
    {
     "data": {
      "text/plain": "array([15.46849589, 15.61110053, 14.74432287, ..., 12.46984066,\n       16.90488524, 14.57104975])"
     },
     "execution_count": 15,
     "metadata": {},
     "output_type": "execute_result"
    }
   ]
  },
  {
   "cell_type": "markdown",
   "source": [
    "*Error values*"
   ],
   "metadata": {
    "collapsed": false,
    "pycharm": {
     "name": "#%% md\n"
    }
   }
  },
  {
   "cell_type": "code",
   "execution_count": 16,
   "outputs": [
    {
     "name": "stdout",
     "output_type": "stream",
     "text": [
      "Mean Absolute Error: 1.6468385480344996\n",
      "Mean Squared Error: 2.3136632848913203\n"
     ]
    }
   ],
   "source": [
    "print(\"Mean Absolute Error:\", MAE(y_test, prediction))\n",
    "print(\"Mean Squared Error:\", MSE(y_test, prediction))"
   ],
   "metadata": {
    "collapsed": false,
    "pycharm": {
     "name": "#%%\n"
    }
   }
  },
  {
   "cell_type": "markdown",
   "source": [
    "## Results\n",
    "As we can see, the results of Scikit-learn model and regression library model are completely the same.\n",
    "We've got that for the first method:\n",
    "- Mean Absolute Error: 1.6468385480344996 K\n",
    "- Mean Squared Error: 2.3136632848913203 K\n",
    "\n",
    "***But how much sense do these results make?***\n",
    "\n",
    "## Zero theory\n",
    "*Zero theory is an assumption, that we can do to predict the data without Machine Learning,\n",
    "in order to compare its results with the ML-estimator's and to see if the using of the ML is reasonable*\n",
    "\n",
    "In this case, we can assume that the weather doesn't change very much from day to day.\n",
    "So, our *zero theory* will be that the next day the temperature wil be (approximately) the same as 'today'."
   ],
   "metadata": {
    "collapsed": false,
    "pycharm": {
     "name": "#%% md\n"
    }
   }
  },
  {
   "cell_type": "code",
   "execution_count": 17,
   "outputs": [],
   "source": [
    "# Estimator function of the first zero function\n",
    "# (we might have different zero functions for other methods)\n",
    "def zero_func1(X):\n",
    "    return X"
   ],
   "metadata": {
    "collapsed": false,
    "pycharm": {
     "name": "#%%\n"
    }
   }
  },
  {
   "cell_type": "markdown",
   "source": [
    "*Prediction*"
   ],
   "metadata": {
    "collapsed": false,
    "pycharm": {
     "name": "#%% md\n"
    }
   }
  },
  {
   "cell_type": "code",
   "execution_count": 18,
   "outputs": [
    {
     "data": {
      "text/plain": "array([15.616363, 15.765531, 14.85886 , ..., 12.479695, 17.118862,\n       14.677612])"
     },
     "execution_count": 18,
     "metadata": {},
     "output_type": "execute_result"
    }
   ],
   "source": [
    "prediction = zero_func1(X_test)\n",
    "prediction"
   ],
   "metadata": {
    "collapsed": false,
    "pycharm": {
     "name": "#%%\n"
    }
   }
  },
  {
   "cell_type": "markdown",
   "source": [
    "*Error values*"
   ],
   "metadata": {
    "collapsed": false,
    "pycharm": {
     "name": "#%% md\n"
    }
   }
  },
  {
   "cell_type": "code",
   "execution_count": 19,
   "outputs": [
    {
     "name": "stdout",
     "output_type": "stream",
     "text": [
      "Mean Absolute Error: 1.6384525693221936\n",
      "Mean Squared Error: 2.3680028320543958\n"
     ]
    }
   ],
   "source": [
    "print(\"Mean Absolute Error:\", MAE(y_test, prediction))\n",
    "print(\"Mean Squared Error:\", MSE(y_test, prediction))"
   ],
   "metadata": {
    "collapsed": false,
    "pycharm": {
     "name": "#%%\n"
    }
   }
  },
  {
   "cell_type": "markdown",
   "source": [
    "# Conclusion\n",
    "As we can see, the errors of the linear models are approximately the same as the errors of the zero-function.\n",
    "That means, that there is no use in linear models as we can make predictions with just the same quality just from an assumption.\n",
    "We obtained such result because the linear model had too little information to build a better estimator.\n",
    "The next methods are expected to be more effective."
   ],
   "metadata": {
    "collapsed": false,
    "pycharm": {
     "name": "#%% md\n"
    }
   }
  },
  {
   "cell_type": "markdown",
   "source": [
    "# Method 2:\n",
    "In this method we are going to predict a particular weather parameter (ex. pressure) for \"tomorrow\",\n",
    "having information about this parameter for the past *n* days."
   ],
   "metadata": {
    "collapsed": false,
    "pycharm": {
     "name": "#%% md\n"
    }
   }
  },
  {
   "cell_type": "code",
   "execution_count": 34,
   "outputs": [],
   "source": [
    "# First, let's pick some random n\n",
    "test_n = 5"
   ],
   "metadata": {
    "collapsed": false,
    "pycharm": {
     "name": "#%%\n"
    }
   }
  },
  {
   "cell_type": "code",
   "execution_count": 35,
   "outputs": [],
   "source": [
    "# Now we'll create new datasets with mean pressure as example\n",
    "data_train, data_test = split(mean_pressure)\n",
    "\n",
    "X_train = group(data_train, test_n)\n",
    "y_train = data_train[test_n:]\n",
    "\n",
    "X_test = group(data_test, test_n)\n",
    "y_test = data_test[test_n:]"
   ],
   "metadata": {
    "collapsed": false,
    "pycharm": {
     "name": "#%%\n"
    }
   }
  },
  {
   "cell_type": "code",
   "execution_count": 36,
   "outputs": [
    {
     "data": {
      "text/plain": "0.7127591598412133"
     },
     "execution_count": 36,
     "metadata": {},
     "output_type": "execute_result"
    }
   ],
   "source": [
    "# Scikit-learn model\n",
    "skl_model = skl.LinearRegression()\n",
    "skl_model.fit(X_train, y_train)\n",
    "# Show the R value\n",
    "skl_model.score(X_train, y_train)"
   ],
   "metadata": {
    "collapsed": false,
    "pycharm": {
     "name": "#%%\n"
    }
   }
  },
  {
   "cell_type": "markdown",
   "source": [
    "*Prediction*"
   ],
   "metadata": {
    "collapsed": false,
    "pycharm": {
     "name": "#%% md\n"
    }
   }
  },
  {
   "cell_type": "code",
   "execution_count": 37,
   "outputs": [
    {
     "data": {
      "text/plain": "array([1019.57327338, 1019.1199901 , 1018.67113904, ..., 1015.97976355,\n       1021.42841779, 1023.11275939])"
     },
     "execution_count": 37,
     "metadata": {},
     "output_type": "execute_result"
    }
   ],
   "source": [
    "prediction = skl_model.predict(X_test)\n",
    "prediction"
   ],
   "metadata": {
    "collapsed": false,
    "pycharm": {
     "name": "#%%\n"
    }
   }
  },
  {
   "cell_type": "markdown",
   "source": [
    "*Reality*"
   ],
   "metadata": {
    "collapsed": false,
    "pycharm": {
     "name": "#%% md\n"
    }
   }
  },
  {
   "cell_type": "code",
   "execution_count": 38,
   "outputs": [
    {
     "data": {
      "text/plain": "array([1019.9709 , 1019.3667 , 1021.7459 , ..., 1021.20416, 1024.7543 ,\n       1022.30835])"
     },
     "execution_count": 38,
     "metadata": {},
     "output_type": "execute_result"
    }
   ],
   "source": [
    "y_test"
   ],
   "metadata": {
    "collapsed": false,
    "pycharm": {
     "name": "#%%\n"
    }
   }
  },
  {
   "cell_type": "markdown",
   "source": [
    "*Error values*"
   ],
   "metadata": {
    "collapsed": false,
    "pycharm": {
     "name": "#%% md\n"
    }
   }
  },
  {
   "cell_type": "code",
   "execution_count": 39,
   "outputs": [
    {
     "name": "stdout",
     "output_type": "stream",
     "text": [
      "Mean Absolute Error: 3.2240711822864134\n",
      "Mean Squared Error: 10.188293257490312\n"
     ]
    }
   ],
   "source": [
    "print(\"Mean Absolute Error:\", MAE(y_test, prediction))\n",
    "print(\"Mean Squared Error:\", MSE(y_test, prediction))"
   ],
   "metadata": {
    "collapsed": false,
    "pycharm": {
     "name": "#%%\n"
    }
   }
  },
  {
   "cell_type": "markdown",
   "source": [
    "*Now test MultivariateRegressor of regression module*"
   ],
   "metadata": {
    "collapsed": false,
    "pycharm": {
     "name": "#%% md\n"
    }
   }
  },
  {
   "cell_type": "code",
   "execution_count": 40,
   "outputs": [
    {
     "data": {
      "text/plain": "0.7127591598412144"
     },
     "execution_count": 40,
     "metadata": {},
     "output_type": "execute_result"
    }
   ],
   "source": [
    "reg_model = reg.MultivariateRegressor(test_n)\n",
    "reg_model.fit(X_train, y_train)\n",
    "# Show the R value\n",
    "reg_model.score(X_train, y_train)"
   ],
   "metadata": {
    "collapsed": false,
    "pycharm": {
     "name": "#%%\n"
    }
   }
  },
  {
   "cell_type": "markdown",
   "source": [
    "*Prediction*"
   ],
   "metadata": {
    "collapsed": false,
    "pycharm": {
     "name": "#%% md\n"
    }
   }
  },
  {
   "cell_type": "code",
   "execution_count": 41,
   "outputs": [
    {
     "data": {
      "text/plain": "array([1019.5732734 , 1019.11999012, 1018.67113906, ..., 1015.97976357,\n       1021.42841781, 1023.11275941])"
     },
     "execution_count": 41,
     "metadata": {},
     "output_type": "execute_result"
    }
   ],
   "source": [
    "prediction = reg_model.predict(X_test)\n",
    "prediction"
   ],
   "metadata": {
    "collapsed": false,
    "pycharm": {
     "name": "#%%\n"
    }
   }
  },
  {
   "cell_type": "markdown",
   "source": [
    "*Error values*"
   ],
   "metadata": {
    "collapsed": false,
    "pycharm": {
     "name": "#%% md\n"
    }
   }
  },
  {
   "cell_type": "code",
   "execution_count": 42,
   "outputs": [
    {
     "name": "stdout",
     "output_type": "stream",
     "text": [
      "Mean Absolute Error: 3.224071181693679\n",
      "Mean Squared Error: 10.188293255390596\n"
     ]
    }
   ],
   "source": [
    "print(\"Mean Absolute Error:\", MAE(y_test, prediction))\n",
    "print(\"Mean Squared Error:\", MSE(y_test, prediction))"
   ],
   "metadata": {
    "collapsed": false,
    "pycharm": {
     "name": "#%%\n"
    }
   }
  },
  {
   "cell_type": "markdown",
   "source": [
    "***Note:*** *Don't be confused with the absolute values of errors looking just at the raw numbers.\n",
    "They are not 'larger' than the ones, there were in method 1.\n",
    "As you remember, in method 1 we were predicting temperature (in Celsius degrees),\n",
    "whereas now we are predicting pressure (in hectoPascale). So, they cannot be compared directly.\n",
    "To see how effective the model is, we will compare it to the zero theory, but before...*"
   ],
   "metadata": {
    "collapsed": false,
    "pycharm": {
     "name": "#%% md\n"
    }
   }
  },
  {
   "cell_type": "markdown",
   "source": [
    "# Optimising the value of n\n",
    "*If you play with the value of n, and run the code again, you can see, that the prediction also changes.\n",
    "That obviously means that the precision of the estimator depends on n.\n",
    "Now, as we want to train an estimator with the highest precision of predictions possible, we need to optimise the value of n.*\n",
    "\n",
    "In this example, we'll minimise the MAE function."
   ],
   "metadata": {
    "collapsed": false,
    "pycharm": {
     "name": "#%% md\n"
    }
   }
  },
  {
   "cell_type": "code",
   "execution_count": 76,
   "outputs": [],
   "source": [
    "# First, let's create of function of MAE on n:\n",
    "def n_to_MAE(n):\n",
    "    test_X_train = group(data_train, n)\n",
    "    test_y_train = data_train[n:]\n",
    "\n",
    "    test_X_test = group(data_test, n)\n",
    "    test_y_test = data_test[n:]\n",
    "\n",
    "    model = skl.LinearRegression()\n",
    "    model.fit(test_X_train, test_y_train)\n",
    "\n",
    "    test_prediction = model.predict(test_X_test)\n",
    "\n",
    "    return MAE(test_y_test, test_prediction)"
   ],
   "metadata": {
    "collapsed": false,
    "pycharm": {
     "name": "#%%\n"
    }
   }
  },
  {
   "cell_type": "markdown",
   "source": [
    "Although there are lots of different optimisation methods,\n",
    "in this particular case the easiest and the most sufficient way is just a simple enumeration"
   ],
   "metadata": {
    "collapsed": false,
    "pycharm": {
     "name": "#%% md\n"
    }
   }
  },
  {
   "cell_type": "code",
   "execution_count": 79,
   "outputs": [
    {
     "data": {
      "text/plain": "147"
     },
     "execution_count": 79,
     "metadata": {},
     "output_type": "execute_result"
    }
   ],
   "source": [
    "# using range up to 400, because 1 year is 365 days, which can be rounded up to 400\n",
    "optimal_n = 1\n",
    "for n in range(1, 400):\n",
    "    if n_to_MAE(n) < n_to_MAE(optimal_n):\n",
    "        optimal_n = n\n",
    "optimal_n"
   ],
   "metadata": {
    "collapsed": false,
    "pycharm": {
     "name": "#%%\n"
    }
   }
  },
  {
   "cell_type": "code",
   "execution_count": 80,
   "outputs": [],
   "source": [
    "# Creating new datasets split with optimal n = 147\n",
    "data_train, data_test = split(mean_pressure)\n",
    "\n",
    "X_train = group(data_train, optimal_n)\n",
    "y_train = data_train[optimal_n:]\n",
    "\n",
    "X_test = group(data_test, optimal_n)\n",
    "y_test = data_test[optimal_n:]"
   ],
   "metadata": {
    "collapsed": false,
    "pycharm": {
     "name": "#%%\n"
    }
   }
  },
  {
   "cell_type": "code",
   "execution_count": 83,
   "outputs": [],
   "source": [
    "# Training the model and making a prediction\n",
    "model = skl.LinearRegression()\n",
    "model.fit(X_train, y_train)\n",
    "prediction = model.predict(X_test)"
   ],
   "metadata": {
    "collapsed": false,
    "pycharm": {
     "name": "#%%\n"
    }
   }
  },
  {
   "cell_type": "code",
   "execution_count": 84,
   "outputs": [
    {
     "data": {
      "text/plain": "array([1027.05188852, 1021.64001242, 1021.8699118 , 1018.11410232,\n       1017.55309142, 1021.59041109, 1027.73604127, 1023.54532999,\n       1020.43274105, 1015.53642518, 1016.23100337, 1018.1036091 ,\n       1023.14233589, 1021.99741128, 1026.84455727, 1018.46216391,\n       1014.44310382, 1019.00436989, 1022.28812763, 1019.5061913 ,\n       1025.99170157, 1025.48505207, 1024.32207159, 1020.887486  ,\n       1022.44830683, 1019.44994902, 1015.71077887, 1014.39408888,\n       1024.24621712, 1019.987267  , 1018.86641583, 1014.87077741,\n       1013.81652305, 1015.20814808, 1010.47622372, 1011.56394407,\n       1014.21345941, 1018.85862629, 1015.59504362, 1012.83049977,\n       1010.10536289, 1011.35930369, 1008.75474477, 1012.63121157,\n       1009.55487515, 1011.08660735, 1013.68662485, 1016.86092461,\n       1015.90085043, 1016.87619745, 1020.51931962, 1021.64459183,\n       1016.47173011, 1011.46607406, 1006.69512611, 1008.17306597,\n       1019.6217906 , 1005.7893635 , 1013.63495818, 1015.23916111,\n       1020.55864749, 1019.71987661, 1022.84833767, 1016.30683997,\n       1020.97549666, 1019.45263223, 1019.49907548, 1023.6095817 ,\n       1029.81995543, 1026.39174915, 1028.95370481, 1026.66389616,\n       1025.13303077, 1019.29095807, 1018.49037561, 1015.89965308,\n       1019.26340994, 1014.47546708, 1006.42575495, 1000.69357819,\n       1007.48531235, 1006.82448671, 1010.75965058, 1014.72574926,\n       1013.93363411, 1012.35409375, 1011.74148232, 1007.16397174,\n       1013.60305993, 1017.07997168, 1018.93444836, 1014.33128766,\n       1015.06338061, 1015.28840426, 1019.07858404, 1019.98804576,\n       1019.48295492, 1021.45519911, 1020.48902872, 1018.57953546,\n       1015.61603518, 1011.67059199, 1014.54104362, 1016.03252466,\n       1015.59076655, 1013.56915629, 1009.8339054 , 1015.38967945,\n       1021.29660781, 1018.81033802, 1017.36359398, 1018.45960381,\n       1019.92991022, 1017.49149893, 1016.69765917, 1014.07412875,\n       1023.27474837, 1022.26020096, 1019.38374738, 1014.01611   ,\n       1016.70066171, 1019.09036932, 1018.84356868, 1017.28418025,\n       1015.86194467, 1015.81920945, 1019.82703684, 1018.50044979,\n       1014.24322545, 1013.92320851, 1013.66185716, 1013.72630837,\n       1015.89890109, 1014.25088024, 1018.81781373, 1016.59213061,\n       1014.72143269, 1012.79218747, 1014.76459917, 1012.42137317,\n       1017.62157431, 1017.41769708, 1018.71856834, 1017.25699163,\n       1018.28322394, 1015.590911  , 1014.60455624, 1015.98894829,\n       1015.340189  , 1014.98582149, 1016.24226297, 1013.58631936,\n       1011.68066059, 1013.81128674, 1014.22537312, 1011.70946731,\n       1011.37853943, 1013.18089189, 1019.05773579, 1018.15630097,\n       1017.14269601, 1014.41179786, 1017.03887741, 1015.59017212,\n       1006.65459095, 1009.81304264, 1012.61929355, 1018.37779162,\n       1015.37728788, 1017.24244116, 1022.20612405, 1021.00009597,\n       1015.50804898, 1018.55775991, 1022.13666683, 1024.637832  ,\n       1019.37270369, 1016.94914498, 1015.94684936, 1019.14477875,\n       1023.96082499, 1020.95593101, 1020.95749132, 1019.04006292,\n       1019.95939515, 1020.00805387, 1017.56269953, 1014.42397171,\n       1015.61907362, 1013.28091527, 1010.69382603, 1009.54586583,\n       1004.80778561, 1007.63900213, 1005.52790675, 1014.99512704,\n       1018.01950427, 1013.12559872, 1006.57722233,  993.28517438,\n        998.9531849 , 1002.33257656, 1010.53548497, 1009.35163303,\n       1017.48963484, 1021.23488826, 1020.1716448 , 1021.03636381,\n       1019.2224893 , 1019.01244148, 1011.61309303, 1013.33523183,\n       1014.64663803, 1016.89679422, 1017.6380639 , 1021.61059622,\n       1019.45807161, 1016.1162589 , 1013.15181681, 1018.84897375,\n       1014.57219804, 1019.35704821, 1008.09904217, 1009.90658907,\n       1015.1692809 , 1014.51020463, 1022.32710701, 1023.84221023,\n       1021.59864035, 1019.62589679, 1018.31578323, 1025.39313386,\n       1026.37959883, 1031.66415812, 1026.68841243, 1023.19467603,\n       1023.05650673, 1021.66453404, 1023.94017868, 1023.33479877,\n       1021.02044921, 1020.5431049 , 1018.4431769 , 1013.87640713,\n       1020.71775438, 1027.82034565, 1021.79862745, 1025.87705523,\n       1033.73146689, 1030.59759945, 1024.71720968, 1026.19317114,\n       1023.07054817, 1020.4868513 , 1022.47328874, 1017.79863567,\n       1017.26654945, 1023.39871561, 1024.96648349, 1016.96539607,\n       1016.59154582, 1005.75347257,  990.88924259, 1005.59106956,\n       1002.71078463, 1002.82372812, 1005.40155397, 1012.67472909,\n       1008.03575466, 1002.71291054, 1001.91184641, 1016.87865644,\n       1012.27177077, 1014.84094104, 1017.03425313, 1023.92686955,\n       1021.81524124, 1017.40564185, 1020.30024227, 1021.08346685,\n       1018.99477699, 1015.01463416, 1012.24691267, 1022.55359704,\n       1024.33048847,  996.6931063 ,  980.16988195,  999.47793168,\n       1006.7269723 , 1005.49531524, 1008.59353693, 1011.05092748,\n       1012.65617247, 1015.68931024, 1011.81420756, 1013.78387154,\n       1017.54262363, 1017.94898613, 1019.53177788, 1022.31634538,\n       1020.83631271, 1015.59900797, 1018.3355984 , 1017.44896889,\n       1022.03674634, 1027.56022088, 1016.44042406, 1028.41724153,\n       1013.95100629, 1007.87643739, 1000.92590812,  997.19062845,\n       1000.31577853, 1001.7662892 , 1005.97015339, 1025.18261921,\n       1013.27697657, 1010.926866  , 1004.46988473, 1003.8834176 ,\n       1001.72686551,  996.90108991, 1012.30014787, 1006.9130759 ,\n       1018.46867187, 1008.60771431, 1004.24250297, 1001.83178586,\n       1003.12358022, 1003.80065362, 1006.90849115, 1028.92441621,\n       1018.54725079, 1029.54592956, 1030.63660222, 1029.05768619,\n       1019.27914293, 1022.53670362, 1013.18163884, 1019.97936272,\n       1018.59976797, 1017.28268975, 1019.6160016 , 1032.8824175 ,\n       1025.89423245, 1027.09117529, 1029.28063075, 1031.36191265,\n       1028.18747033, 1027.38001755, 1027.65998748, 1027.10171392,\n       1018.09991436, 1022.6630383 , 1025.94205704, 1022.08822964,\n       1019.22015434, 1018.74097715, 1017.93600425, 1010.55867012,\n       1016.50520926, 1008.32653809, 1016.04367074, 1015.72508766,\n       1023.97116398, 1017.61230776, 1023.37407722, 1017.53763679,\n       1027.51426865, 1020.74728757, 1023.35314041, 1024.89850515,\n       1021.17841999, 1020.52986101, 1018.33618729, 1026.24210052,\n       1027.45909067, 1028.43326249, 1027.35152102, 1020.34082023,\n       1018.56444115, 1018.49728419, 1019.9022488 , 1020.23883292,\n       1012.91828629, 1019.47851141, 1021.70811507, 1025.3615797 ,\n       1015.87383323, 1014.51940635, 1013.15961889, 1029.42157411,\n       1028.78804868, 1026.24587331, 1026.70485277, 1022.97262954,\n       1019.76057621, 1021.05432311, 1018.28124345, 1015.91553837,\n       1014.62355862, 1022.38789644, 1023.80609299, 1020.53385418,\n       1018.60354725, 1013.48230337, 1007.03660611, 1005.84306388,\n       1009.13704138, 1012.59794061, 1012.40339312, 1019.28037022,\n       1021.7662483 , 1010.33663567, 1014.37833044, 1012.55764813,\n       1017.68352307, 1018.1930432 , 1008.75450246, 1011.974408  ,\n       1011.55544484, 1015.84322838, 1008.86968847, 1014.62810449,\n       1011.13371697, 1009.79197449, 1014.80322448, 1020.40726488,\n       1018.60912507, 1023.12979473, 1010.98617602, 1013.29125352,\n       1019.30248646, 1012.9348621 , 1023.3349638 , 1015.96328094,\n       1022.03496534, 1018.82032921, 1020.50150448, 1021.09620499,\n       1018.59479848, 1013.91472921, 1017.39897468, 1021.04907613,\n       1020.69531772, 1020.11782474, 1021.28220182, 1017.72608742,\n       1022.22260598, 1020.66004713, 1020.98231994, 1018.49559669,\n       1019.43866004, 1022.70927306, 1018.51166184, 1018.67195941,\n       1014.43161952, 1013.45636205, 1014.66609293, 1014.17012861,\n       1009.33740341, 1011.65120356, 1013.70748429, 1017.06647945,\n       1019.37071879, 1020.73121216, 1015.88746344, 1015.23172949,\n       1014.15479258, 1015.07914162, 1015.51544706, 1018.64248248,\n       1016.74884169, 1014.81246081, 1012.94697906, 1013.72122136,\n       1012.41505388, 1016.71354135, 1019.09932355, 1020.59930682,\n       1015.35835738, 1017.78688145, 1007.34761125, 1012.6979529 ,\n       1012.81704571, 1014.34251692, 1019.7692927 , 1019.83134922,\n       1017.22865902, 1017.81169712, 1018.32627627, 1020.50660535,\n       1017.51189903, 1013.50920354, 1010.92764811, 1013.1734841 ,\n       1014.44899537, 1014.67036924, 1014.78195941, 1015.65635139,\n       1011.59220719, 1013.50139065, 1012.95276531, 1016.85925132,\n       1014.29675483, 1013.52605119, 1011.81523112, 1010.61358832,\n       1009.13279599, 1017.86546332, 1016.62368725, 1017.87994153,\n       1018.35366927, 1019.02985314, 1019.9031011 , 1018.15631694,\n       1013.52317958, 1015.62307491, 1020.23678042, 1016.49585509,\n       1014.74621584, 1015.93648189, 1017.19162718, 1018.92362435,\n       1021.40307128, 1018.78478456, 1018.14644742, 1013.6062991 ,\n       1017.35500862, 1017.38399191, 1017.78154624, 1016.89910972,\n       1020.73378198, 1022.33353461, 1021.53475467, 1018.46163708,\n       1017.08687462, 1018.4717088 , 1021.19981957, 1020.04643288,\n       1013.75683136, 1014.43658615, 1017.36641594, 1019.0116687 ,\n       1016.66784785, 1015.99888353, 1013.82287329, 1015.76430623,\n       1016.46958081, 1015.52998617, 1014.44913209, 1014.02988613,\n       1018.6495116 , 1024.43105453, 1024.77207408, 1019.17512613,\n       1018.69812071, 1016.4819368 , 1019.12114056, 1018.53338399,\n       1021.6777541 , 1021.92897485, 1026.88689359, 1016.64592716,\n       1013.50191594, 1009.74824509, 1021.6928635 , 1011.86093337,\n       1023.77881848, 1023.53041738, 1023.60594993, 1023.22334883,\n       1023.15397233, 1021.95726342, 1020.96608437, 1023.4586079 ,\n       1024.59406113, 1017.87747497, 1020.494083  , 1018.86640903,\n       1023.78796624, 1023.46530544, 1013.02236961, 1012.63057415,\n       1024.48717973, 1024.2467398 , 1022.52086503, 1019.88590073,\n       1024.05718111, 1023.54921093, 1018.92194951, 1012.37812551,\n       1011.09809415, 1010.77509784, 1006.83594934, 1006.82956352,\n       1004.43268076, 1013.05261424, 1023.72386593, 1026.32926915,\n       1019.45161771, 1022.31266414, 1023.51211111, 1021.9042382 ,\n       1022.51793221, 1017.78043515, 1017.07296586, 1016.77598684,\n       1021.85495194, 1020.61910052, 1023.68414391, 1028.90602585,\n       1028.61747426, 1022.14708879, 1010.67255776, 1019.32580076,\n       1025.11374982, 1017.3294332 , 1008.3321368 , 1005.28459304,\n        992.79611609, 1003.45898862, 1012.60854856, 1022.07963136,\n       1004.4082803 , 1008.78098215, 1015.9589038 , 1000.47156618,\n       1010.30015284, 1014.98635894, 1010.88423994, 1001.51321742,\n       1013.35003129,  998.31928922, 1022.25804434, 1026.12308682,\n       1025.3319727 , 1027.51539373, 1031.44315952, 1031.26131895,\n       1032.43851889, 1031.40735628, 1026.65198554, 1022.04154329,\n       1023.04792135, 1020.22797112, 1015.52373501, 1007.60901367,\n       1006.17872989, 1008.2054867 , 1008.80415234, 1006.17073933,\n       1015.25356043, 1021.69038247, 1024.96654711, 1025.34332886,\n       1023.10949991, 1017.5437182 , 1001.41886653, 1017.5269871 ,\n       1020.7127487 , 1019.25340267, 1011.09884789, 1002.64617833,\n       1024.26556601, 1029.48953013, 1033.85675885, 1034.69243535,\n       1031.09681646, 1024.47227392, 1029.49409172, 1031.306269  ,\n       1031.45750742, 1025.81677751, 1029.37723681, 1032.85926523,\n       1031.70417193, 1029.31312428, 1029.09086912, 1029.63422949,\n       1029.81925368, 1028.78193801, 1033.22486038, 1030.79174914,\n       1027.04279937, 1015.20250737, 1024.34281381, 1020.13365589,\n       1021.28226828, 1017.32085546, 1026.75829893, 1016.11713988,\n       1026.35014675, 1032.60533282, 1026.09984979, 1023.40069826,\n       1029.47494897, 1026.28156138, 1018.28954876, 1010.30340183,\n       1019.30009698, 1011.55223351, 1019.06183219, 1012.38844904,\n       1022.91388333, 1017.7085151 , 1009.18048025, 1025.40843982,\n       1025.47673605, 1015.3650461 , 1025.74865045, 1030.54263225,\n       1025.34576217, 1025.96941251, 1026.63273511, 1021.06602637,\n       1017.24631353, 1017.96892183, 1020.74538493, 1023.35946819,\n       1022.29323563, 1018.81713329, 1026.49203957, 1022.93332314,\n       1018.51686911, 1021.29699627, 1018.67952905, 1028.09815136,\n       1023.17474699, 1021.90188971, 1025.1208681 , 1033.38581461,\n       1030.15672393, 1027.43620468, 1031.96881457, 1029.47114687,\n       1025.93259385, 1026.48697529, 1023.60443921, 1025.68644986,\n       1025.66022245, 1019.68770614, 1006.96269535, 1005.58077355,\n       1001.48152822, 1005.76288976, 1014.16282954, 1022.23000758,\n       1017.45288798, 1015.52403666, 1010.62916955, 1004.04107115,\n       1008.85089015, 1015.47255285, 1023.88471498, 1015.51459097,\n       1016.81319095, 1016.18109772, 1020.31237324, 1022.96683404,\n       1023.32831722, 1022.62242149, 1017.68184561, 1013.35501977,\n       1009.87882485, 1005.68846966, 1003.42102331, 1001.42020274,\n       1003.58002158, 1014.54829436, 1015.92619301, 1022.08339313,\n       1024.60531201, 1022.0917081 , 1020.91785856, 1020.12049738,\n       1015.92526729, 1014.1056216 , 1017.45768178, 1020.35779391,\n       1021.4375852 , 1017.60869849, 1021.22312872, 1021.58387093,\n       1019.81395657, 1015.99542324, 1021.73315389, 1020.37965095,\n       1019.63923766, 1015.40332755, 1020.82020731, 1019.04219229,\n       1020.17190019, 1021.31136835, 1018.87502703, 1020.55741645,\n       1012.61570896, 1007.68851446, 1013.38782618, 1017.00860575,\n       1022.89140925, 1018.9904647 , 1017.43434208, 1011.4606831 ,\n       1014.05548604, 1013.84825124, 1015.5584279 , 1017.4708415 ,\n       1015.45766389, 1017.01813702, 1015.93403884, 1018.47478592,\n       1014.91020216, 1012.56189544, 1017.3689414 , 1022.47758301,\n       1020.63413535, 1019.47460192, 1018.90893317, 1018.75431216,\n       1014.92891674, 1017.46290915, 1021.54010783, 1016.58250053,\n       1009.8884729 , 1014.48947156, 1013.13990762, 1013.56863862,\n       1012.40582898, 1012.44496715, 1013.01492138, 1014.35380401,\n       1017.3528113 , 1017.75214149, 1012.46830993, 1012.50068737,\n       1021.35045965, 1019.00665795, 1017.33391686, 1018.53706334,\n       1018.3549739 , 1021.39707556, 1020.79252743, 1027.49959846,\n       1021.31963519, 1020.45169354, 1018.67451569, 1021.01252956,\n       1019.40616881, 1017.49050048, 1019.67702711, 1021.89069158,\n       1022.93430369, 1020.71520909, 1015.70804819, 1018.12916819,\n       1019.04179756, 1015.0157116 , 1018.29747504, 1017.15938049,\n       1011.39603517, 1016.77831678, 1013.72433274, 1013.92599005,\n       1015.48091139, 1018.42632233, 1016.70595558, 1016.47227507,\n       1018.15073854, 1014.40642853, 1014.42785966, 1014.99833636,\n       1022.77811631, 1017.23895711, 1020.55733789, 1019.37714976,\n       1019.3356631 , 1016.76780538, 1015.08088416, 1014.98168743,\n       1011.90092353, 1009.88946993, 1009.83724391, 1011.38950414,\n       1014.95289321, 1015.12066141, 1018.19541677, 1015.44469397,\n       1013.75100949, 1016.34496345, 1016.90559895, 1015.39903348,\n       1013.56757979, 1015.0755394 , 1017.38354263, 1019.1013033 ,\n       1017.28059776, 1017.63281357, 1016.0740286 , 1014.68726869,\n       1015.64040512, 1019.13579793, 1018.79525139, 1015.01888653,\n       1014.61804766, 1013.59388236, 1015.03411526, 1017.61666523,\n       1018.02223208, 1014.39459597, 1011.25716175, 1009.51799235,\n       1011.36583126, 1012.68681186, 1018.46096225, 1018.0057663 ,\n       1020.11571375, 1020.96964961, 1021.90912228, 1019.86058293,\n       1015.05461229, 1013.86404839, 1014.62583666, 1009.31995008,\n       1005.65871259, 1003.20681922, 1006.38675014, 1013.4450531 ,\n       1015.96085344, 1022.30744443, 1023.24990922])"
     },
     "execution_count": 84,
     "metadata": {},
     "output_type": "execute_result"
    }
   ],
   "source": [
    "# Prediction\n",
    "prediction"
   ],
   "metadata": {
    "collapsed": false,
    "pycharm": {
     "name": "#%%\n"
    }
   }
  },
  {
   "cell_type": "markdown",
   "source": [
    "*Error values*"
   ],
   "metadata": {
    "collapsed": false,
    "pycharm": {
     "name": "#%% md\n"
    }
   }
  },
  {
   "cell_type": "code",
   "execution_count": 85,
   "outputs": [
    {
     "name": "stdout",
     "output_type": "stream",
     "text": [
      "Mean Absolute Error: 3.061828450299197\n",
      "Mean Squared Error: 8.797552368492019\n"
     ]
    }
   ],
   "source": [
    "print(\"Mean Absolute Error:\", MAE(y_test, prediction))\n",
    "print(\"Mean Squared Error:\", MSE(y_test, prediction))"
   ],
   "metadata": {
    "collapsed": false,
    "pycharm": {
     "name": "#%%\n"
    }
   }
  },
  {
   "cell_type": "markdown",
   "source": [
    "## Results\n",
    "As we can see, *Mean Absolute Error* decreased by ***5%*** and *Mean Squared Error* by ***13.7%*** after optimization, compared to initial n = 5\n",
    "We've got that for the first method:\n",
    "- Mean Absolute Error: 3.061828450299197 hPa\n",
    "- Mean Squared Error: 8.797552368492019 hPa\n",
    "\n",
    "## Zero theory\n",
    "In this case we can assume that the dataset can be split into such segments of length n,\n",
    "that the change of the given value can be approximated as linear.\n",
    "Then, the daily change will be *c = (X [ i ] - X [ i - n ]) / n* and *X [ i + 1 ] = X [ i ] + c*"
   ],
   "metadata": {
    "collapsed": false,
    "pycharm": {
     "name": "#%% md\n"
    }
   }
  },
  {
   "cell_type": "code",
   "execution_count": 101,
   "outputs": [],
   "source": [
    "def zero_func2(X):\n",
    "    return np.array([x[-1] + (x[-1] - x[0]) / len(x) for x in X])"
   ],
   "metadata": {
    "collapsed": false,
    "pycharm": {
     "name": "#%%\n"
    }
   }
  },
  {
   "cell_type": "code",
   "execution_count": 103,
   "outputs": [
    {
     "data": {
      "text/plain": "array([1028.43042449, 1027.06919891, 1022.92067469, 1020.42832143,\n       1018.0424902 , 1020.57065238, 1027.68127959, 1026.77558435,\n       1021.31758218, 1015.72426939, 1015.26635102, 1017.00550259,\n       1020.52198231, 1022.54437143, 1024.66979211, 1021.0033649 ,\n       1014.36357619, 1016.28141156, 1020.74180782, 1021.57444014,\n       1024.10769156, 1027.18857728, 1025.48846367, 1023.30799524,\n       1022.43411517, 1021.25644741, 1016.97117932, 1015.22796395,\n       1023.14719082, 1022.93546993, 1019.72904592, 1016.1682102 ,\n       1015.03465272, 1013.60934204, 1009.19959973, 1009.72413796,\n       1014.00490918, 1017.9691151 , 1014.71421837, 1010.4745117 ,\n       1008.93416803, 1009.01181279, 1007.01548639, 1010.16819796,\n       1008.33713701, 1007.84591088, 1011.63244449, 1017.17526449,\n       1016.78048694, 1016.79539646, 1020.46421197, 1022.90803381,\n       1017.5090917 , 1011.94000714, 1005.58024864, 1003.69732517,\n       1015.37676871, 1009.00712014, 1009.74997905, 1015.07691667,\n       1020.11941864, 1021.39381857, 1022.84870748, 1019.88074116,\n       1019.64112789, 1020.59111837, 1020.68628231, 1025.98475646,\n       1031.09233741, 1031.41206939, 1031.51877415, 1030.66984082,\n       1027.40552177, 1022.74552245, 1019.03729048, 1018.15281088,\n       1018.19022653, 1015.83029456, 1007.13256871,  998.42807197,\n       1000.65073741, 1004.83461497, 1008.75708027, 1011.76549905,\n       1012.76244272, 1011.96348571, 1008.77414449, 1006.13923401,\n       1011.34673537, 1015.82257891, 1018.06337415, 1016.18538639,\n       1013.02363184, 1014.59640748, 1018.22465673, 1021.04017551,\n       1020.93956313, 1023.58347707, 1022.1474015 , 1019.71527381,\n       1016.63962259, 1013.85081122, 1013.71366735, 1016.16876367,\n       1015.08578218, 1013.94527279, 1010.78147959, 1013.55116395,\n       1018.65883265, 1019.84039007, 1018.13035714, 1018.2017902 ,\n       1020.25548694, 1017.86944014, 1016.33561735, 1013.8947951 ,\n       1021.26404184, 1023.19659211, 1020.54184844, 1015.6674649 ,\n       1014.91053435, 1018.05412177, 1019.3979702 , 1018.54698912,\n       1016.0976166 , 1015.86546054, 1019.59138762, 1019.90644109,\n       1015.61816177, 1013.15551102, 1013.45375279, 1013.87673823,\n       1015.03926395, 1013.83943986, 1018.63117374, 1018.2457498 ,\n       1015.33274408, 1013.33340136, 1013.47548524, 1011.99584966,\n       1015.29483456, 1017.52303184, 1018.33803986, 1018.40869551,\n       1018.74391449, 1016.89547245, 1013.55001224, 1014.49911565,\n       1013.94775605, 1014.50581714, 1015.64210245, 1014.32472517,\n       1010.81556204, 1012.37367946, 1013.28340503, 1011.14838619,\n       1009.7343202 , 1012.18946286, 1018.53365116, 1019.13236224,\n       1017.46057197, 1014.21317415, 1015.67599728, 1015.88927878,\n       1007.38112653, 1006.63266088, 1010.68069796, 1016.95257415,\n       1016.51985578, 1017.24754728, 1021.91363633, 1023.21804857,\n       1018.31355374, 1018.05241905, 1021.65281884, 1026.07592544,\n       1023.39203946, 1018.98235837, 1016.09511211, 1018.55013156,\n       1023.79455673, 1023.69077034, 1021.49701837, 1019.33038   ,\n       1019.79234218, 1020.21130435, 1018.12389524, 1014.35190435,\n       1014.61730136, 1012.26783401, 1009.5408566 , 1007.4341532 ,\n       1002.97037619, 1003.60470231, 1002.8640249 , 1010.82225007,\n       1017.70715939, 1014.57867932, 1006.54752884,  992.69523878,\n        992.59569041,  997.73035238, 1006.03254728, 1009.05005646,\n       1015.90884871, 1022.07308571, 1021.17937293, 1021.98784667,\n       1021.36932075, 1020.98659116, 1012.74046054, 1011.50933551,\n       1013.60129306, 1016.5396883 , 1018.53160626, 1022.4142449 ,\n       1022.11129156, 1016.99505238, 1012.49089116, 1016.1424566 ,\n       1015.14806667, 1018.56476735, 1010.3589983 , 1007.03164946,\n       1012.30075116, 1014.88919075, 1021.58160952, 1025.9036568 ,\n       1023.15492007, 1020.07666735, 1018.26180313, 1024.68936054,\n       1029.31302313, 1034.12556667, 1032.05543197, 1026.62169626,\n       1024.71047789, 1023.68307313, 1025.52940095, 1025.0955381 ,\n       1022.44490531, 1021.7422898 , 1020.09886435, 1015.04742007,\n       1019.82632286, 1028.58514762, 1026.57986299, 1026.83358367,\n       1034.46097959, 1034.99375374, 1030.16864381, 1029.14764252,\n       1025.58650782, 1020.8067451 , 1021.59447959, 1019.73670578,\n       1017.7938    , 1022.32805599, 1026.83190367, 1018.90311272,\n       1015.29688347, 1005.73187184,  989.06153231,  995.72708075,\n        999.03327864,  998.75610932, 1000.49395184, 1008.36321823,\n       1007.30946014, 1000.62842565,  997.75912435, 1011.36567007,\n       1012.6622385 , 1013.07942211, 1017.68450299, 1023.10933034,\n       1024.37006293, 1020.50399075, 1021.61992721, 1023.32656599,\n       1020.56805728, 1016.0276351 , 1012.19520639, 1020.43100769,\n       1025.88357238, 1001.25616803,  976.80212218,  986.62048599,\n       1000.61338558, 1003.02091803, 1006.35802612, 1008.91687007,\n       1009.95839741, 1011.86499306, 1011.91082789, 1012.9264985 ,\n       1015.38142857, 1016.84162109, 1019.1890502 , 1021.71671265,\n       1023.41815184, 1018.02968748, 1019.27270109, 1018.06444476,\n       1021.31873578, 1027.76659116, 1020.46996082, 1027.48104286,\n       1020.02947823, 1009.03281646, 1000.18416497,  991.68149932,\n        994.58231871,  999.05776816, 1003.39008333, 1020.1988117 ,\n       1016.94571361, 1009.89759075, 1004.18364082, 1000.40166667,\n        997.80978272,  994.5663449 , 1005.72676122, 1005.55939878,\n       1014.56889946, 1012.3583502 , 1003.33336558,  996.42475116,\n        996.46868571,  999.62109388, 1003.47326599, 1023.31738966,\n       1024.19141156, 1031.8475517 , 1037.66436565, 1034.5297102 ,\n       1023.76284585, 1021.38175837, 1016.53294252, 1018.52506639,\n       1019.55801932, 1018.93806463, 1021.65565782, 1033.01580612,\n       1033.57804354, 1030.38307075, 1031.23558687, 1033.33187755,\n       1032.52437211, 1030.81788027, 1031.15761701, 1030.11315034,\n       1021.3846849 , 1021.60578898, 1027.85636531, 1023.94503912,\n       1020.00305442, 1018.72755483, 1019.46428599, 1011.36036966,\n       1014.47199565, 1009.03836122, 1012.82850891, 1015.78705388,\n       1023.4945083 , 1022.90790857, 1023.3678568 , 1019.22119061,\n       1025.69073197, 1023.32206435, 1023.42962626, 1026.61748912,\n       1023.89996993, 1022.28061374, 1020.92327381, 1026.43091156,\n       1031.20439837, 1032.4991449 , 1030.81961293, 1023.92827007,\n       1019.4113551 , 1018.38654218, 1021.13433333, 1021.88398027,\n       1014.86183741, 1016.83633048, 1020.93156626, 1024.3805585 ,\n       1019.06383014, 1015.37284483, 1011.40127075, 1025.3787415 ,\n       1030.7954381 , 1028.14676599, 1026.90831497, 1023.23812925,\n       1020.54823537, 1019.94682041, 1019.07336122, 1016.31175537,\n       1015.14822619, 1019.96829946, 1024.21004014, 1022.76983422,\n       1020.08385442, 1015.20842435, 1007.07358816, 1003.83269156,\n       1006.77662687, 1010.73780068, 1011.47467891, 1016.56953571,\n       1022.14569483, 1012.15426898, 1010.88598027, 1010.55797048,\n       1015.21722068, 1017.67985986, 1010.23327592, 1008.1580898 ,\n       1009.26399796, 1013.21701701, 1010.1753415 , 1011.0322102 ,\n       1009.88346313, 1006.18042088, 1010.7545868 , 1017.40501122,\n       1020.26685395, 1022.37183565, 1013.57580476, 1011.7033966 ,\n       1018.50924599, 1014.57080259, 1020.90710925, 1018.08840408,\n       1019.62662735, 1020.97275327, 1021.14209701, 1022.45073116,\n       1020.04239728, 1015.88239837, 1015.86575986, 1020.93603796,\n       1021.02111592, 1021.64157442, 1021.64256299, 1020.08520136,\n       1021.00383061, 1021.69988054, 1021.11545306, 1019.63293605,\n       1020.2361051 , 1023.27221565, 1019.9748702 , 1017.48580163,\n       1014.10618503, 1012.68714286, 1014.06842381, 1013.71909293,\n       1008.32860626, 1008.17302762, 1012.62886517, 1017.17773265,\n       1018.71836293, 1019.9899483 , 1017.56156905, 1013.93780068,\n       1013.58136633, 1014.5267181 , 1015.54391864, 1017.93737497,\n       1018.00228469, 1015.5360902 , 1013.09459694, 1013.12796327,\n       1012.32587143, 1016.09313224, 1019.5563015 , 1022.08896395,\n       1016.62972857, 1017.18804354, 1009.55474898, 1009.63365755,\n       1011.92377347, 1013.58399136, 1018.71582735, 1020.87601293,\n       1018.34868503, 1017.2485034 , 1017.90356204, 1019.9185585 ,\n       1019.40516476, 1014.31895782, 1010.05770476, 1010.96278776,\n       1013.39735633, 1014.36466054, 1015.06964054, 1015.39129293,\n       1011.79582857, 1011.52861061, 1012.08003551, 1016.42637823,\n       1016.02271156, 1013.37169061, 1011.29087673, 1009.22575272,\n       1008.00437782, 1014.88544871, 1018.76423646, 1017.98800422,\n       1018.84481293, 1018.63350925, 1019.92419442, 1019.83552327,\n       1014.72912245, 1014.87536177, 1019.30234721, 1018.00420639,\n       1015.9705381 , 1016.13064626, 1016.93340694, 1018.58972789,\n       1021.20168912, 1020.24978844, 1018.6065915 , 1014.52795578,\n       1015.82647483, 1017.77213741, 1017.79005204, 1017.09733973,\n       1020.65214422, 1023.64511143, 1023.02678925, 1019.62051272,\n       1017.13425102, 1018.21801306, 1021.36537891, 1021.40445782,\n       1016.18138231, 1013.75620204, 1016.0692017 , 1018.3344502 ,\n       1017.83705374, 1016.1402381 , 1014.45743912, 1014.26967633,\n       1015.80610952, 1015.2450785 , 1013.72774728, 1013.31614599,\n       1018.09086531, 1025.07262381, 1027.04605442, 1022.33317395,\n       1019.27416054, 1016.73945612, 1017.95587442, 1019.27337211,\n       1022.35273762, 1022.9550619 , 1027.83605374, 1020.47326122,\n       1013.97088109, 1008.59015259, 1017.81563755, 1013.74894558,\n       1021.03950184, 1025.07777211, 1025.16522136, 1025.11052626,\n       1025.2895619 , 1024.33015374, 1022.40636367, 1023.49934912,\n       1025.65616599, 1019.87649728, 1020.50286259, 1021.28417714,\n       1024.23188571, 1024.85460068, 1015.35086163, 1010.71880449,\n       1021.52388912, 1026.67059503, 1024.91650374, 1021.92843605,\n       1024.06804286, 1025.0613615 , 1020.4336166 , 1013.45317238,\n       1009.48442245, 1008.30802041, 1005.13012721, 1003.98869762,\n       1001.21538163, 1008.59988367, 1022.06649776, 1028.58148537,\n       1023.1464283 , 1021.67031755, 1023.88334524, 1023.80944503,\n       1024.14819116, 1019.80840782, 1016.35026177, 1016.64831735,\n       1021.22045265, 1022.7504417 , 1024.03236463, 1029.3222449 ,\n       1031.37754558, 1025.61729014, 1012.4089917 , 1016.5934698 ,\n       1025.38745442, 1020.39601524, 1009.63160476, 1002.64717687,\n        989.3569619 ,  994.36135918, 1007.93748789, 1019.85424408,\n       1006.96058408, 1002.78986054, 1012.81487075, 1002.07636925,\n       1004.62025456, 1013.94952925, 1012.04215361, 1000.47792449,\n       1005.92161932,  998.44009694, 1014.48202415, 1028.70157143,\n       1029.4691385 , 1030.08915408, 1032.41245891, 1036.21800952,\n       1037.50111088, 1036.93710238, 1032.25581592, 1025.9315381 ,\n       1023.59068639, 1023.22766463, 1016.61508129, 1007.65662197,\n       1002.6735834 , 1004.41856327, 1003.81733592, 1002.9420698 ,\n       1011.20336218, 1021.52057755, 1026.06752517, 1027.85005714,\n       1023.30959932, 1019.95471605, 1002.96328844, 1010.57049354,\n       1019.81989673, 1019.95912095, 1012.1152449 , 1002.6124702 ,\n       1018.49855986, 1030.76935469, 1037.73432585, 1040.58566837,\n       1037.36238612, 1029.39749286, 1030.05538367, 1036.19929592,\n       1037.2003932 , 1031.83757823, 1030.49486735, 1035.34353741,\n       1036.02765748, 1033.68720306, 1032.19880476, 1032.7196819 ,\n       1032.31302544, 1031.05656463, 1036.14128503, 1035.6254902 ,\n       1031.10699252, 1019.52453041, 1022.11036871, 1020.62513524,\n       1019.11633129, 1016.30722612, 1025.21227415, 1019.16200816,\n       1022.81467429, 1033.54246143, 1030.18426803, 1025.80843061,\n       1030.25306531, 1029.95403061, 1020.87773061, 1011.31652245,\n       1016.25713265, 1012.5006983 , 1015.13493211, 1013.05427333,\n       1020.13121361, 1019.63607687, 1011.2379849 , 1022.51425054,\n       1026.2271102 , 1019.00682109, 1026.66101401, 1033.87486082,\n       1029.24843646, 1028.88559592, 1028.34988612, 1023.58213265,\n       1017.38145102, 1017.63374014, 1019.34801497, 1021.79981973,\n       1022.03513184, 1021.16764735, 1025.42820748, 1024.6154966 ,\n       1019.13244422, 1019.69789694, 1017.59274898, 1026.91412925,\n       1026.24864252, 1022.6929419 , 1024.52459592, 1032.90471837,\n       1033.42853878, 1029.63565272, 1032.20958503, 1032.27805102,\n       1030.73195714, 1028.11116667, 1026.87535068, 1027.11835986,\n       1027.92831769, 1023.79556272, 1011.01107857, 1002.38665252,\n        996.70371333,  999.51207619, 1009.17655374, 1020.56764313,\n       1020.2342949 , 1014.97407578, 1009.84552653, 1002.70552245,\n       1002.6410781 , 1011.72964898, 1022.35394966, 1017.72877646,\n       1013.20217007, 1014.66383878, 1018.29141701, 1022.70590762,\n       1025.21155265, 1023.66451442, 1017.04417619, 1012.46734184,\n       1009.41490816, 1005.45595565, 1001.1703415 ,  998.07428469,\n        998.60766299, 1009.8576751 , 1014.85697755, 1021.37891769,\n       1025.92590748, 1025.2559234 , 1021.77830313, 1019.82328095,\n       1016.41696354, 1015.34552694, 1017.17132721, 1020.2506449 ,\n       1022.38236313, 1020.51178163, 1020.89257347, 1022.91861156,\n       1020.77602571, 1017.21413946, 1019.20255714, 1020.92644966,\n       1020.88663673, 1017.24603741, 1019.0154332 , 1020.19647483,\n       1020.14491531, 1021.20372388, 1020.34819116, 1021.7918381 ,\n       1014.68537442, 1005.8776998 , 1009.89520612, 1016.06796939,\n       1023.12252449, 1022.17901374, 1018.8743381 , 1013.09116293,\n       1011.56151973, 1012.82325306, 1015.24834463, 1016.97574667,\n       1016.19830626, 1017.21067306, 1015.76489116, 1017.73752857,\n       1016.0545068 , 1012.43173401, 1016.32971565, 1022.70527143,\n       1022.76776054, 1020.53649728, 1019.89214095, 1019.39592381,\n       1016.0405034 , 1017.7864117 , 1022.15717401, 1018.69530082,\n       1010.65063129, 1012.10275048, 1011.38385184, 1011.25841211,\n       1011.56817497, 1012.22604816, 1012.55846395, 1012.18794054,\n       1015.99232925, 1017.73493224, 1013.47446701, 1011.57628109,\n       1020.40535714, 1020.74402721, 1018.10183782, 1018.39013755,\n       1019.73842381, 1022.87230122, 1022.72065782, 1027.96632857,\n       1025.08274286, 1022.22303116, 1021.04848776, 1022.1732498 ,\n       1021.51367306, 1017.2574819 , 1018.63998218, 1021.24408367,\n       1023.5494215 , 1022.18943905, 1017.42807755, 1017.36796054,\n       1019.67844095, 1015.9425502 , 1016.30889524, 1017.44837265,\n       1012.66510884, 1014.89116327, 1014.4884017 , 1012.9639619 ,\n       1014.91558435, 1017.83122177, 1017.75848748, 1016.72401939,\n       1017.40826449, 1015.32077673, 1013.70496599, 1013.76839551,\n       1020.77540238, 1018.9755068 , 1019.66007891, 1021.26157211,\n       1020.43077619, 1018.07518639, 1015.68869633, 1014.52324286,\n       1010.00027129, 1007.99046544, 1008.83992082, 1009.83131415,\n       1012.9944    , 1014.75477741, 1017.98384354, 1016.21210925,\n       1013.70192245, 1015.43362816, 1016.72169932, 1014.89847667,\n       1013.07152054, 1014.04763687, 1015.92481837, 1017.93198599,\n       1017.64364014, 1018.25019265, 1016.83679361, 1014.23762381,\n       1014.44668694, 1018.39188293, 1019.52563333, 1016.44895531,\n       1014.1128332 , 1012.35080381, 1014.06270408, 1017.01785361,\n       1018.45913265, 1015.25598095, 1010.67506211, 1007.85378585,\n       1009.1166634 , 1011.39854252, 1017.29252177, 1019.11212483,\n       1020.3919551 , 1022.17719646, 1023.1989117 , 1021.93290068,\n       1017.05228925, 1013.61659238, 1013.00208626, 1008.8441968 ,\n       1003.99061075, 1000.61827769, 1002.52444435, 1010.46081769,\n       1015.40417823, 1021.19217061, 1024.78083224])"
     },
     "execution_count": 103,
     "metadata": {},
     "output_type": "execute_result"
    }
   ],
   "source": [
    "prediction = zero_func2(X_test)\n",
    "prediction"
   ],
   "metadata": {
    "collapsed": false,
    "pycharm": {
     "name": "#%%\n"
    }
   }
  },
  {
   "cell_type": "code",
   "execution_count": 104,
   "outputs": [
    {
     "name": "stdout",
     "output_type": "stream",
     "text": [
      "Mean Absolute Error: 3.3733120202108773\n",
      "Mean Squared Error: 10.636971366658162\n"
     ]
    }
   ],
   "source": [
    "print(\"Mean Absolute Error:\", MAE(y_test, prediction))\n",
    "print(\"Mean Squared Error:\", MSE(y_test, prediction))"
   ],
   "metadata": {
    "collapsed": false,
    "pycharm": {
     "name": "#%%\n"
    }
   }
  },
  {
   "cell_type": "markdown",
   "source": [
    "Note, that for zero theory optimal value for n might be different, so we'll find it once more"
   ],
   "metadata": {
    "collapsed": false,
    "pycharm": {
     "name": "#%% md\n"
    }
   }
  },
  {
   "cell_type": "code",
   "execution_count": 106,
   "outputs": [],
   "source": [
    "def zero_MAE(n):\n",
    "    test_X_test = group(data_test, n)\n",
    "    test_y_test = data_test[n:]\n",
    "\n",
    "    test_prediction = zero_func2(test_X_test)\n",
    "    return MAE(test_y_test, test_prediction)"
   ],
   "metadata": {
    "collapsed": false,
    "pycharm": {
     "name": "#%%\n"
    }
   }
  },
  {
   "cell_type": "code",
   "execution_count": 107,
   "outputs": [
    {
     "data": {
      "text/plain": "139"
     },
     "execution_count": 107,
     "metadata": {},
     "output_type": "execute_result"
    }
   ],
   "source": [
    "optimal_n = 1\n",
    "for n in range(1, 400):\n",
    "    if zero_MAE(n) < zero_MAE(optimal_n):\n",
    "        optimal_n = n\n",
    "optimal_n"
   ],
   "metadata": {
    "collapsed": false,
    "pycharm": {
     "name": "#%%\n"
    }
   }
  },
  {
   "cell_type": "code",
   "execution_count": 108,
   "outputs": [],
   "source": [
    "# Creating new datasets split with optimal n = 139\n",
    "data_train, data_test = split(mean_pressure)\n",
    "\n",
    "X_train = group(data_train, optimal_n)\n",
    "y_train = data_train[optimal_n:]\n",
    "\n",
    "X_test = group(data_test, optimal_n)\n",
    "y_test = data_test[optimal_n:]"
   ],
   "metadata": {
    "collapsed": false,
    "pycharm": {
     "name": "#%%\n"
    }
   }
  },
  {
   "cell_type": "code",
   "execution_count": 109,
   "outputs": [
    {
     "data": {
      "text/plain": "array([1017.13443309, 1020.09219453, 1020.36990432, 1017.78861619,\n       1022.5910341 , 1020.83533453, 1018.41827554, 1020.62111583,\n       1028.39805827, 1027.06511511, 1023.08281007, 1020.65926619,\n       1018.23270647, 1020.72829065, 1027.79179741, 1026.90167079,\n       1021.42188561, 1015.73804964, 1015.18498381, 1016.84430576,\n       1020.41619755, 1022.49209971, 1024.70037525, 1021.04716763,\n       1014.3443946 , 1016.30561043, 1020.7463436 , 1021.54740216,\n       1024.07383921, 1027.17511942, 1025.4581536 , 1023.33522806,\n       1022.46671619, 1021.24017842, 1016.99775568, 1015.35624604,\n       1023.25084209, 1022.94108201, 1019.63478633, 1016.03254345,\n       1014.89605396, 1013.48212374, 1009.09082662, 1009.55913309,\n       1013.87227525, 1017.90543669, 1014.75350029, 1010.53104892,\n       1008.92103237, 1009.10379971, 1007.13334101, 1010.4203241 ,\n       1008.47618129, 1007.93438741, 1011.68107878, 1017.19277986,\n       1016.84543309, 1016.79833568, 1020.52298129, 1022.86119101,\n       1017.58809309, 1011.90928094, 1005.50596259, 1003.57969892,\n       1015.29911367, 1008.90486043, 1009.46625252, 1014.7749036 ,\n       1019.81026475, 1021.23896547, 1022.75178129, 1019.83043597,\n       1019.6423259 , 1020.56845899, 1020.70564676, 1026.04229928,\n       1031.13269568, 1031.43207122, 1031.58463022, 1030.71585683,\n       1027.34942734, 1022.73989784, 1019.10401007, 1018.23012921,\n       1018.23981871, 1015.83928777, 1007.12353122,  998.37915252,\n       1000.62763813, 1004.75018921, 1008.63326331, 1011.63704748,\n       1012.69373094, 1011.97352734, 1008.77673482, 1006.19281007,\n       1011.48689683, 1016.07459806, 1018.25222086, 1016.32624353,\n       1013.13212806, 1014.68640612, 1018.26589568, 1021.06175727,\n       1020.92711583, 1023.38861511, 1022.00697338, 1019.62670576,\n       1016.56210935, 1013.7836859 , 1013.75647842, 1016.1802446 ,\n       1015.03790576, 1014.07734748, 1010.85697086, 1013.56307482,\n       1018.69621547, 1019.85314129, 1017.99529353, 1018.12645396,\n       1020.25385719, 1017.75135036, 1016.26701223, 1013.86803165,\n       1021.23973122, 1023.27082374, 1020.70453741, 1015.79450676,\n       1014.93689281, 1018.2323036 , 1019.5977918 , 1018.79033842,\n       1016.22696547, 1015.84135583, 1019.63714058, 1019.97378058,\n       1015.62118633, 1013.04965036, 1013.35229101, 1013.69655755,\n       1014.93182014, 1013.80883165, 1018.47907295, 1018.09712547,\n       1015.33196655, 1013.32699173, 1013.39334532, 1011.94284604,\n       1015.2746341 , 1017.50406619, 1018.3688882 , 1018.40964317,\n       1018.67785108, 1016.85004604, 1013.59483266, 1014.57526655,\n       1014.00005719, 1014.52953266, 1015.62473669, 1014.30925791,\n       1010.83126906, 1012.41017698, 1013.33067626, 1011.14271871,\n       1009.69249353, 1012.15385288, 1018.50654101, 1019.0974964 ,\n       1017.45212518, 1014.19436151, 1015.61870892, 1015.85374   ,\n       1007.40290504, 1006.67201727, 1010.68211115, 1016.97889381,\n       1016.55731799, 1017.29639281, 1021.96652806, 1023.27334489,\n       1018.3697882 , 1018.09371252, 1021.71826547, 1026.11267237,\n       1023.42866115, 1019.02322115, 1016.13817986, 1018.58404561,\n       1023.81510432, 1023.69191367, 1021.53953554, 1019.40281583,\n       1019.8166036 , 1020.16759165, 1018.07131324, 1014.29898388,\n       1014.52495417, 1012.17931986, 1009.47672475, 1007.40533597,\n       1003.01058309, 1003.6958518 , 1002.86908237, 1010.87559928,\n       1017.78304432, 1014.63108201, 1006.52514748,  992.61999381,\n        992.46674496,  997.6115964 , 1005.99791727, 1008.96660719,\n       1015.83117986, 1021.9958223 , 1021.09928777, 1021.9154446 ,\n       1021.30613741, 1020.90958633, 1012.6823036 , 1011.49025612,\n       1013.6104518 , 1016.59236835, 1018.61918813, 1022.52222266,\n       1022.28233309, 1017.22043338, 1012.67589209, 1016.26783561,\n       1015.22046367, 1018.61109137, 1010.39507295, 1007.05591942,\n       1012.29096978, 1014.84016043, 1021.51316331, 1025.83276367,\n       1023.09318309, 1020.04744856, 1018.26161108, 1024.67556331,\n       1029.25349784, 1034.03033525, 1031.99588532, 1026.57214209,\n       1024.68515583, 1023.66171727, 1025.50915871, 1025.10555683,\n       1022.47905899, 1021.77751799, 1020.1402823 , 1015.11165504,\n       1019.90568813, 1028.63204496, 1026.56877626, 1026.7953795 ,\n       1034.43777698, 1034.98662468, 1030.13724489, 1029.12640612,\n       1025.55308741, 1020.80719165, 1021.57725791, 1019.71276942,\n       1017.77552489, 1022.34726094, 1026.87264317, 1018.90139712,\n       1015.27413353, 1005.69527374,  989.08576259,  995.76928561,\n        999.03280532,  998.72010108, 1000.48346719, 1008.39565727,\n       1007.34858453, 1000.65647367,  997.7604295 , 1011.37823453,\n       1012.66671439, 1013.08908892, 1017.68736647, 1023.11121475,\n       1024.37346719, 1020.51879065, 1021.6199341 , 1023.30372691,\n       1020.56987741, 1016.02460396, 1012.16960604, 1020.40827122,\n       1025.88731007, 1001.23374604,  976.79664245,  986.62990043,\n       1000.62596547, 1003.04412302, 1006.40941626, 1008.94577151,\n       1009.95920863, 1011.88842633, 1011.94049683, 1012.9425964 ,\n       1015.36054791, 1016.80814173, 1019.14492978, 1021.7074482 ,\n       1023.40531583, 1017.99844849, 1019.29294281, 1018.10619568,\n       1021.37575   , 1027.78528921, 1020.47779604, 1027.46439281,\n       1019.98621223, 1008.97754129, 1000.10339424,  991.59434964,\n        994.49766518,  998.98579496, 1003.33612446, 1020.18789309,\n       1016.98571612, 1009.92613957, 1004.13936072, 1000.35479209,\n        997.80206619,  994.60254101, 1005.74586115, 1005.54567338,\n       1014.5541    , 1012.3861705 , 1003.39112482,  996.49577986,\n        996.54467439,  999.69892489, 1003.58728741, 1023.43696691,\n       1024.30245727, 1031.87921942, 1037.65062518, 1034.52125683,\n       1023.78933237, 1021.49230647, 1016.61262209, 1018.57346043,\n       1019.54190432, 1018.9542446 , 1021.67055612, 1032.9697777 ,\n       1033.48385007, 1030.18790403, 1031.04413597, 1033.17873921,\n       1032.48650791, 1030.80820835, 1031.17951108, 1030.15529453,\n       1021.4031436 , 1021.60210432, 1027.85315921, 1023.97419137,\n       1020.00726906, 1018.69712633, 1019.45557518, 1011.34424101,\n       1014.52940719, 1009.14380763, 1012.89615727, 1015.80315468,\n       1023.43507842, 1022.84163669, 1023.31432842, 1019.2109554 ,\n       1025.64046734, 1023.20238777, 1023.31232446, 1026.48426259,\n       1023.82556691, 1022.27359496, 1020.91087338, 1026.40741511,\n       1031.15749856, 1032.49918633, 1030.86887367, 1024.01214748,\n       1019.49147302, 1018.46571043, 1021.16767194, 1021.84810791,\n       1014.85004604, 1016.82076691, 1020.84534604, 1024.28713237,\n       1018.99175252, 1015.27265036, 1011.3573705 , 1025.43339309,\n       1030.83262626, 1028.19773022, 1027.02431871, 1023.32401403,\n       1020.56812518, 1020.01630259, 1019.14412849, 1016.41772993,\n       1015.37807158, 1020.1397918 , 1024.34646763, 1022.9385723 ,\n       1020.26970691, 1015.28229022, 1007.1273118 , 1003.86817309,\n       1006.72152978, 1010.63217554, 1011.38212633, 1016.4738705 ,\n       1022.03120647, 1012.05059209, 1010.76572662, 1010.41999784,\n       1015.05351799, 1017.59693201, 1010.1758695 , 1008.13517446,\n       1009.29996727, 1013.23232115, 1010.1590295 , 1011.16616475,\n       1010.19915079, 1006.43588705, 1010.89337165, 1017.49846763,\n       1020.31153022, 1022.45471259, 1013.68483928, 1011.63150101,\n       1018.27455396, 1014.3937623 , 1020.80955899, 1017.99566259,\n       1019.54044863, 1020.88617381, 1021.05027309, 1022.4109554 ,\n       1019.99315468, 1015.84694273, 1015.82338129, 1020.85933813,\n       1021.01237734, 1021.60029281, 1021.666     , 1020.15007799,\n       1021.14104029, 1021.89009928, 1021.30680791, 1019.83504216,\n       1020.35811367, 1023.32250259, 1019.99659209, 1017.48253597,\n       1014.08247446, 1012.63241151, 1014.05236727, 1013.75640216,\n       1008.31346511, 1008.27288518, 1012.64444058, 1017.16317295,\n       1018.72979173, 1020.02566662, 1017.57878094, 1013.90945899,\n       1013.60065252, 1014.40322043, 1015.47543885, 1017.80046978,\n       1017.76306259, 1015.27171799, 1012.90654173, 1012.97824791,\n       1012.23676475, 1016.12537504, 1019.58835784, 1022.1776295 ,\n       1016.7358482 , 1017.19206043, 1009.47926691, 1009.56551583,\n       1011.81745971, 1013.47659281, 1018.62273813, 1020.79198705,\n       1018.27960216, 1017.26280216, 1017.98395942, 1019.97588964,\n       1019.42341727, 1014.37760432, 1010.13818489, 1011.04139424,\n       1013.47415396, 1014.49282158, 1015.11670504, 1015.4786536 ,\n       1011.89694489, 1011.58227309, 1012.05203424, 1016.39540647,\n       1015.99342086, 1013.31619324, 1011.20986259, 1009.12447194,\n       1007.92720719, 1014.80781655, 1018.75909813, 1017.99012561,\n       1018.86016043, 1018.58169353, 1019.88221367, 1019.76778273,\n       1014.67214029, 1014.88911151, 1019.33213058, 1018.03032158,\n       1015.96702014, 1016.15897266, 1017.04431835, 1018.69623986,\n       1021.26893813, 1020.24569281, 1018.60930317, 1014.54852496,\n       1015.89418489, 1017.74532374, 1017.6772554 , 1017.01651583,\n       1020.60874532, 1023.65235755, 1023.01723633, 1019.5888036 ,\n       1017.08136187, 1018.28038705, 1021.4737723 , 1021.46062058,\n       1016.19727554, 1013.75644129, 1016.07091259, 1018.36815151,\n       1017.92279712, 1016.23005827, 1014.51854388, 1014.33457676,\n       1015.89476547, 1015.28759748, 1013.71179813, 1013.33773309,\n       1018.06827072, 1025.03306691, 1026.99325108, 1022.28736403,\n       1019.28543885, 1016.79898094, 1018.04551942, 1019.26784604,\n       1022.36146223, 1022.95556187, 1027.87796791, 1020.55595799,\n       1013.96822158, 1008.52409065, 1017.74058374, 1013.68383885,\n       1021.01931799, 1025.07934317, 1025.11166043, 1025.05965928,\n       1025.22360576, 1024.32859496, 1022.41207237, 1023.51034489,\n       1025.60753453, 1019.80239331, 1020.49109676, 1021.27621942,\n       1024.26854317, 1024.83625712, 1015.33865209, 1010.70945281,\n       1021.51984101, 1026.6888705 , 1024.9111964 , 1021.88897806,\n       1024.03343381, 1025.07175899, 1020.43893849, 1013.43805719,\n       1009.4917695 , 1008.32245324, 1005.17416942, 1004.04749712,\n       1001.25929137, 1008.63921691, 1022.15312058, 1028.69178309,\n       1023.20030029, 1021.6741241 , 1023.85403022, 1023.76121727,\n       1024.12704173, 1019.80946511, 1016.3157446 , 1016.60688676,\n       1021.20306906, 1022.7470823 , 1024.03962518, 1029.35794101,\n       1031.41495396, 1025.62742734, 1012.41763741, 1016.58224604,\n       1025.36214863, 1020.36638058, 1009.63654101, 1002.6285741 ,\n        989.37175468,  994.37801871, 1007.93805252, 1019.87385396,\n       1006.9619082 , 1002.79162194, 1012.80182122, 1002.07008777,\n       1004.55816806, 1013.87725504, 1011.98802201, 1000.46685036,\n       1005.97788273,  998.50164065, 1014.5154341 , 1028.72672878,\n       1029.4944295 , 1030.12584676, 1032.47201403, 1036.24686065,\n       1037.49787597, 1036.90869353, 1032.24490863, 1025.94399755,\n       1023.62131971, 1023.27535899, 1016.64473094, 1007.63149209,\n       1002.62197338, 1004.40252561, 1003.7922259 , 1002.90003993,\n       1011.14109022, 1021.44886086, 1026.02597554, 1027.85464633,\n       1023.30748705, 1019.95537942, 1002.97775468, 1010.58489245,\n       1019.8409436 , 1019.96761331, 1012.06759281, 1002.56939065,\n       1018.50342014, 1030.79933525, 1037.74379496, 1040.58364029,\n       1037.36495863, 1029.4130795 , 1030.06320791, 1036.18120892,\n       1037.17605712, 1031.80805899, 1030.49168417, 1035.34700331,\n       1036.00843957, 1033.66233129, 1032.2349482 , 1032.7939223 ,\n       1032.36628849, 1031.06998734, 1036.14329712, 1035.64752806,\n       1031.16087482, 1019.57516137, 1022.11546331, 1020.61716906,\n       1019.13425899, 1016.34252446, 1025.21390791, 1019.09996259,\n       1022.72838345, 1033.4927759 , 1030.16567698, 1025.80214748,\n       1030.22917122, 1029.91807842, 1020.84820791, 1011.32603705,\n       1016.24693525, 1012.5098554 , 1015.17129396, 1013.11147439,\n       1020.13366734, 1019.67565612, 1011.24310547, 1022.49891439,\n       1026.24585252, 1018.97367338, 1026.5850518 , 1033.77177482,\n       1029.21957165, 1028.8213695 , 1028.3196036 , 1023.61872806,\n       1017.4113777 , 1017.65783058, 1019.35281655, 1021.7950777 ,\n       1022.08544209, 1021.25814   , 1025.45731799, 1024.56829065,\n       1019.10029353, 1019.69262266, 1017.59158561, 1026.91332878,\n       1026.21647842, 1022.6779964 , 1024.61176511, 1033.03847842,\n       1033.57319928, 1029.7665741 , 1032.37581403, 1032.3985554 ,\n       1030.72432993, 1028.00866331, 1026.78453957, 1027.03029022,\n       1027.80347734, 1023.66203065, 1010.85131511, 1002.30441007,\n        996.73528173,  999.58678705, 1009.18524748, 1020.55952187,\n       1020.23161295, 1014.93092158, 1009.78816331, 1002.6573705 ,\n       1002.66367655, 1011.7278482 , 1022.32449712, 1017.74362482,\n       1013.30091007, 1014.84898993, 1018.5868446 , 1022.92818741,\n       1025.24854144, 1023.64388806, 1017.17243237, 1012.58986547,\n       1009.39211079, 1005.46100101, 1001.0659695 ,  997.93587122,\n        998.5747082 , 1009.99237626, 1014.86748129, 1021.41724029,\n       1025.91900504, 1025.07464101, 1021.60699496, 1019.70974892,\n       1016.27274029, 1015.0958482 , 1016.95042662, 1019.98445683,\n       1022.25865612, 1020.52856043, 1020.93141439, 1022.96510072,\n       1020.88478525, 1017.41103345, 1019.44428417, 1021.15239712,\n       1021.08535281, 1017.40701835, 1019.10237626, 1020.20781655,\n       1020.0789446 , 1021.06452734, 1020.20725827, 1021.68747014,\n       1014.69553381, 1005.82404748, 1009.83270604, 1016.07652201,\n       1023.2207964 , 1022.35717799, 1018.90697698, 1013.01122086,\n       1011.3165    , 1012.60974892, 1015.12135683, 1016.90720072,\n       1016.07137842, 1016.97605971, 1015.63022446, 1017.72503022,\n       1016.0978705 , 1012.45823022, 1016.33109137, 1022.67212158,\n       1022.74966331, 1020.5551482 , 1019.92016906, 1019.39646691,\n       1015.99451367, 1017.77759281, 1022.18681151, 1018.79050403,\n       1010.71458417, 1012.18165784, 1011.47037158, 1011.35619712,\n       1011.63672734, 1012.33473957, 1012.61086878, 1012.08526259,\n       1015.93229137, 1017.69671655, 1013.39281511, 1011.47716475,\n       1020.43447194, 1020.80028417, 1018.14627986, 1018.53426619,\n       1019.84177309, 1022.96225353, 1022.78989424, 1028.03904101,\n       1025.15306072, 1022.14732187, 1020.97904029, 1022.13058273,\n       1021.43403813, 1017.11072662, 1018.5742705 , 1021.17888273,\n       1023.43196835, 1022.18157842, 1017.48799029, 1017.37691079,\n       1019.72746835, 1016.02116403, 1016.35521194, 1017.49864065,\n       1012.67968201, 1014.88064676, 1014.47496691, 1012.94755899,\n       1014.92643561, 1017.79310144, 1017.72705612, 1016.7120036 ,\n       1017.41179928, 1015.25761151, 1013.60048345, 1013.69504245,\n       1020.67218561, 1018.93408561, 1019.62526331, 1021.22219784,\n       1020.41297554, 1018.1116705 , 1015.7220777 , 1014.55998173,\n       1010.14423453, 1008.19542777, 1009.07450935, 1010.02787158,\n       1013.11485755, 1014.79618345, 1018.03411151, 1016.27129309,\n       1013.71021799, 1015.43586763, 1016.68727094, 1014.81766259,\n       1012.97893309, 1014.06533201, 1015.97337338, 1017.93506151,\n       1017.58593381, 1018.11299683, 1016.68118633, 1014.15330475,\n       1014.48135468, 1018.42983741, 1019.55582194, 1016.51669669,\n       1014.23554532, 1012.52428741, 1014.24872014, 1017.11378813,\n       1018.47617842, 1015.19421439, 1010.55741655, 1007.71326906,\n       1008.97179137, 1011.24737842, 1017.17230647, 1019.07741964,\n       1020.37764101, 1022.18582806, 1023.22312547, 1021.96428345,\n       1017.05562302, 1013.59129353, 1012.96863554, 1008.82662914,\n       1003.96947806, 1000.60401547, 1002.5265741 , 1010.48035827,\n       1015.41571971, 1021.21126475, 1024.78763417])"
     },
     "execution_count": 109,
     "metadata": {},
     "output_type": "execute_result"
    }
   ],
   "source": [
    "prediction = zero_func2(X_test)\n",
    "prediction"
   ],
   "metadata": {
    "collapsed": false,
    "pycharm": {
     "name": "#%%\n"
    }
   }
  },
  {
   "cell_type": "code",
   "execution_count": 110,
   "outputs": [
    {
     "name": "stdout",
     "output_type": "stream",
     "text": [
      "Mean Absolute Error: 3.3721915684832364\n",
      "Mean Squared Error: 10.604314636986622\n"
     ]
    }
   ],
   "source": [
    "print(\"Mean Absolute Error:\", MAE(y_test, prediction))\n",
    "print(\"Mean Squared Error:\", MSE(y_test, prediction))"
   ],
   "metadata": {
    "collapsed": false,
    "pycharm": {
     "name": "#%%\n"
    }
   }
  },
  {
   "cell_type": "markdown",
   "source": [
    "# Conclusion\n",
    "In our experiment we calculated that Linear Model shows *9.2%* lower Mean Absolute Error and *17%* lower Mean Squared Error"
   ],
   "metadata": {
    "collapsed": false,
    "pycharm": {
     "name": "#%% md\n"
    }
   }
  },
  {
   "cell_type": "code",
   "execution_count": null,
   "outputs": [],
   "source": [],
   "metadata": {
    "collapsed": false,
    "pycharm": {
     "name": "#%%\n"
    }
   }
  }
 ],
 "metadata": {
  "kernelspec": {
   "display_name": "Python 3",
   "language": "python",
   "name": "python3"
  },
  "language_info": {
   "codemirror_mode": {
    "name": "ipython",
    "version": 2
   },
   "file_extension": ".py",
   "mimetype": "text/x-python",
   "name": "python",
   "nbconvert_exporter": "python",
   "pygments_lexer": "ipython2",
   "version": "2.7.6"
  }
 },
 "nbformat": 4,
 "nbformat_minor": 0
}