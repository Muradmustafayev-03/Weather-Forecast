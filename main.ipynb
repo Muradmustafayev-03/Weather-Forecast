{
 "cells": [
  {
   "cell_type": "markdown",
   "source": [
    "# Weather Forecasting algorithms\n",
    "### (Or how to use Linear Regression)"
   ],
   "metadata": {
    "collapsed": false,
    "pycharm": {
     "name": "#%% md\n"
    }
   }
  },
  {
   "cell_type": "code",
   "execution_count": 1,
   "metadata": {
    "collapsed": true
   },
   "outputs": [],
   "source": [
    "import pandas as pd\n",
    "import numpy as np\n",
    "from sklearn import linear_model as skl\n",
    "from regression import Regressors as reg"
   ]
  },
  {
   "cell_type": "markdown",
   "source": [
    "# Creating the datasets"
   ],
   "metadata": {
    "collapsed": false,
    "pycharm": {
     "name": "#%% md\n"
    }
   }
  },
  {
   "cell_type": "code",
   "execution_count": 2,
   "outputs": [
    {
     "data": {
      "text/plain": "            Date  Maximum Temperature (°C)  Minimum Temperature (°C)  \\\n0     02/01/2008                  2.610529                 -4.039472   \n1     03/01/2008                  5.630528                 -1.179471   \n2     04/01/2008                  9.200529                 -1.619471   \n3     05/01/2008                 10.950529                  2.600528   \n4     06/01/2008                  8.540529                  5.860529   \n...          ...                       ...                       ...   \n5385  30/09/2022                 16.190529                  6.340528   \n5386  01/10/2022                 16.310530                  8.130529   \n5387  02/10/2022                 19.560530                 14.260529   \n5388  03/10/2022                 18.200530                 11.390529   \n5389  04/10/2022                 20.910528                  8.400529   \n\n      Mean Temperature (°C)  Sunshine Duration (min)  \\\n0                 -0.716971               220.386890   \n1                  1.312195               149.133350   \n2                  3.012196               132.000000   \n3                  7.090530                 0.000000   \n4                  7.061361               134.042560   \n...                     ...                      ...   \n5385              11.649693               307.843630   \n5386              12.479695                41.554966   \n5387              17.118862               480.000000   \n5388              14.677612               440.240400   \n5389              13.741363               566.983640   \n\n      Shortwave Radiation (MJ/m²)  Precipitation (mm)  \\\n0                        5.264172            0.000000   \n1                        4.194036            0.000000   \n2                        4.972608            0.000000   \n3                        2.124252            1.500000   \n4                        2.159496            8.800001   \n...                           ...                 ...   \n5385                    15.103656            0.000000   \n5386                     5.920992            0.500000   \n5387                    13.254948            0.000000   \n5388                    13.985458            0.000000   \n5389                    15.324732            0.000000   \n\n      Maximum Relative Humidity (%)  Minimum Relative Humidity (%)  \\\n0                                96                             59   \n1                                97                             66   \n2                                96                             60   \n3                                89                             57   \n4                                98                             76   \n...                             ...                            ...   \n5385                             93                             53   \n5386                             86                             61   \n5387                             88                             62   \n5388                             93                             59   \n5389                             88                             42   \n\n      Mean Relative Humidity (%)  Maximum Sea Level Pressure (hPa)  \\\n0                      73.500000                            1022.9   \n1                      79.291664                            1012.2   \n2                      80.000000                            1014.2   \n3                      70.583336                            1015.1   \n4                      90.250000                            1019.7   \n...                          ...                               ...   \n5385                   73.875000                            1014.0   \n5386                   73.750000                            1019.9   \n5387                   75.708336                            1022.8   \n5388                   78.083336                            1026.3   \n5389                   70.125000                            1024.3   \n\n      Minimum Sea Level Pressure (hPa)  Mean Sea Level Pressure (hPa)  \\\n0                               1012.3                     1018.27094   \n1                               1004.9                     1007.71246   \n2                               1007.6                     1010.79987   \n3                               1008.6                     1012.06670   \n4                               1006.1                     1013.62915   \n...                                ...                            ...   \n5385                            1007.2                     1010.52910   \n5386                            1013.5                     1015.44165   \n5387                            1020.2                     1021.20416   \n5388                            1023.3                     1024.75430   \n5389                            1020.6                     1022.30835   \n\n      Maximum Wind Speed (m/s)  Minimum Wind Speed (m/s)  \\\n0                     5.536244                  0.400000   \n1                     6.673080                  0.900000   \n2                     5.292448                  1.500000   \n3                     6.946222                  1.421267   \n4                     7.102817                  0.900000   \n...                        ...                       ...   \n5385                  1.964688                  0.316228   \n5386                  9.411164                  1.552418   \n5387                  8.547514                  1.565247   \n5388                  6.537584                  0.282843   \n5389                  4.554119                  1.166190   \n\n      Mean Wind Speed (m/s)  Wind Direction Dominant (°)  \n0                  3.426518                   110.169304  \n1                  4.628796                   111.911970  \n2                  3.371137                   114.188460  \n3                  3.831986                   201.784740  \n4                  3.537873                   246.239300  \n...                     ...                          ...  \n5385               1.089594                   283.240500  \n5386               4.244933                   237.491330  \n5387               5.617112                   263.698400  \n5388               2.786462                   347.471200  \n5389               2.962703                   118.800026  \n\n[5390 rows x 17 columns]",
      "text/html": "<div>\n<style scoped>\n    .dataframe tbody tr th:only-of-type {\n        vertical-align: middle;\n    }\n\n    .dataframe tbody tr th {\n        vertical-align: top;\n    }\n\n    .dataframe thead th {\n        text-align: right;\n    }\n</style>\n<table border=\"1\" class=\"dataframe\">\n  <thead>\n    <tr style=\"text-align: right;\">\n      <th></th>\n      <th>Date</th>\n      <th>Maximum Temperature (°C)</th>\n      <th>Minimum Temperature (°C)</th>\n      <th>Mean Temperature (°C)</th>\n      <th>Sunshine Duration (min)</th>\n      <th>Shortwave Radiation (MJ/m²)</th>\n      <th>Precipitation (mm)</th>\n      <th>Maximum Relative Humidity (%)</th>\n      <th>Minimum Relative Humidity (%)</th>\n      <th>Mean Relative Humidity (%)</th>\n      <th>Maximum Sea Level Pressure (hPa)</th>\n      <th>Minimum Sea Level Pressure (hPa)</th>\n      <th>Mean Sea Level Pressure (hPa)</th>\n      <th>Maximum Wind Speed (m/s)</th>\n      <th>Minimum Wind Speed (m/s)</th>\n      <th>Mean Wind Speed (m/s)</th>\n      <th>Wind Direction Dominant (°)</th>\n    </tr>\n  </thead>\n  <tbody>\n    <tr>\n      <th>0</th>\n      <td>02/01/2008</td>\n      <td>2.610529</td>\n      <td>-4.039472</td>\n      <td>-0.716971</td>\n      <td>220.386890</td>\n      <td>5.264172</td>\n      <td>0.000000</td>\n      <td>96</td>\n      <td>59</td>\n      <td>73.500000</td>\n      <td>1022.9</td>\n      <td>1012.3</td>\n      <td>1018.27094</td>\n      <td>5.536244</td>\n      <td>0.400000</td>\n      <td>3.426518</td>\n      <td>110.169304</td>\n    </tr>\n    <tr>\n      <th>1</th>\n      <td>03/01/2008</td>\n      <td>5.630528</td>\n      <td>-1.179471</td>\n      <td>1.312195</td>\n      <td>149.133350</td>\n      <td>4.194036</td>\n      <td>0.000000</td>\n      <td>97</td>\n      <td>66</td>\n      <td>79.291664</td>\n      <td>1012.2</td>\n      <td>1004.9</td>\n      <td>1007.71246</td>\n      <td>6.673080</td>\n      <td>0.900000</td>\n      <td>4.628796</td>\n      <td>111.911970</td>\n    </tr>\n    <tr>\n      <th>2</th>\n      <td>04/01/2008</td>\n      <td>9.200529</td>\n      <td>-1.619471</td>\n      <td>3.012196</td>\n      <td>132.000000</td>\n      <td>4.972608</td>\n      <td>0.000000</td>\n      <td>96</td>\n      <td>60</td>\n      <td>80.000000</td>\n      <td>1014.2</td>\n      <td>1007.6</td>\n      <td>1010.79987</td>\n      <td>5.292448</td>\n      <td>1.500000</td>\n      <td>3.371137</td>\n      <td>114.188460</td>\n    </tr>\n    <tr>\n      <th>3</th>\n      <td>05/01/2008</td>\n      <td>10.950529</td>\n      <td>2.600528</td>\n      <td>7.090530</td>\n      <td>0.000000</td>\n      <td>2.124252</td>\n      <td>1.500000</td>\n      <td>89</td>\n      <td>57</td>\n      <td>70.583336</td>\n      <td>1015.1</td>\n      <td>1008.6</td>\n      <td>1012.06670</td>\n      <td>6.946222</td>\n      <td>1.421267</td>\n      <td>3.831986</td>\n      <td>201.784740</td>\n    </tr>\n    <tr>\n      <th>4</th>\n      <td>06/01/2008</td>\n      <td>8.540529</td>\n      <td>5.860529</td>\n      <td>7.061361</td>\n      <td>134.042560</td>\n      <td>2.159496</td>\n      <td>8.800001</td>\n      <td>98</td>\n      <td>76</td>\n      <td>90.250000</td>\n      <td>1019.7</td>\n      <td>1006.1</td>\n      <td>1013.62915</td>\n      <td>7.102817</td>\n      <td>0.900000</td>\n      <td>3.537873</td>\n      <td>246.239300</td>\n    </tr>\n    <tr>\n      <th>...</th>\n      <td>...</td>\n      <td>...</td>\n      <td>...</td>\n      <td>...</td>\n      <td>...</td>\n      <td>...</td>\n      <td>...</td>\n      <td>...</td>\n      <td>...</td>\n      <td>...</td>\n      <td>...</td>\n      <td>...</td>\n      <td>...</td>\n      <td>...</td>\n      <td>...</td>\n      <td>...</td>\n      <td>...</td>\n    </tr>\n    <tr>\n      <th>5385</th>\n      <td>30/09/2022</td>\n      <td>16.190529</td>\n      <td>6.340528</td>\n      <td>11.649693</td>\n      <td>307.843630</td>\n      <td>15.103656</td>\n      <td>0.000000</td>\n      <td>93</td>\n      <td>53</td>\n      <td>73.875000</td>\n      <td>1014.0</td>\n      <td>1007.2</td>\n      <td>1010.52910</td>\n      <td>1.964688</td>\n      <td>0.316228</td>\n      <td>1.089594</td>\n      <td>283.240500</td>\n    </tr>\n    <tr>\n      <th>5386</th>\n      <td>01/10/2022</td>\n      <td>16.310530</td>\n      <td>8.130529</td>\n      <td>12.479695</td>\n      <td>41.554966</td>\n      <td>5.920992</td>\n      <td>0.500000</td>\n      <td>86</td>\n      <td>61</td>\n      <td>73.750000</td>\n      <td>1019.9</td>\n      <td>1013.5</td>\n      <td>1015.44165</td>\n      <td>9.411164</td>\n      <td>1.552418</td>\n      <td>4.244933</td>\n      <td>237.491330</td>\n    </tr>\n    <tr>\n      <th>5387</th>\n      <td>02/10/2022</td>\n      <td>19.560530</td>\n      <td>14.260529</td>\n      <td>17.118862</td>\n      <td>480.000000</td>\n      <td>13.254948</td>\n      <td>0.000000</td>\n      <td>88</td>\n      <td>62</td>\n      <td>75.708336</td>\n      <td>1022.8</td>\n      <td>1020.2</td>\n      <td>1021.20416</td>\n      <td>8.547514</td>\n      <td>1.565247</td>\n      <td>5.617112</td>\n      <td>263.698400</td>\n    </tr>\n    <tr>\n      <th>5388</th>\n      <td>03/10/2022</td>\n      <td>18.200530</td>\n      <td>11.390529</td>\n      <td>14.677612</td>\n      <td>440.240400</td>\n      <td>13.985458</td>\n      <td>0.000000</td>\n      <td>93</td>\n      <td>59</td>\n      <td>78.083336</td>\n      <td>1026.3</td>\n      <td>1023.3</td>\n      <td>1024.75430</td>\n      <td>6.537584</td>\n      <td>0.282843</td>\n      <td>2.786462</td>\n      <td>347.471200</td>\n    </tr>\n    <tr>\n      <th>5389</th>\n      <td>04/10/2022</td>\n      <td>20.910528</td>\n      <td>8.400529</td>\n      <td>13.741363</td>\n      <td>566.983640</td>\n      <td>15.324732</td>\n      <td>0.000000</td>\n      <td>88</td>\n      <td>42</td>\n      <td>70.125000</td>\n      <td>1024.3</td>\n      <td>1020.6</td>\n      <td>1022.30835</td>\n      <td>4.554119</td>\n      <td>1.166190</td>\n      <td>2.962703</td>\n      <td>118.800026</td>\n    </tr>\n  </tbody>\n</table>\n<p>5390 rows × 17 columns</p>\n</div>"
     },
     "execution_count": 2,
     "metadata": {},
     "output_type": "execute_result"
    }
   ],
   "source": [
    "# Creating a dataframe from the CSV file\n",
    "data = pd.read_csv(\"weather_data.csv\")\n",
    "data"
   ],
   "metadata": {
    "collapsed": false,
    "pycharm": {
     "name": "#%%\n"
    }
   }
  },
  {
   "cell_type": "markdown",
   "source": [
    "*Let's represent data as an array of floats*\n",
    "\n",
    "*As the data is ordered by date, the Date column is not important, so we get rid of it*"
   ],
   "metadata": {
    "collapsed": false,
    "pycharm": {
     "name": "#%% md\n"
    }
   }
  },
  {
   "cell_type": "code",
   "execution_count": 3,
   "outputs": [
    {
     "data": {
      "text/plain": "array([[ 2.61052850e+00, -4.03947160e+00, -7.16971460e-01, ...,\n         4.00000000e-01,  3.42651750e+00,  1.10169304e+02],\n       [ 5.63052850e+00, -1.17947140e+00,  1.31219540e+00, ...,\n         9.00000000e-01,  4.62879600e+00,  1.11911970e+02],\n       [ 9.20052900e+00, -1.61947130e+00,  3.01219560e+00, ...,\n         1.50000000e+00,  3.37113700e+00,  1.14188460e+02],\n       ...,\n       [ 1.95605300e+01,  1.42605290e+01,  1.71188620e+01, ...,\n         1.56524750e+00,  5.61711170e+00,  2.63698400e+02],\n       [ 1.82005300e+01,  1.13905290e+01,  1.46776120e+01, ...,\n         2.82842730e-01,  2.78646250e+00,  3.47471200e+02],\n       [ 2.09105280e+01,  8.40052900e+00,  1.37413630e+01, ...,\n         1.16619040e+00,  2.96270280e+00,  1.18800026e+02]])"
     },
     "execution_count": 3,
     "metadata": {},
     "output_type": "execute_result"
    }
   ],
   "source": [
    "data_array = np.array(data.drop(columns=\"Date\").values)\n",
    "data_array"
   ],
   "metadata": {
    "collapsed": false,
    "pycharm": {
     "name": "#%%\n"
    }
   }
  },
  {
   "cell_type": "markdown",
   "source": [
    "*We'll also need each column as a separate array*"
   ],
   "metadata": {
    "collapsed": false,
    "pycharm": {
     "name": "#%% md\n"
    }
   }
  },
  {
   "cell_type": "code",
   "execution_count": 4,
   "outputs": [],
   "source": [
    "max_temp = np.array(data[\"Maximum Temperature (°C)\"])\n",
    "min_temp = np.array(data[\"Minimum Temperature (°C)\"])\n",
    "mean_temp = np.array(data[\"Mean Temperature (°C)\"])\n",
    "\n",
    "sunshine = np.array(data[\"Sunshine Duration (min)\"])\n",
    "radiation = np.array(data[\"Shortwave Radiation (MJ/m²)\"])\n",
    "precipitation = np.array(data[\"Precipitation (mm)\"])\n",
    "\n",
    "max_humidity = np.array(data[\"Maximum Relative Humidity (%)\"])\n",
    "min_humidity = np.array(data[\"Minimum Relative Humidity (%)\"])\n",
    "mean_humidity = np.array(data[\"Mean Relative Humidity (%)\"])\n",
    "\n",
    "max_pressure = np.array(data[\"Maximum Sea Level Pressure (hPa)\"])\n",
    "min_pressure = np.array(data[\"Minimum Relative Humidity (%)\"])\n",
    "mean_pressure = np.array(data[\"Mean Sea Level Pressure (hPa)\"])\n",
    "\n",
    "max_wind_speed = np.array(data[\"Maximum Wind Speed (m/s)\"])\n",
    "min_wind_speed = np.array(data[\"Minimum Wind Speed (m/s)\"])\n",
    "mean_wind_speed = np.array(data[\"Mean Wind Speed (m/s)\"])\n",
    "wind_direction = np.array(data[\"Wind Direction Dominant (°)\"])"
   ],
   "metadata": {
    "collapsed": false,
    "pycharm": {
     "name": "#%%\n"
    }
   }
  },
  {
   "cell_type": "markdown",
   "source": [
    "# Necessary functions to analyse the data"
   ],
   "metadata": {
    "collapsed": false,
    "pycharm": {
     "name": "#%% md\n"
    }
   }
  },
  {
   "cell_type": "code",
   "execution_count": 5,
   "outputs": [],
   "source": [
    "# Standardise / Destandardise data\n",
    "\n",
    "def to_standard(dataset):\n",
    "    return (dataset - min(dataset)) / (max(dataset) - min(dataset))\n",
    "\n",
    "def to_source(standard, source):\n",
    "    return standard * (max(source) - min(source)) + min(source)"
   ],
   "metadata": {
    "collapsed": false,
    "pycharm": {
     "name": "#%%\n"
    }
   }
  },
  {
   "cell_type": "code",
   "execution_count": 6,
   "outputs": [],
   "source": [
    "# This function returns an array of all sequential sub-arrays of n elements from the array\n",
    "\n",
    "def group(array, _n):\n",
    "    return np.array([array[i:i + _n] for i in range(len(array) - _n)])"
   ],
   "metadata": {
    "collapsed": false,
    "pycharm": {
     "name": "#%%\n"
    }
   }
  },
  {
   "cell_type": "code",
   "execution_count": 7,
   "outputs": [],
   "source": [
    "# This function splits dataset into train and test sets\n",
    "\n",
    "def split(dataset, point=0.8):\n",
    "    pivot = int(len(dataset) * point)\n",
    "    return dataset[:pivot], dataset[pivot:]"
   ],
   "metadata": {
    "collapsed": false,
    "pycharm": {
     "name": "#%%\n"
    }
   }
  },
  {
   "cell_type": "code",
   "execution_count": 8,
   "outputs": [],
   "source": [
    "# Error functions\n",
    "\n",
    "def MAE(real, predicted):\n",
    "    difference = abs(real - predicted)\n",
    "    return sum(difference) / len(difference)\n",
    "\n",
    "def MSE(real, predicted):\n",
    "    difference = abs(real - predicted)\n",
    "    return sum(difference ** 2) / (2 * len(difference))"
   ],
   "metadata": {
    "collapsed": false,
    "pycharm": {
     "name": "#%%\n"
    }
   }
  },
  {
   "cell_type": "markdown",
   "source": [
    "## What we are going to do:\n",
    "We are going to use 3 methods of training and predicting data:\n",
    "- For each table in dataframe predict data for the next day, according to the data from previous day of the same column\n",
    "- For each table in dataframe predict data for the next day, according to the data from n previous days of the same column\n",
    "- For each table in dataframe predict data for the next day, according to the data from previous day of the whole dataframe\n",
    "\n",
    "For each method we use both sklearn and regression libraries\n",
    "The results are compared with each other and with the zero theory(s)"
   ],
   "metadata": {
    "collapsed": false,
    "pycharm": {
     "name": "#%% md\n"
    }
   }
  },
  {
   "cell_type": "markdown",
   "source": [
    "# Method 1:\n",
    "In this method we are going to predict a particular weather parameter (ex. temperature) for \"tomorrow\",\n",
    "having only information about this parameter \"today\""
   ],
   "metadata": {
    "collapsed": false,
    "pycharm": {
     "name": "#%% md\n"
    }
   }
  },
  {
   "cell_type": "markdown",
   "source": [
    "Taking mean temperature as an example and creating datasets"
   ],
   "metadata": {
    "collapsed": false,
    "pycharm": {
     "name": "#%% md\n"
    }
   }
  },
  {
   "cell_type": "code",
   "execution_count": 9,
   "outputs": [],
   "source": [
    "data_train, data_test = split(mean_temp)\n",
    "\n",
    "X_train = data_train[:-1]\n",
    "y_train = data_train[1:]\n",
    "\n",
    "X_test = data_test[:-1]\n",
    "y_test = data_test[1:]"
   ],
   "metadata": {
    "collapsed": false,
    "pycharm": {
     "name": "#%%\n"
    }
   }
  },
  {
   "cell_type": "markdown",
   "source": [
    "*Scikit-learn model*"
   ],
   "metadata": {
    "collapsed": false,
    "pycharm": {
     "name": "#%% md\n"
    }
   }
  },
  {
   "cell_type": "code",
   "execution_count": 10,
   "outputs": [
    {
     "data": {
      "text/plain": "0.9146006523841227"
     },
     "execution_count": 10,
     "metadata": {},
     "output_type": "execute_result"
    }
   ],
   "source": [
    "skl_model = skl.LinearRegression()\n",
    "skl_model.fit(X_train.reshape(-1, 1), y_train)\n",
    "# Show the R value\n",
    "skl_model.score(X_train.reshape(-1, 1), y_train)"
   ],
   "metadata": {
    "collapsed": false,
    "pycharm": {
     "name": "#%%\n"
    }
   }
  },
  {
   "cell_type": "markdown",
   "source": [
    "*Prediction*"
   ],
   "metadata": {
    "collapsed": false,
    "pycharm": {
     "name": "#%% md\n"
    }
   }
  },
  {
   "cell_type": "code",
   "execution_count": 11,
   "outputs": [
    {
     "data": {
      "text/plain": "array([15.46849589, 15.61110053, 14.74432287, ..., 12.46984066,\n       16.90488524, 14.57104975])"
     },
     "execution_count": 11,
     "metadata": {},
     "output_type": "execute_result"
    }
   ],
   "source": [
    "prediction = skl_model.predict(X_test.reshape(-1, 1))\n",
    "prediction"
   ],
   "metadata": {
    "collapsed": false,
    "pycharm": {
     "name": "#%%\n"
    }
   }
  },
  {
   "cell_type": "markdown",
   "source": [
    "*Reality*"
   ],
   "metadata": {
    "collapsed": false,
    "pycharm": {
     "name": "#%% md\n"
    }
   }
  },
  {
   "cell_type": "code",
   "execution_count": 12,
   "outputs": [
    {
     "data": {
      "text/plain": "array([15.765531, 14.85886 , 15.000527, ..., 17.118862, 14.677612,\n       13.741363])"
     },
     "execution_count": 12,
     "metadata": {},
     "output_type": "execute_result"
    }
   ],
   "source": [
    "y_test"
   ],
   "metadata": {
    "collapsed": false,
    "pycharm": {
     "name": "#%%\n"
    }
   }
  },
  {
   "cell_type": "markdown",
   "source": [
    "*Error values*"
   ],
   "metadata": {
    "collapsed": false,
    "pycharm": {
     "name": "#%% md\n"
    }
   }
  },
  {
   "cell_type": "code",
   "execution_count": 13,
   "outputs": [
    {
     "name": "stdout",
     "output_type": "stream",
     "text": [
      "Mean Absolute Error: 1.6468385480344996\n",
      "Mean Squared Error: 2.3136632848913203\n"
     ]
    }
   ],
   "source": [
    "print(\"Mean Absolute Error:\", MAE(y_test, prediction))\n",
    "print(\"Mean Squared Error:\", MSE(y_test, prediction))"
   ],
   "metadata": {
    "collapsed": false,
    "pycharm": {
     "name": "#%%\n"
    }
   }
  },
  {
   "cell_type": "markdown",
   "source": [
    "*Let's do the same operation with my own regression model*"
   ],
   "metadata": {
    "collapsed": false,
    "pycharm": {
     "name": "#%% md\n"
    }
   }
  },
  {
   "cell_type": "code",
   "execution_count": 14,
   "outputs": [
    {
     "data": {
      "text/plain": "0.9146006523841227"
     },
     "execution_count": 14,
     "metadata": {},
     "output_type": "execute_result"
    }
   ],
   "source": [
    "reg_model = reg.LinearRegressor()\n",
    "reg_model.fit(X_train.reshape(-1, 1), y_train)\n",
    "# Show the R value\n",
    "reg_model.score(X_train, y_train)"
   ],
   "metadata": {
    "collapsed": false,
    "pycharm": {
     "name": "#%%\n"
    }
   }
  },
  {
   "cell_type": "markdown",
   "source": [
    "*Prediction*"
   ],
   "metadata": {
    "collapsed": false,
    "pycharm": {
     "name": "#%% md\n"
    }
   }
  },
  {
   "cell_type": "code",
   "source": [
    "prediction = skl_model.predict(X_test.reshape(-1, 1))\n",
    "prediction"
   ],
   "metadata": {
    "collapsed": false,
    "pycharm": {
     "name": "#%%\n"
    }
   },
   "execution_count": 15,
   "outputs": [
    {
     "data": {
      "text/plain": "array([15.46849589, 15.61110053, 14.74432287, ..., 12.46984066,\n       16.90488524, 14.57104975])"
     },
     "execution_count": 15,
     "metadata": {},
     "output_type": "execute_result"
    }
   ]
  },
  {
   "cell_type": "markdown",
   "source": [
    "*Error values*"
   ],
   "metadata": {
    "collapsed": false,
    "pycharm": {
     "name": "#%% md\n"
    }
   }
  },
  {
   "cell_type": "code",
   "execution_count": 16,
   "outputs": [
    {
     "name": "stdout",
     "output_type": "stream",
     "text": [
      "Mean Absolute Error: 1.6468385480344996\n",
      "Mean Squared Error: 2.3136632848913203\n"
     ]
    }
   ],
   "source": [
    "print(\"Mean Absolute Error:\", MAE(y_test, prediction))\n",
    "print(\"Mean Squared Error:\", MSE(y_test, prediction))"
   ],
   "metadata": {
    "collapsed": false,
    "pycharm": {
     "name": "#%%\n"
    }
   }
  },
  {
   "cell_type": "markdown",
   "source": [
    "## Results\n",
    "As we can see, the results of Scikit-learn model and regression library model are completely the same.\n",
    "We've got that for the first method:\n",
    "- Mean Absolute Error: 1.6468385480344996 K\n",
    "- Mean Squared Error: 2.3136632848913203 K\n",
    "\n",
    "***But how much sense do these results make?***\n",
    "\n",
    "## Zero theory\n",
    "*Zero theory is an assumption, that we can do to predict the data without Machine Learning,\n",
    "in order to compare its results with the ML-estimator's and to see if the using of the ML is reasonable*\n",
    "\n",
    "In this case, we can assume that the weather doesn't change very much from day to day.\n",
    "So, our *zero theory* will be that the next day the temperature wil be (approximately) the same as 'today'."
   ],
   "metadata": {
    "collapsed": false,
    "pycharm": {
     "name": "#%% md\n"
    }
   }
  },
  {
   "cell_type": "code",
   "execution_count": 17,
   "outputs": [],
   "source": [
    "# Estimator function of the first zero function\n",
    "# (we might have different zero functions for other methods)\n",
    "def zero_func1(X):\n",
    "    return X"
   ],
   "metadata": {
    "collapsed": false,
    "pycharm": {
     "name": "#%%\n"
    }
   }
  },
  {
   "cell_type": "markdown",
   "source": [
    "*Prediction*"
   ],
   "metadata": {
    "collapsed": false,
    "pycharm": {
     "name": "#%% md\n"
    }
   }
  },
  {
   "cell_type": "code",
   "execution_count": 18,
   "outputs": [
    {
     "data": {
      "text/plain": "array([15.616363, 15.765531, 14.85886 , ..., 12.479695, 17.118862,\n       14.677612])"
     },
     "execution_count": 18,
     "metadata": {},
     "output_type": "execute_result"
    }
   ],
   "source": [
    "prediction = zero_func1(X_test)\n",
    "prediction"
   ],
   "metadata": {
    "collapsed": false,
    "pycharm": {
     "name": "#%%\n"
    }
   }
  },
  {
   "cell_type": "markdown",
   "source": [
    "*Error values*"
   ],
   "metadata": {
    "collapsed": false,
    "pycharm": {
     "name": "#%% md\n"
    }
   }
  },
  {
   "cell_type": "code",
   "execution_count": 19,
   "outputs": [
    {
     "name": "stdout",
     "output_type": "stream",
     "text": [
      "Mean Absolute Error: 1.6384525693221936\n",
      "Mean Squared Error: 2.3680028320543958\n"
     ]
    }
   ],
   "source": [
    "print(\"Mean Absolute Error:\", MAE(y_test, prediction))\n",
    "print(\"Mean Squared Error:\", MSE(y_test, prediction))"
   ],
   "metadata": {
    "collapsed": false,
    "pycharm": {
     "name": "#%%\n"
    }
   }
  },
  {
   "cell_type": "markdown",
   "source": [
    "# Conclusion\n",
    "As we can see, the errors of the linear models are approximately the same as the errors of the zero-function.\n",
    "That means, that there is no use in linear models as we can make predictions with just the same quality just from an assumption.\n",
    "We obtained such result because the linear model had too little information to build a better estimator.\n",
    "The next methods are expected to be more effective."
   ],
   "metadata": {
    "collapsed": false,
    "pycharm": {
     "name": "#%% md\n"
    }
   }
  },
  {
   "cell_type": "markdown",
   "source": [
    "# Method 2:\n",
    "In this method we are going to predict a particular weather parameter (ex. pressure) for \"tomorrow\",\n",
    "having information about this parameter for the past *n* days."
   ],
   "metadata": {
    "collapsed": false,
    "pycharm": {
     "name": "#%% md\n"
    }
   }
  },
  {
   "cell_type": "code",
   "execution_count": 20,
   "outputs": [],
   "source": [
    "# First, let's pick some random n\n",
    "test_n = 5"
   ],
   "metadata": {
    "collapsed": false,
    "pycharm": {
     "name": "#%%\n"
    }
   }
  },
  {
   "cell_type": "code",
   "execution_count": 21,
   "outputs": [],
   "source": [
    "# Now we'll create new datasets with mean pressure as example\n",
    "data_train, data_test = split(mean_pressure)\n",
    "\n",
    "X_train = group(data_train, test_n)\n",
    "y_train = data_train[test_n:]\n",
    "\n",
    "X_test = group(data_test, test_n)\n",
    "y_test = data_test[test_n:]"
   ],
   "metadata": {
    "collapsed": false,
    "pycharm": {
     "name": "#%%\n"
    }
   }
  },
  {
   "cell_type": "code",
   "execution_count": 22,
   "outputs": [
    {
     "data": {
      "text/plain": "0.7127591598412133"
     },
     "execution_count": 22,
     "metadata": {},
     "output_type": "execute_result"
    }
   ],
   "source": [
    "# Scikit-learn model\n",
    "skl_model = skl.LinearRegression()\n",
    "skl_model.fit(X_train, y_train)\n",
    "# Show the R value\n",
    "skl_model.score(X_train, y_train)"
   ],
   "metadata": {
    "collapsed": false,
    "pycharm": {
     "name": "#%%\n"
    }
   }
  },
  {
   "cell_type": "markdown",
   "source": [
    "*Prediction*"
   ],
   "metadata": {
    "collapsed": false,
    "pycharm": {
     "name": "#%% md\n"
    }
   }
  },
  {
   "cell_type": "code",
   "execution_count": 23,
   "outputs": [
    {
     "data": {
      "text/plain": "array([1019.57327338, 1019.1199901 , 1018.67113904, ..., 1015.97976355,\n       1021.42841779, 1023.11275939])"
     },
     "execution_count": 23,
     "metadata": {},
     "output_type": "execute_result"
    }
   ],
   "source": [
    "prediction = skl_model.predict(X_test)\n",
    "prediction"
   ],
   "metadata": {
    "collapsed": false,
    "pycharm": {
     "name": "#%%\n"
    }
   }
  },
  {
   "cell_type": "markdown",
   "source": [
    "*Reality*"
   ],
   "metadata": {
    "collapsed": false,
    "pycharm": {
     "name": "#%% md\n"
    }
   }
  },
  {
   "cell_type": "code",
   "execution_count": 24,
   "outputs": [
    {
     "data": {
      "text/plain": "array([1019.9709 , 1019.3667 , 1021.7459 , ..., 1021.20416, 1024.7543 ,\n       1022.30835])"
     },
     "execution_count": 24,
     "metadata": {},
     "output_type": "execute_result"
    }
   ],
   "source": [
    "y_test"
   ],
   "metadata": {
    "collapsed": false,
    "pycharm": {
     "name": "#%%\n"
    }
   }
  },
  {
   "cell_type": "markdown",
   "source": [
    "*Error values*"
   ],
   "metadata": {
    "collapsed": false,
    "pycharm": {
     "name": "#%% md\n"
    }
   }
  },
  {
   "cell_type": "code",
   "execution_count": 25,
   "outputs": [
    {
     "name": "stdout",
     "output_type": "stream",
     "text": [
      "Mean Absolute Error: 3.2240711822864134\n",
      "Mean Squared Error: 10.188293257490312\n"
     ]
    }
   ],
   "source": [
    "print(\"Mean Absolute Error:\", MAE(y_test, prediction))\n",
    "print(\"Mean Squared Error:\", MSE(y_test, prediction))"
   ],
   "metadata": {
    "collapsed": false,
    "pycharm": {
     "name": "#%%\n"
    }
   }
  },
  {
   "cell_type": "markdown",
   "source": [
    "*Now test MultivariateRegressor of regression module*"
   ],
   "metadata": {
    "collapsed": false,
    "pycharm": {
     "name": "#%% md\n"
    }
   }
  },
  {
   "cell_type": "code",
   "execution_count": 26,
   "outputs": [
    {
     "data": {
      "text/plain": "0.7127591598412144"
     },
     "execution_count": 26,
     "metadata": {},
     "output_type": "execute_result"
    }
   ],
   "source": [
    "reg_model = reg.MultivariateRegressor(test_n)\n",
    "reg_model.fit(X_train, y_train)\n",
    "# Show the R value\n",
    "reg_model.score(X_train, y_train)"
   ],
   "metadata": {
    "collapsed": false,
    "pycharm": {
     "name": "#%%\n"
    }
   }
  },
  {
   "cell_type": "markdown",
   "source": [
    "*Prediction*"
   ],
   "metadata": {
    "collapsed": false,
    "pycharm": {
     "name": "#%% md\n"
    }
   }
  },
  {
   "cell_type": "code",
   "execution_count": 27,
   "outputs": [
    {
     "data": {
      "text/plain": "array([1019.5732734 , 1019.11999012, 1018.67113906, ..., 1015.97976357,\n       1021.42841781, 1023.11275941])"
     },
     "execution_count": 27,
     "metadata": {},
     "output_type": "execute_result"
    }
   ],
   "source": [
    "prediction = reg_model.predict(X_test)\n",
    "prediction"
   ],
   "metadata": {
    "collapsed": false,
    "pycharm": {
     "name": "#%%\n"
    }
   }
  },
  {
   "cell_type": "markdown",
   "source": [
    "*Error values*"
   ],
   "metadata": {
    "collapsed": false,
    "pycharm": {
     "name": "#%% md\n"
    }
   }
  },
  {
   "cell_type": "code",
   "execution_count": 28,
   "outputs": [
    {
     "name": "stdout",
     "output_type": "stream",
     "text": [
      "Mean Absolute Error: 3.224071181693679\n",
      "Mean Squared Error: 10.188293255390596\n"
     ]
    }
   ],
   "source": [
    "print(\"Mean Absolute Error:\", MAE(y_test, prediction))\n",
    "print(\"Mean Squared Error:\", MSE(y_test, prediction))"
   ],
   "metadata": {
    "collapsed": false,
    "pycharm": {
     "name": "#%%\n"
    }
   }
  },
  {
   "cell_type": "markdown",
   "source": [
    "***Note:*** *Don't be confused with the absolute values of errors looking just at the raw numbers.\n",
    "They are not 'larger' than the ones, there were in method 1.\n",
    "As you remember, in method 1 we were predicting temperature (in Celsius degrees),\n",
    "whereas now we are predicting pressure (in hectoPascale). So, they cannot be compared directly.\n",
    "To see how effective the model is, we will compare it to the zero theory, but before...*"
   ],
   "metadata": {
    "collapsed": false,
    "pycharm": {
     "name": "#%% md\n"
    }
   }
  },
  {
   "cell_type": "markdown",
   "source": [
    "# Optimising the value of n\n",
    "*If you play with the value of n, and run the code again, you can see, that the prediction also changes.\n",
    "That obviously means that the precision of the estimator depends on n.\n",
    "Now, as we want to train an estimator with the highest precision of predictions possible, we need to optimise the value of n.*\n",
    "\n",
    "In this example, we'll minimise the MAE function."
   ],
   "metadata": {
    "collapsed": false,
    "pycharm": {
     "name": "#%% md\n"
    }
   }
  },
  {
   "cell_type": "code",
   "execution_count": 29,
   "outputs": [],
   "source": [
    "# First, let's create of function of MAE on n:\n",
    "def n_to_MAE(n):\n",
    "    test_X_train = group(data_train, n)\n",
    "    test_y_train = data_train[n:]\n",
    "\n",
    "    test_X_test = group(data_test, n)\n",
    "    test_y_test = data_test[n:]\n",
    "\n",
    "    model = skl.LinearRegression()\n",
    "    model.fit(test_X_train, test_y_train)\n",
    "\n",
    "    test_prediction = model.predict(test_X_test)\n",
    "\n",
    "    return MAE(test_y_test, test_prediction)"
   ],
   "metadata": {
    "collapsed": false,
    "pycharm": {
     "name": "#%%\n"
    }
   }
  },
  {
   "cell_type": "markdown",
   "source": [
    "Although there are lots of different optimisation methods,\n",
    "in this particular case the easiest and the most sufficient way is just a simple enumeration"
   ],
   "metadata": {
    "collapsed": false,
    "pycharm": {
     "name": "#%% md\n"
    }
   }
  },
  {
   "cell_type": "code",
   "execution_count": 30,
   "outputs": [
    {
     "data": {
      "text/plain": "147"
     },
     "execution_count": 30,
     "metadata": {},
     "output_type": "execute_result"
    }
   ],
   "source": [
    "# using range up to 400, because 1 year is 365 days, which can be rounded up to 400\n",
    "optimal_n = 1\n",
    "for n in range(1, 400):\n",
    "    if n_to_MAE(n) < n_to_MAE(optimal_n):\n",
    "        optimal_n = n\n",
    "optimal_n"
   ],
   "metadata": {
    "collapsed": false,
    "pycharm": {
     "name": "#%%\n"
    }
   }
  },
  {
   "cell_type": "code",
   "execution_count": 31,
   "outputs": [],
   "source": [
    "# Creating new datasets split with optimal n = 147\n",
    "data_train, data_test = split(mean_pressure)\n",
    "\n",
    "X_train = group(data_train, optimal_n)\n",
    "y_train = data_train[optimal_n:]\n",
    "\n",
    "X_test = group(data_test, optimal_n)\n",
    "y_test = data_test[optimal_n:]"
   ],
   "metadata": {
    "collapsed": false,
    "pycharm": {
     "name": "#%%\n"
    }
   }
  },
  {
   "cell_type": "code",
   "execution_count": 32,
   "outputs": [],
   "source": [
    "# Training the model and making a prediction\n",
    "model = skl.LinearRegression()\n",
    "model.fit(X_train, y_train)\n",
    "prediction = model.predict(X_test)"
   ],
   "metadata": {
    "collapsed": false,
    "pycharm": {
     "name": "#%%\n"
    }
   }
  },
  {
   "cell_type": "code",
   "execution_count": 33,
   "outputs": [
    {
     "data": {
      "text/plain": "array([1027.05188852, 1021.64001242, 1021.8699118 , 1018.11410232,\n       1017.55309142, 1021.59041109, 1027.73604127, 1023.54532999,\n       1020.43274105, 1015.53642518, 1016.23100337, 1018.1036091 ,\n       1023.14233589, 1021.99741128, 1026.84455727, 1018.46216391,\n       1014.44310382, 1019.00436989, 1022.28812763, 1019.5061913 ,\n       1025.99170157, 1025.48505207, 1024.32207159, 1020.887486  ,\n       1022.44830683, 1019.44994902, 1015.71077887, 1014.39408888,\n       1024.24621712, 1019.987267  , 1018.86641583, 1014.87077741,\n       1013.81652305, 1015.20814808, 1010.47622372, 1011.56394407,\n       1014.21345941, 1018.85862629, 1015.59504362, 1012.83049977,\n       1010.10536289, 1011.35930369, 1008.75474477, 1012.63121157,\n       1009.55487515, 1011.08660735, 1013.68662485, 1016.86092461,\n       1015.90085043, 1016.87619745, 1020.51931962, 1021.64459183,\n       1016.47173011, 1011.46607406, 1006.69512611, 1008.17306597,\n       1019.6217906 , 1005.7893635 , 1013.63495818, 1015.23916111,\n       1020.55864749, 1019.71987661, 1022.84833767, 1016.30683997,\n       1020.97549666, 1019.45263223, 1019.49907548, 1023.6095817 ,\n       1029.81995543, 1026.39174915, 1028.95370481, 1026.66389616,\n       1025.13303077, 1019.29095807, 1018.49037561, 1015.89965308,\n       1019.26340994, 1014.47546708, 1006.42575495, 1000.69357819,\n       1007.48531235, 1006.82448671, 1010.75965058, 1014.72574926,\n       1013.93363411, 1012.35409375, 1011.74148232, 1007.16397174,\n       1013.60305993, 1017.07997168, 1018.93444836, 1014.33128766,\n       1015.06338061, 1015.28840426, 1019.07858404, 1019.98804576,\n       1019.48295492, 1021.45519911, 1020.48902872, 1018.57953546,\n       1015.61603518, 1011.67059199, 1014.54104362, 1016.03252466,\n       1015.59076655, 1013.56915629, 1009.8339054 , 1015.38967945,\n       1021.29660781, 1018.81033802, 1017.36359398, 1018.45960381,\n       1019.92991022, 1017.49149893, 1016.69765917, 1014.07412875,\n       1023.27474837, 1022.26020096, 1019.38374738, 1014.01611   ,\n       1016.70066171, 1019.09036932, 1018.84356868, 1017.28418025,\n       1015.86194467, 1015.81920945, 1019.82703684, 1018.50044979,\n       1014.24322545, 1013.92320851, 1013.66185716, 1013.72630837,\n       1015.89890109, 1014.25088024, 1018.81781373, 1016.59213061,\n       1014.72143269, 1012.79218747, 1014.76459917, 1012.42137317,\n       1017.62157431, 1017.41769708, 1018.71856834, 1017.25699163,\n       1018.28322394, 1015.590911  , 1014.60455624, 1015.98894829,\n       1015.340189  , 1014.98582149, 1016.24226297, 1013.58631936,\n       1011.68066059, 1013.81128674, 1014.22537312, 1011.70946731,\n       1011.37853943, 1013.18089189, 1019.05773579, 1018.15630097,\n       1017.14269601, 1014.41179786, 1017.03887741, 1015.59017212,\n       1006.65459095, 1009.81304264, 1012.61929355, 1018.37779162,\n       1015.37728788, 1017.24244116, 1022.20612405, 1021.00009597,\n       1015.50804898, 1018.55775991, 1022.13666683, 1024.637832  ,\n       1019.37270369, 1016.94914498, 1015.94684936, 1019.14477875,\n       1023.96082499, 1020.95593101, 1020.95749132, 1019.04006292,\n       1019.95939515, 1020.00805387, 1017.56269953, 1014.42397171,\n       1015.61907362, 1013.28091527, 1010.69382603, 1009.54586583,\n       1004.80778561, 1007.63900213, 1005.52790675, 1014.99512704,\n       1018.01950427, 1013.12559872, 1006.57722233,  993.28517438,\n        998.9531849 , 1002.33257656, 1010.53548497, 1009.35163303,\n       1017.48963484, 1021.23488826, 1020.1716448 , 1021.03636381,\n       1019.2224893 , 1019.01244148, 1011.61309303, 1013.33523183,\n       1014.64663803, 1016.89679422, 1017.6380639 , 1021.61059622,\n       1019.45807161, 1016.1162589 , 1013.15181681, 1018.84897375,\n       1014.57219804, 1019.35704821, 1008.09904217, 1009.90658907,\n       1015.1692809 , 1014.51020463, 1022.32710701, 1023.84221023,\n       1021.59864035, 1019.62589679, 1018.31578323, 1025.39313386,\n       1026.37959883, 1031.66415812, 1026.68841243, 1023.19467603,\n       1023.05650673, 1021.66453404, 1023.94017868, 1023.33479877,\n       1021.02044921, 1020.5431049 , 1018.4431769 , 1013.87640713,\n       1020.71775438, 1027.82034565, 1021.79862745, 1025.87705523,\n       1033.73146689, 1030.59759945, 1024.71720968, 1026.19317114,\n       1023.07054817, 1020.4868513 , 1022.47328874, 1017.79863567,\n       1017.26654945, 1023.39871561, 1024.96648349, 1016.96539607,\n       1016.59154582, 1005.75347257,  990.88924259, 1005.59106956,\n       1002.71078463, 1002.82372812, 1005.40155397, 1012.67472909,\n       1008.03575466, 1002.71291054, 1001.91184641, 1016.87865644,\n       1012.27177077, 1014.84094104, 1017.03425313, 1023.92686955,\n       1021.81524124, 1017.40564185, 1020.30024227, 1021.08346685,\n       1018.99477699, 1015.01463416, 1012.24691267, 1022.55359704,\n       1024.33048847,  996.6931063 ,  980.16988195,  999.47793168,\n       1006.7269723 , 1005.49531524, 1008.59353693, 1011.05092748,\n       1012.65617247, 1015.68931024, 1011.81420756, 1013.78387154,\n       1017.54262363, 1017.94898613, 1019.53177788, 1022.31634538,\n       1020.83631271, 1015.59900797, 1018.3355984 , 1017.44896889,\n       1022.03674634, 1027.56022088, 1016.44042406, 1028.41724153,\n       1013.95100629, 1007.87643739, 1000.92590812,  997.19062845,\n       1000.31577853, 1001.7662892 , 1005.97015339, 1025.18261921,\n       1013.27697657, 1010.926866  , 1004.46988473, 1003.8834176 ,\n       1001.72686551,  996.90108991, 1012.30014787, 1006.9130759 ,\n       1018.46867187, 1008.60771431, 1004.24250297, 1001.83178586,\n       1003.12358022, 1003.80065362, 1006.90849115, 1028.92441621,\n       1018.54725079, 1029.54592956, 1030.63660222, 1029.05768619,\n       1019.27914293, 1022.53670362, 1013.18163884, 1019.97936272,\n       1018.59976797, 1017.28268975, 1019.6160016 , 1032.8824175 ,\n       1025.89423245, 1027.09117529, 1029.28063075, 1031.36191265,\n       1028.18747033, 1027.38001755, 1027.65998748, 1027.10171392,\n       1018.09991436, 1022.6630383 , 1025.94205704, 1022.08822964,\n       1019.22015434, 1018.74097715, 1017.93600425, 1010.55867012,\n       1016.50520926, 1008.32653809, 1016.04367074, 1015.72508766,\n       1023.97116398, 1017.61230776, 1023.37407722, 1017.53763679,\n       1027.51426865, 1020.74728757, 1023.35314041, 1024.89850515,\n       1021.17841999, 1020.52986101, 1018.33618729, 1026.24210052,\n       1027.45909067, 1028.43326249, 1027.35152102, 1020.34082023,\n       1018.56444115, 1018.49728419, 1019.9022488 , 1020.23883292,\n       1012.91828629, 1019.47851141, 1021.70811507, 1025.3615797 ,\n       1015.87383323, 1014.51940635, 1013.15961889, 1029.42157411,\n       1028.78804868, 1026.24587331, 1026.70485277, 1022.97262954,\n       1019.76057621, 1021.05432311, 1018.28124345, 1015.91553837,\n       1014.62355862, 1022.38789644, 1023.80609299, 1020.53385418,\n       1018.60354725, 1013.48230337, 1007.03660611, 1005.84306388,\n       1009.13704138, 1012.59794061, 1012.40339312, 1019.28037022,\n       1021.7662483 , 1010.33663567, 1014.37833044, 1012.55764813,\n       1017.68352307, 1018.1930432 , 1008.75450246, 1011.974408  ,\n       1011.55544484, 1015.84322838, 1008.86968847, 1014.62810449,\n       1011.13371697, 1009.79197449, 1014.80322448, 1020.40726488,\n       1018.60912507, 1023.12979473, 1010.98617602, 1013.29125352,\n       1019.30248646, 1012.9348621 , 1023.3349638 , 1015.96328094,\n       1022.03496534, 1018.82032921, 1020.50150448, 1021.09620499,\n       1018.59479848, 1013.91472921, 1017.39897468, 1021.04907613,\n       1020.69531772, 1020.11782474, 1021.28220182, 1017.72608742,\n       1022.22260598, 1020.66004713, 1020.98231994, 1018.49559669,\n       1019.43866004, 1022.70927306, 1018.51166184, 1018.67195941,\n       1014.43161952, 1013.45636205, 1014.66609293, 1014.17012861,\n       1009.33740341, 1011.65120356, 1013.70748429, 1017.06647945,\n       1019.37071879, 1020.73121216, 1015.88746344, 1015.23172949,\n       1014.15479258, 1015.07914162, 1015.51544706, 1018.64248248,\n       1016.74884169, 1014.81246081, 1012.94697906, 1013.72122136,\n       1012.41505388, 1016.71354135, 1019.09932355, 1020.59930682,\n       1015.35835738, 1017.78688145, 1007.34761125, 1012.6979529 ,\n       1012.81704571, 1014.34251692, 1019.7692927 , 1019.83134922,\n       1017.22865902, 1017.81169712, 1018.32627627, 1020.50660535,\n       1017.51189903, 1013.50920354, 1010.92764811, 1013.1734841 ,\n       1014.44899537, 1014.67036924, 1014.78195941, 1015.65635139,\n       1011.59220719, 1013.50139065, 1012.95276531, 1016.85925132,\n       1014.29675483, 1013.52605119, 1011.81523112, 1010.61358832,\n       1009.13279599, 1017.86546332, 1016.62368725, 1017.87994153,\n       1018.35366927, 1019.02985314, 1019.9031011 , 1018.15631694,\n       1013.52317958, 1015.62307491, 1020.23678042, 1016.49585509,\n       1014.74621584, 1015.93648189, 1017.19162718, 1018.92362435,\n       1021.40307128, 1018.78478456, 1018.14644742, 1013.6062991 ,\n       1017.35500862, 1017.38399191, 1017.78154624, 1016.89910972,\n       1020.73378198, 1022.33353461, 1021.53475467, 1018.46163708,\n       1017.08687462, 1018.4717088 , 1021.19981957, 1020.04643288,\n       1013.75683136, 1014.43658615, 1017.36641594, 1019.0116687 ,\n       1016.66784785, 1015.99888353, 1013.82287329, 1015.76430623,\n       1016.46958081, 1015.52998617, 1014.44913209, 1014.02988613,\n       1018.6495116 , 1024.43105453, 1024.77207408, 1019.17512613,\n       1018.69812071, 1016.4819368 , 1019.12114056, 1018.53338399,\n       1021.6777541 , 1021.92897485, 1026.88689359, 1016.64592716,\n       1013.50191594, 1009.74824509, 1021.6928635 , 1011.86093337,\n       1023.77881848, 1023.53041738, 1023.60594993, 1023.22334883,\n       1023.15397233, 1021.95726342, 1020.96608437, 1023.4586079 ,\n       1024.59406113, 1017.87747497, 1020.494083  , 1018.86640903,\n       1023.78796624, 1023.46530544, 1013.02236961, 1012.63057415,\n       1024.48717973, 1024.2467398 , 1022.52086503, 1019.88590073,\n       1024.05718111, 1023.54921093, 1018.92194951, 1012.37812551,\n       1011.09809415, 1010.77509784, 1006.83594934, 1006.82956352,\n       1004.43268076, 1013.05261424, 1023.72386593, 1026.32926915,\n       1019.45161771, 1022.31266414, 1023.51211111, 1021.9042382 ,\n       1022.51793221, 1017.78043515, 1017.07296586, 1016.77598684,\n       1021.85495194, 1020.61910052, 1023.68414391, 1028.90602585,\n       1028.61747426, 1022.14708879, 1010.67255776, 1019.32580076,\n       1025.11374982, 1017.3294332 , 1008.3321368 , 1005.28459304,\n        992.79611609, 1003.45898862, 1012.60854856, 1022.07963136,\n       1004.4082803 , 1008.78098215, 1015.9589038 , 1000.47156618,\n       1010.30015284, 1014.98635894, 1010.88423994, 1001.51321742,\n       1013.35003129,  998.31928922, 1022.25804434, 1026.12308682,\n       1025.3319727 , 1027.51539373, 1031.44315952, 1031.26131895,\n       1032.43851889, 1031.40735628, 1026.65198554, 1022.04154329,\n       1023.04792135, 1020.22797112, 1015.52373501, 1007.60901367,\n       1006.17872989, 1008.2054867 , 1008.80415234, 1006.17073933,\n       1015.25356043, 1021.69038247, 1024.96654711, 1025.34332886,\n       1023.10949991, 1017.5437182 , 1001.41886653, 1017.5269871 ,\n       1020.7127487 , 1019.25340267, 1011.09884789, 1002.64617833,\n       1024.26556601, 1029.48953013, 1033.85675885, 1034.69243535,\n       1031.09681646, 1024.47227392, 1029.49409172, 1031.306269  ,\n       1031.45750742, 1025.81677751, 1029.37723681, 1032.85926523,\n       1031.70417193, 1029.31312428, 1029.09086912, 1029.63422949,\n       1029.81925368, 1028.78193801, 1033.22486038, 1030.79174914,\n       1027.04279937, 1015.20250737, 1024.34281381, 1020.13365589,\n       1021.28226828, 1017.32085546, 1026.75829893, 1016.11713988,\n       1026.35014675, 1032.60533282, 1026.09984979, 1023.40069826,\n       1029.47494897, 1026.28156138, 1018.28954876, 1010.30340183,\n       1019.30009698, 1011.55223351, 1019.06183219, 1012.38844904,\n       1022.91388333, 1017.7085151 , 1009.18048025, 1025.40843982,\n       1025.47673605, 1015.3650461 , 1025.74865045, 1030.54263225,\n       1025.34576217, 1025.96941251, 1026.63273511, 1021.06602637,\n       1017.24631353, 1017.96892183, 1020.74538493, 1023.35946819,\n       1022.29323563, 1018.81713329, 1026.49203957, 1022.93332314,\n       1018.51686911, 1021.29699627, 1018.67952905, 1028.09815136,\n       1023.17474699, 1021.90188971, 1025.1208681 , 1033.38581461,\n       1030.15672393, 1027.43620468, 1031.96881457, 1029.47114687,\n       1025.93259385, 1026.48697529, 1023.60443921, 1025.68644986,\n       1025.66022245, 1019.68770614, 1006.96269535, 1005.58077355,\n       1001.48152822, 1005.76288976, 1014.16282954, 1022.23000758,\n       1017.45288798, 1015.52403666, 1010.62916955, 1004.04107115,\n       1008.85089015, 1015.47255285, 1023.88471498, 1015.51459097,\n       1016.81319095, 1016.18109772, 1020.31237324, 1022.96683404,\n       1023.32831722, 1022.62242149, 1017.68184561, 1013.35501977,\n       1009.87882485, 1005.68846966, 1003.42102331, 1001.42020274,\n       1003.58002158, 1014.54829436, 1015.92619301, 1022.08339313,\n       1024.60531201, 1022.0917081 , 1020.91785856, 1020.12049738,\n       1015.92526729, 1014.1056216 , 1017.45768178, 1020.35779391,\n       1021.4375852 , 1017.60869849, 1021.22312872, 1021.58387093,\n       1019.81395657, 1015.99542324, 1021.73315389, 1020.37965095,\n       1019.63923766, 1015.40332755, 1020.82020731, 1019.04219229,\n       1020.17190019, 1021.31136835, 1018.87502703, 1020.55741645,\n       1012.61570896, 1007.68851446, 1013.38782618, 1017.00860575,\n       1022.89140925, 1018.9904647 , 1017.43434208, 1011.4606831 ,\n       1014.05548604, 1013.84825124, 1015.5584279 , 1017.4708415 ,\n       1015.45766389, 1017.01813702, 1015.93403884, 1018.47478592,\n       1014.91020216, 1012.56189544, 1017.3689414 , 1022.47758301,\n       1020.63413535, 1019.47460192, 1018.90893317, 1018.75431216,\n       1014.92891674, 1017.46290915, 1021.54010783, 1016.58250053,\n       1009.8884729 , 1014.48947156, 1013.13990762, 1013.56863862,\n       1012.40582898, 1012.44496715, 1013.01492138, 1014.35380401,\n       1017.3528113 , 1017.75214149, 1012.46830993, 1012.50068737,\n       1021.35045965, 1019.00665795, 1017.33391686, 1018.53706334,\n       1018.3549739 , 1021.39707556, 1020.79252743, 1027.49959846,\n       1021.31963519, 1020.45169354, 1018.67451569, 1021.01252956,\n       1019.40616881, 1017.49050048, 1019.67702711, 1021.89069158,\n       1022.93430369, 1020.71520909, 1015.70804819, 1018.12916819,\n       1019.04179756, 1015.0157116 , 1018.29747504, 1017.15938049,\n       1011.39603517, 1016.77831678, 1013.72433274, 1013.92599005,\n       1015.48091139, 1018.42632233, 1016.70595558, 1016.47227507,\n       1018.15073854, 1014.40642853, 1014.42785966, 1014.99833636,\n       1022.77811631, 1017.23895711, 1020.55733789, 1019.37714976,\n       1019.3356631 , 1016.76780538, 1015.08088416, 1014.98168743,\n       1011.90092353, 1009.88946993, 1009.83724391, 1011.38950414,\n       1014.95289321, 1015.12066141, 1018.19541677, 1015.44469397,\n       1013.75100949, 1016.34496345, 1016.90559895, 1015.39903348,\n       1013.56757979, 1015.0755394 , 1017.38354263, 1019.1013033 ,\n       1017.28059776, 1017.63281357, 1016.0740286 , 1014.68726869,\n       1015.64040512, 1019.13579793, 1018.79525139, 1015.01888653,\n       1014.61804766, 1013.59388236, 1015.03411526, 1017.61666523,\n       1018.02223208, 1014.39459597, 1011.25716175, 1009.51799235,\n       1011.36583126, 1012.68681186, 1018.46096225, 1018.0057663 ,\n       1020.11571375, 1020.96964961, 1021.90912228, 1019.86058293,\n       1015.05461229, 1013.86404839, 1014.62583666, 1009.31995008,\n       1005.65871259, 1003.20681922, 1006.38675014, 1013.4450531 ,\n       1015.96085344, 1022.30744443, 1023.24990922])"
     },
     "execution_count": 33,
     "metadata": {},
     "output_type": "execute_result"
    }
   ],
   "source": [
    "# Prediction\n",
    "prediction"
   ],
   "metadata": {
    "collapsed": false,
    "pycharm": {
     "name": "#%%\n"
    }
   }
  },
  {
   "cell_type": "markdown",
   "source": [
    "*Error values*"
   ],
   "metadata": {
    "collapsed": false,
    "pycharm": {
     "name": "#%% md\n"
    }
   }
  },
  {
   "cell_type": "code",
   "execution_count": 34,
   "outputs": [
    {
     "name": "stdout",
     "output_type": "stream",
     "text": [
      "Mean Absolute Error: 3.061828450299197\n",
      "Mean Squared Error: 8.797552368492019\n"
     ]
    }
   ],
   "source": [
    "print(\"Mean Absolute Error:\", MAE(y_test, prediction))\n",
    "print(\"Mean Squared Error:\", MSE(y_test, prediction))"
   ],
   "metadata": {
    "collapsed": false,
    "pycharm": {
     "name": "#%%\n"
    }
   }
  },
  {
   "cell_type": "markdown",
   "source": [
    "## Results\n",
    "As we can see, *Mean Absolute Error* decreased by ***5%*** and *Mean Squared Error* by ***13.7%*** after optimization, compared to initial n = 5\n",
    "We've got that for the first method:\n",
    "- Mean Absolute Error: 3.061828450299197 hPa\n",
    "- Mean Squared Error: 8.797552368492019 hPa\n",
    "\n",
    "## Zero theory\n",
    "In this case we can assume that the dataset can be split into such segments of length n,\n",
    "that the change of the given value can be approximated as linear.\n",
    "Then, the daily change will be *c = (X [ i ] - X [ i - n ]) / n* and *X [ i + 1 ] = X [ i ] + c*"
   ],
   "metadata": {
    "collapsed": false,
    "pycharm": {
     "name": "#%% md\n"
    }
   }
  },
  {
   "cell_type": "code",
   "execution_count": 35,
   "outputs": [],
   "source": [
    "def zero_func2(X):\n",
    "    return np.array([x[-1] + (x[-1] - x[0]) / len(x) for x in X])"
   ],
   "metadata": {
    "collapsed": false,
    "pycharm": {
     "name": "#%%\n"
    }
   }
  },
  {
   "cell_type": "markdown",
   "source": [
    "Note, that for zero theory optimal value for n might be different, so we'll find it once more"
   ],
   "metadata": {
    "collapsed": false,
    "pycharm": {
     "name": "#%% md\n"
    }
   }
  },
  {
   "cell_type": "code",
   "execution_count": 36,
   "outputs": [],
   "source": [
    "def zero_MAE(n):\n",
    "    test_X_test = group(data_test, n)\n",
    "    test_y_test = data_test[n:]\n",
    "\n",
    "    test_prediction = zero_func2(test_X_test)\n",
    "    return MAE(test_y_test, test_prediction)"
   ],
   "metadata": {
    "collapsed": false,
    "pycharm": {
     "name": "#%%\n"
    }
   }
  },
  {
   "cell_type": "code",
   "execution_count": 37,
   "outputs": [
    {
     "data": {
      "text/plain": "139"
     },
     "execution_count": 37,
     "metadata": {},
     "output_type": "execute_result"
    }
   ],
   "source": [
    "optimal_n = 1\n",
    "for n in range(1, 400):\n",
    "    if zero_MAE(n) < zero_MAE(optimal_n):\n",
    "        optimal_n = n\n",
    "optimal_n"
   ],
   "metadata": {
    "collapsed": false,
    "pycharm": {
     "name": "#%%\n"
    }
   }
  },
  {
   "cell_type": "code",
   "execution_count": 38,
   "outputs": [],
   "source": [
    "# Creating new datasets split with optimal n = 139\n",
    "data_test = split(mean_pressure)[1]\n",
    "\n",
    "X_test = group(data_test, optimal_n)\n",
    "y_test = data_test[optimal_n:]"
   ],
   "metadata": {
    "collapsed": false,
    "pycharm": {
     "name": "#%%\n"
    }
   }
  },
  {
   "cell_type": "code",
   "execution_count": 39,
   "outputs": [],
   "source": [
    "prediction = zero_func2(X_test)"
   ],
   "metadata": {
    "collapsed": false,
    "pycharm": {
     "name": "#%%\n"
    }
   }
  },
  {
   "cell_type": "code",
   "execution_count": 40,
   "outputs": [
    {
     "name": "stdout",
     "output_type": "stream",
     "text": [
      "Mean Absolute Error: 3.3721915684832364\n",
      "Mean Squared Error: 10.604314636986622\n"
     ]
    }
   ],
   "source": [
    "print(\"Mean Absolute Error:\", MAE(y_test, prediction))\n",
    "print(\"Mean Squared Error:\", MSE(y_test, prediction))"
   ],
   "metadata": {
    "collapsed": false,
    "pycharm": {
     "name": "#%%\n"
    }
   }
  },
  {
   "cell_type": "markdown",
   "source": [
    "# Conclusion\n",
    "In our experiment we calculated that Linear Model shows *9.2%* lower Mean Absolute Error and *17%* lower Mean Squared Error.\n",
    "These results are not too impressive, but having that it doesn't take a lot of time to train, that definitely worth it.\n",
    "Overall Mean Absolute Error makes about 3 hPa, or *3%* of the mean value.\n",
    "The results can be improved by providing larger datasets and/or using different models."
   ],
   "metadata": {
    "collapsed": false,
    "pycharm": {
     "name": "#%% md\n"
    }
   }
  },
  {
   "cell_type": "markdown",
   "source": [
    "# Method 3\n",
    "In this method we are going to predict a particular weather parameter (ex. humidity) for \"tomorrow\",\n",
    "having information about all the parameters for \"today\"."
   ],
   "metadata": {
    "collapsed": false,
    "pycharm": {
     "name": "#%% md\n"
    }
   }
  },
  {
   "cell_type": "code",
   "execution_count": 41,
   "outputs": [],
   "source": [
    "# Creating datasets\n",
    "data_train, data_test = split(data_array)\n",
    "\n",
    "X_train = data_train[:-1]\n",
    "X_test = data_test[:-1]\n",
    "\n",
    "data_train, data_test = split(mean_humidity)\n",
    "\n",
    "y_train = data_train[1:]\n",
    "y_test = data_test[1:]"
   ],
   "metadata": {
    "collapsed": false,
    "pycharm": {
     "name": "#%%\n"
    }
   }
  },
  {
   "cell_type": "markdown",
   "source": [
    "## Data Standardisation\n",
    "In this method we use different parameters with a wide range of values, different variation and different units.\n",
    "It is known that Linear Regression doesn't work well enough with such kind of data.\n",
    "To handle this, we need to standardise the data.\n",
    "Standardisation is a method of representing the data in such way, that it fits in range from 0 to 1,\n",
    "where 0 and 1 correspond to the minimum and maximum values in the dataset, and all the variations remain in proportion.\n",
    "This can be achieved by the following formula: *standardised = (original - min) / (max - min)*"
   ],
   "metadata": {
    "collapsed": false,
    "pycharm": {
     "name": "#%% md\n"
    }
   }
  },
  {
   "cell_type": "code",
   "execution_count": 42,
   "outputs": [
    {
     "data": {
      "text/plain": "array([[0.00647555, 0.        , 0.00323534, ..., 0.00432301, 0.00727014,\n        0.11121276],\n       [0.00672009, 0.        , 0.00245877, ..., 0.00205202, 0.00573158,\n        0.11159831],\n       [0.0106515 , 0.        , 0.00455954, ..., 0.00307089, 0.00491289,\n        0.11400444],\n       ...,\n       [0.01786508, 0.01268466, 0.01466109, ..., 0.00049432, 0.00355743,\n        0.13482435],\n       [0.02255498, 0.01111934, 0.01665151, ..., 0.00093929, 0.00365002,\n        0.11652841],\n       [0.0173302 , 0.01129951, 0.01476854, ..., 0.        , 0.00203992,\n        0.3118153 ]])"
     },
     "execution_count": 42,
     "metadata": {},
     "output_type": "execute_result"
    }
   ],
   "source": [
    "# Converting data into standard\n",
    "X_train = np.array([to_standard(i) for i in X_train])\n",
    "X_test = np.array([to_standard(i) for i in X_test])\n",
    "y_train = to_standard(y_train)\n",
    "y_test = to_standard(y_test)\n",
    "\n",
    "X_train"
   ],
   "metadata": {
    "collapsed": false,
    "pycharm": {
     "name": "#%%\n"
    }
   }
  },
  {
   "cell_type": "markdown",
   "source": [
    "As you can see, there is no variation in column 9\n",
    "So, this column doesn't give us any useful information\n",
    "Let's then, just get rid of it"
   ],
   "metadata": {
    "collapsed": false,
    "pycharm": {
     "name": "#%% md\n"
    }
   }
  },
  {
   "cell_type": "code",
   "execution_count": 43,
   "outputs": [],
   "source": [
    "X_train = np.delete(X_train, 9, 1)\n",
    "X_test = np.delete(X_test, 9, 1)"
   ],
   "metadata": {
    "collapsed": false,
    "pycharm": {
     "name": "#%%\n"
    }
   }
  },
  {
   "cell_type": "markdown",
   "source": [
    "Training and scoring the model"
   ],
   "metadata": {
    "collapsed": false,
    "pycharm": {
     "name": "#%% md\n"
    }
   }
  },
  {
   "cell_type": "code",
   "execution_count": 44,
   "outputs": [
    {
     "data": {
      "text/plain": "0.4892230346333346"
     },
     "execution_count": 44,
     "metadata": {},
     "output_type": "execute_result"
    }
   ],
   "source": [
    "reg_model = reg.MultivariateRegressor(test_n)\n",
    "reg_model.fit(X_train, y_train)\n",
    "reg_model.score(X_train, y_train)"
   ],
   "metadata": {
    "collapsed": false,
    "pycharm": {
     "name": "#%%\n"
    }
   }
  },
  {
   "cell_type": "markdown",
   "source": [
    "R value is relatively low, which means that predictions can be less accurate"
   ],
   "metadata": {
    "collapsed": false,
    "pycharm": {
     "name": "#%% md\n"
    }
   }
  },
  {
   "cell_type": "code",
   "execution_count": 45,
   "outputs": [],
   "source": [
    "prediction = reg_model.predict(X_test)"
   ],
   "metadata": {
    "collapsed": false,
    "pycharm": {
     "name": "#%%\n"
    }
   }
  },
  {
   "cell_type": "code",
   "execution_count": 46,
   "outputs": [
    {
     "name": "stdout",
     "output_type": "stream",
     "text": [
      "Mean Absolute Error: 5.467852629220432\n",
      "Mean Squared Error: 0.38812686947544506\n"
     ]
    }
   ],
   "source": [
    "print(\"Mean Absolute Error:\", MAE(y_test, prediction) * (max(mean_humidity) - min(mean_humidity)))\n",
    "print(\"Mean Squared Error:\", MSE(y_test, prediction) * (max(mean_humidity) - min(mean_humidity)))"
   ],
   "metadata": {
    "collapsed": false,
    "pycharm": {
     "name": "#%%\n"
    }
   }
  },
  {
   "cell_type": "markdown",
   "source": [
    "Doing the same operations with the Scikit-Learn model to compare"
   ],
   "metadata": {
    "collapsed": false,
    "pycharm": {
     "name": "#%% md\n"
    }
   }
  },
  {
   "cell_type": "code",
   "execution_count": 47,
   "outputs": [
    {
     "data": {
      "text/plain": "0.4892230346333346"
     },
     "execution_count": 47,
     "metadata": {},
     "output_type": "execute_result"
    }
   ],
   "source": [
    "skl_model = skl.LinearRegression()\n",
    "skl_model.fit(X_train, y_train)\n",
    "skl_model.score(X_train, y_train)"
   ],
   "metadata": {
    "collapsed": false,
    "pycharm": {
     "name": "#%%\n"
    }
   }
  },
  {
   "cell_type": "code",
   "execution_count": 48,
   "outputs": [],
   "source": [
    "prediction = reg_model.predict(X_test)"
   ],
   "metadata": {
    "collapsed": false,
    "pycharm": {
     "name": "#%%\n"
    }
   }
  },
  {
   "cell_type": "code",
   "execution_count": 49,
   "outputs": [
    {
     "name": "stdout",
     "output_type": "stream",
     "text": [
      "Mean Absolute Error: 5.467852629220432\n",
      "Mean Squared Error: 0.38812686947544506\n"
     ]
    }
   ],
   "source": [
    "print(\"Mean Absolute Error:\", MAE(y_test, prediction) * (max(mean_humidity) - min(mean_humidity)))\n",
    "print(\"Mean Squared Error:\", MSE(y_test, prediction) * (max(mean_humidity) - min(mean_humidity)))"
   ],
   "metadata": {
    "collapsed": false,
    "pycharm": {
     "name": "#%%\n"
    }
   }
  },
  {
   "cell_type": "markdown",
   "source": [
    "Now there is no surprise that results are identical"
   ],
   "metadata": {
    "collapsed": false
   }
  },
  {
   "cell_type": "markdown",
   "source": [
    "## Zero theory\n",
    "Though, most probably, there are some correlations between the various parameters,\n",
    "I don't see a way to make any reasonable assumption, any better than the one, we've already seen in the method 1.\n",
    "\n",
    "You can try to figure out one, but remember, that it shouldn't be too complicated:\n",
    "You don't need to train a model, where it is easier to make an assumption that is going to be as precise,\n",
    "but if for making such kind of assumption you have to train yourself to become a meteorologist, it is easier to train model anyway.\n",
    "\n",
    "Now, as we don't have anything better, we'll use an assumption from the first method."
   ],
   "metadata": {
    "collapsed": false,
    "pycharm": {
     "name": "#%% md\n"
    }
   }
  },
  {
   "cell_type": "code",
   "execution_count": 50,
   "outputs": [],
   "source": [
    "prediction = to_standard(zero_func1(split(mean_humidity)[1][:-1]))"
   ],
   "metadata": {
    "collapsed": false,
    "pycharm": {
     "name": "#%%\n"
    }
   }
  },
  {
   "cell_type": "code",
   "execution_count": 51,
   "outputs": [
    {
     "name": "stdout",
     "output_type": "stream",
     "text": [
      "Mean Absolute Error: 5.9436319999999965\n",
      "Mean Squared Error: 0.48390273750628265\n"
     ]
    }
   ],
   "source": [
    "print(\"Mean Absolute Error:\", MAE(y_test, prediction) * (max(mean_humidity) - min(mean_humidity)))\n",
    "print(\"Mean Squared Error:\", MSE(y_test, prediction) * (max(mean_humidity) - min(mean_humidity)))"
   ],
   "metadata": {
    "collapsed": false,
    "pycharm": {
     "name": "#%%\n"
    }
   }
  },
  {
   "cell_type": "markdown",
   "source": [
    "# Results and conclusion\n",
    "As a result of this experiment we created an estimator, making predictions for mean humidity with:\n",
    "- Mean Absolute Error of *5.47% of humidity*, which is *8% (relatively)* lower than such for the zero theory.\n",
    "- Mean Squared Error of *0.39% of humidity*, which is *19.8% (relatively)* lower than such for the zero theory.\n",
    "\n",
    "It is barely possible to distinguish whether these results are better or worse than the ones for method 2, so we need more experiments for that.\n",
    "Most probably you need to try both methods for each column and then choose which one is more precise.\n",
    "Thus, and then by improving the models on larger datasets you can create a full functional weather forecast program.\n",
    "(But don't forget to test models on different datasets to be sure that it is not over-fit)"
   ],
   "metadata": {
    "collapsed": false,
    "pycharm": {
     "name": "#%% md\n"
    }
   }
  }
 ],
 "metadata": {
  "kernelspec": {
   "display_name": "Python 3",
   "language": "python",
   "name": "python3"
  },
  "language_info": {
   "codemirror_mode": {
    "name": "ipython",
    "version": 2
   },
   "file_extension": ".py",
   "mimetype": "text/x-python",
   "name": "python",
   "nbconvert_exporter": "python",
   "pygments_lexer": "ipython2",
   "version": "2.7.6"
  }
 },
 "nbformat": 4,
 "nbformat_minor": 0
}