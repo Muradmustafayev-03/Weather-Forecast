{
 "cells": [
  {
   "cell_type": "markdown",
   "source": [
    "# Weather Forecasting algorithms\n",
    "### (Or how to use Linear Regression)"
   ],
   "metadata": {
    "collapsed": false,
    "pycharm": {
     "name": "#%% md\n"
    }
   }
  },
  {
   "cell_type": "code",
   "execution_count": 6,
   "metadata": {
    "collapsed": true
   },
   "outputs": [
    {
     "ename": "AttributeError",
     "evalue": "module 'scipy.sparse' has no attribute 'linalg'",
     "output_type": "error",
     "traceback": [
      "\u001B[1;31m---------------------------------------------------------------------------\u001B[0m",
      "\u001B[1;31mAttributeError\u001B[0m                            Traceback (most recent call last)",
      "Cell \u001B[1;32mIn [6], line 3\u001B[0m\n\u001B[0;32m      1\u001B[0m \u001B[38;5;28;01mimport\u001B[39;00m \u001B[38;5;21;01mpandas\u001B[39;00m \u001B[38;5;28;01mas\u001B[39;00m \u001B[38;5;21;01mpd\u001B[39;00m\n\u001B[0;32m      2\u001B[0m \u001B[38;5;28;01mimport\u001B[39;00m \u001B[38;5;21;01mnumpy\u001B[39;00m \u001B[38;5;28;01mas\u001B[39;00m \u001B[38;5;21;01mnp\u001B[39;00m\n\u001B[1;32m----> 3\u001B[0m \u001B[38;5;28;01mfrom\u001B[39;00m \u001B[38;5;21;01msklearn\u001B[39;00m \u001B[38;5;28;01mimport\u001B[39;00m linear_model \u001B[38;5;28;01mas\u001B[39;00m skl\n\u001B[0;32m      4\u001B[0m \u001B[38;5;28;01mfrom\u001B[39;00m \u001B[38;5;21;01mregression\u001B[39;00m \u001B[38;5;28;01mimport\u001B[39;00m Regressors \u001B[38;5;28;01mas\u001B[39;00m reg\n",
      "File \u001B[1;32mc:\\users\\user\\pycharmprojects\\weatherforecast\\venv\\lib\\site-packages\\sklearn\\linear_model\\__init__.py:36\u001B[0m\n\u001B[0;32m     34\u001B[0m \u001B[38;5;28;01mfrom\u001B[39;00m \u001B[38;5;21;01m.\u001B[39;00m\u001B[38;5;21;01m_sgd_fast\u001B[39;00m \u001B[38;5;28;01mimport\u001B[39;00m Hinge, Log, ModifiedHuber, SquaredLoss, Huber\n\u001B[0;32m     35\u001B[0m \u001B[38;5;28;01mfrom\u001B[39;00m \u001B[38;5;21;01m.\u001B[39;00m\u001B[38;5;21;01m_stochastic_gradient\u001B[39;00m \u001B[38;5;28;01mimport\u001B[39;00m SGDClassifier, SGDRegressor, SGDOneClassSVM\n\u001B[1;32m---> 36\u001B[0m \u001B[38;5;28;01mfrom\u001B[39;00m \u001B[38;5;21;01m.\u001B[39;00m\u001B[38;5;21;01m_ridge\u001B[39;00m \u001B[38;5;28;01mimport\u001B[39;00m Ridge, RidgeCV, RidgeClassifier, RidgeClassifierCV, ridge_regression\n\u001B[0;32m     37\u001B[0m \u001B[38;5;28;01mfrom\u001B[39;00m \u001B[38;5;21;01m.\u001B[39;00m\u001B[38;5;21;01m_logistic\u001B[39;00m \u001B[38;5;28;01mimport\u001B[39;00m LogisticRegression, LogisticRegressionCV\n\u001B[0;32m     38\u001B[0m \u001B[38;5;28;01mfrom\u001B[39;00m \u001B[38;5;21;01m.\u001B[39;00m\u001B[38;5;21;01m_omp\u001B[39;00m \u001B[38;5;28;01mimport\u001B[39;00m (\n\u001B[0;32m     39\u001B[0m     orthogonal_mp,\n\u001B[0;32m     40\u001B[0m     orthogonal_mp_gram,\n\u001B[0;32m     41\u001B[0m     OrthogonalMatchingPursuit,\n\u001B[0;32m     42\u001B[0m     OrthogonalMatchingPursuitCV,\n\u001B[0;32m     43\u001B[0m )\n",
      "File \u001B[1;32mc:\\users\\user\\pycharmprojects\\weatherforecast\\venv\\lib\\site-packages\\sklearn\\linear_model\\_ridge.py:1461\u001B[0m\n\u001B[0;32m   1457\u001B[0m     index \u001B[38;5;241m=\u001B[39m np\u001B[38;5;241m.\u001B[39margmax(abs_cosine)\n\u001B[0;32m   1458\u001B[0m     \u001B[38;5;28;01mreturn\u001B[39;00m index\n\u001B[1;32m-> 1461\u001B[0m \u001B[38;5;28;01mclass\u001B[39;00m \u001B[38;5;21;01m_X_CenterStackOp\u001B[39;00m(\u001B[43msparse\u001B[49m\u001B[38;5;241;43m.\u001B[39;49m\u001B[43mlinalg\u001B[49m\u001B[38;5;241m.\u001B[39mLinearOperator):\n\u001B[0;32m   1462\u001B[0m     \u001B[38;5;124;03m\"\"\"Behaves as centered and scaled X with an added intercept column.\u001B[39;00m\n\u001B[0;32m   1463\u001B[0m \n\u001B[0;32m   1464\u001B[0m \u001B[38;5;124;03m    This operator behaves as\u001B[39;00m\n\u001B[0;32m   1465\u001B[0m \u001B[38;5;124;03m    np.hstack([X - sqrt_sw[:, None] * X_mean, sqrt_sw[:, None]])\u001B[39;00m\n\u001B[0;32m   1466\u001B[0m \u001B[38;5;124;03m    \"\"\"\u001B[39;00m\n\u001B[0;32m   1468\u001B[0m     \u001B[38;5;28;01mdef\u001B[39;00m \u001B[38;5;21m__init__\u001B[39m(\u001B[38;5;28mself\u001B[39m, X, X_mean, sqrt_sw):\n",
      "\u001B[1;31mAttributeError\u001B[0m: module 'scipy.sparse' has no attribute 'linalg'"
     ]
    }
   ],
   "source": [
    "import pandas as pd\n",
    "import numpy as np\n",
    "from sklearn import linear_model as skl\n",
    "from regression import Regressors as reg"
   ]
  },
  {
   "cell_type": "markdown",
   "source": [
    "# Creating the datasets"
   ],
   "metadata": {
    "collapsed": false,
    "pycharm": {
     "name": "#%% md\n"
    }
   }
  },
  {
   "cell_type": "code",
   "execution_count": null,
   "outputs": [],
   "source": [
    "# Creating a dataframe from the CSV file\n",
    "data = pd.read_csv(\"weather_data.csv\")\n",
    "data"
   ],
   "metadata": {
    "collapsed": false,
    "pycharm": {
     "name": "#%%\n",
     "is_executing": true
    }
   }
  },
  {
   "cell_type": "markdown",
   "source": [
    "*Let's represent data as an array of floats*\n",
    "\n",
    "*As the data is ordered by date, the Date column is not important, so we get rid of it*"
   ],
   "metadata": {
    "collapsed": false,
    "pycharm": {
     "name": "#%% md\n"
    }
   }
  },
  {
   "cell_type": "code",
   "execution_count": null,
   "outputs": [],
   "source": [
    "data_array = np.array(data.drop(columns=\"Date\").values)\n",
    "data_array"
   ],
   "metadata": {
    "collapsed": false,
    "pycharm": {
     "name": "#%%\n",
     "is_executing": true
    }
   }
  },
  {
   "cell_type": "markdown",
   "source": [
    "*We'll also need each column as a separate array*"
   ],
   "metadata": {
    "collapsed": false,
    "pycharm": {
     "name": "#%% md\n"
    }
   }
  },
  {
   "cell_type": "code",
   "execution_count": null,
   "outputs": [],
   "source": [
    "max_temp = np.array(data[\"Maximum Temperature (°C)\"])\n",
    "min_temp = np.array(data[\"Minimum Temperature (°C)\"])\n",
    "mean_temp = np.array(data[\"Mean Temperature (°C)\"])\n",
    "\n",
    "sunshine = np.array(data[\"Sunshine Duration (min)\"])\n",
    "radiation = np.array(data[\"Shortwave Radiation (MJ/m²)\"])\n",
    "precipitation = np.array(data[\"Precipitation (mm)\"])\n",
    "\n",
    "max_humidity = np.array(data[\"Maximum Relative Humidity (%)\"])\n",
    "min_humidity = np.array(data[\"Minimum Relative Humidity (%)\"])\n",
    "mean_humidity = np.array(data[\"Mean Relative Humidity (%)\"])\n",
    "\n",
    "max_pressure = np.array(data[\"Maximum Sea Level Pressure (hPa)\"])\n",
    "min_pressure = np.array(data[\"Minimum Relative Humidity (%)\"])\n",
    "mean_pressure = np.array(data[\"Mean Sea Level Pressure (hPa)\"])\n",
    "\n",
    "max_wind_speed = np.array(data[\"Maximum Wind Speed (m/s)\"])\n",
    "min_wind_speed = np.array(data[\"Minimum Wind Speed (m/s)\"])\n",
    "mean_wind_speed = np.array(data[\"Mean Wind Speed (m/s)\"])\n",
    "wind_direction = np.array(data[\"Wind Direction Dominant (°)\"])"
   ],
   "metadata": {
    "collapsed": false,
    "pycharm": {
     "name": "#%%\n",
     "is_executing": true
    }
   }
  },
  {
   "cell_type": "markdown",
   "source": [
    "# Necessary functions to analyse the data"
   ],
   "metadata": {
    "collapsed": false,
    "pycharm": {
     "name": "#%% md\n"
    }
   }
  },
  {
   "cell_type": "code",
   "execution_count": null,
   "outputs": [],
   "source": [
    "# Standardise / Destandardise data\n",
    "\n",
    "def to_standard(dataset):\n",
    "    return (dataset - min(dataset)) / (max(dataset) - min(dataset))\n",
    "\n",
    "def to_source(standard, source):\n",
    "    return standard * (max(source) - min(source)) + min(source)"
   ],
   "metadata": {
    "collapsed": false,
    "pycharm": {
     "name": "#%%\n",
     "is_executing": true
    }
   }
  },
  {
   "cell_type": "code",
   "execution_count": null,
   "outputs": [],
   "source": [
    "# This function returns an array of all sequential sub-arrays of n elements from the array\n",
    "\n",
    "def group(array, _n):\n",
    "    return np.array([array[i:i + _n] for i in range(len(array) - _n)])"
   ],
   "metadata": {
    "collapsed": false,
    "pycharm": {
     "name": "#%%\n",
     "is_executing": true
    }
   }
  },
  {
   "cell_type": "code",
   "execution_count": null,
   "outputs": [],
   "source": [
    "# This function splits dataset into train and test sets\n",
    "\n",
    "def split(dataset, point=0.8):\n",
    "    pivot = int(len(dataset) * point)\n",
    "    return dataset[:pivot], dataset[pivot:]"
   ],
   "metadata": {
    "collapsed": false,
    "pycharm": {
     "name": "#%%\n",
     "is_executing": true
    }
   }
  },
  {
   "cell_type": "code",
   "execution_count": null,
   "outputs": [],
   "source": [
    "# Error functions\n",
    "\n",
    "def MAE(real, predicted):\n",
    "    difference = abs(real - predicted)\n",
    "    return sum(difference) / len(difference)\n",
    "\n",
    "def MSE(real, predicted):\n",
    "    difference = abs(real - predicted)\n",
    "    return sum(difference ** 2) / (2 * len(difference))"
   ],
   "metadata": {
    "collapsed": false,
    "pycharm": {
     "name": "#%%\n",
     "is_executing": true
    }
   }
  },
  {
   "cell_type": "markdown",
   "source": [
    "## What we are going to do:\n",
    "We are going to use 3 methods of training and predicting data:\n",
    "- For each table in dataframe predict data for the next day, according to the data from previous day of the same column\n",
    "- For each table in dataframe predict data for the next day, according to the data from n previous days of the same column\n",
    "- For each table in dataframe predict data for the next day, according to the data from previous day of the whole dataframe\n",
    "\n",
    "For each method we use both sklearn and regression libraries\n",
    "The results are compared with each other and with the zero theory(s)"
   ],
   "metadata": {
    "collapsed": false,
    "pycharm": {
     "name": "#%% md\n"
    }
   }
  },
  {
   "cell_type": "markdown",
   "source": [
    "# Method 1:\n",
    "In this method we are going to predict a particular weather parameter (ex. temperature) for \"tomorrow\",\n",
    "having only information about this parameter \"today\""
   ],
   "metadata": {
    "collapsed": false,
    "pycharm": {
     "name": "#%% md\n"
    }
   }
  },
  {
   "cell_type": "markdown",
   "source": [
    "Taking mean temperature as an example and creating datasets"
   ],
   "metadata": {
    "collapsed": false,
    "pycharm": {
     "name": "#%% md\n"
    }
   }
  },
  {
   "cell_type": "code",
   "execution_count": null,
   "outputs": [],
   "source": [
    "data_train, data_test = split(mean_temp)\n",
    "\n",
    "X_train = data_train[:-1]\n",
    "y_train = data_train[1:]\n",
    "\n",
    "X_test = data_test[:-1]\n",
    "y_test = data_test[1:]"
   ],
   "metadata": {
    "collapsed": false,
    "pycharm": {
     "name": "#%%\n",
     "is_executing": true
    }
   }
  },
  {
   "cell_type": "markdown",
   "source": [
    "*Scikit-learn model*"
   ],
   "metadata": {
    "collapsed": false,
    "pycharm": {
     "name": "#%% md\n"
    }
   }
  },
  {
   "cell_type": "code",
   "execution_count": null,
   "outputs": [],
   "source": [
    "skl_model = skl.LinearRegression()\n",
    "skl_model.fit(X_train.reshape(-1, 1), y_train)\n",
    "# Show the R value\n",
    "skl_model.score(X_train.reshape(-1, 1), y_train)"
   ],
   "metadata": {
    "collapsed": false,
    "pycharm": {
     "name": "#%%\n",
     "is_executing": true
    }
   }
  },
  {
   "cell_type": "markdown",
   "source": [
    "*Prediction*"
   ],
   "metadata": {
    "collapsed": false,
    "pycharm": {
     "name": "#%% md\n"
    }
   }
  },
  {
   "cell_type": "code",
   "execution_count": null,
   "outputs": [],
   "source": [
    "prediction = skl_model.predict(X_test.reshape(-1, 1))\n",
    "prediction"
   ],
   "metadata": {
    "collapsed": false,
    "pycharm": {
     "name": "#%%\n",
     "is_executing": true
    }
   }
  },
  {
   "cell_type": "markdown",
   "source": [
    "*Reality*"
   ],
   "metadata": {
    "collapsed": false,
    "pycharm": {
     "name": "#%% md\n"
    }
   }
  },
  {
   "cell_type": "code",
   "execution_count": null,
   "outputs": [],
   "source": [
    "y_test"
   ],
   "metadata": {
    "collapsed": false,
    "pycharm": {
     "name": "#%%\n",
     "is_executing": true
    }
   }
  },
  {
   "cell_type": "markdown",
   "source": [
    "*Error values*"
   ],
   "metadata": {
    "collapsed": false,
    "pycharm": {
     "name": "#%% md\n"
    }
   }
  },
  {
   "cell_type": "code",
   "execution_count": null,
   "outputs": [],
   "source": [
    "print(\"Mean Absolute Error:\", MAE(y_test, prediction))\n",
    "print(\"Mean Squared Error:\", MSE(y_test, prediction))"
   ],
   "metadata": {
    "collapsed": false,
    "pycharm": {
     "name": "#%%\n",
     "is_executing": true
    }
   }
  },
  {
   "cell_type": "markdown",
   "source": [
    "*Let's do the same operation with my own regression model*"
   ],
   "metadata": {
    "collapsed": false,
    "pycharm": {
     "name": "#%% md\n"
    }
   }
  },
  {
   "cell_type": "code",
   "execution_count": null,
   "outputs": [],
   "source": [
    "reg_model = reg.LinearRegressor()\n",
    "reg_model.fit(X_train.reshape(-1, 1), y_train)\n",
    "# Show the R value\n",
    "reg_model.score(X_train, y_train)"
   ],
   "metadata": {
    "collapsed": false,
    "pycharm": {
     "name": "#%%\n",
     "is_executing": true
    }
   }
  },
  {
   "cell_type": "markdown",
   "source": [
    "*Prediction*"
   ],
   "metadata": {
    "collapsed": false,
    "pycharm": {
     "name": "#%% md\n"
    }
   }
  },
  {
   "cell_type": "code",
   "source": [
    "prediction = skl_model.predict(X_test.reshape(-1, 1))\n",
    "prediction"
   ],
   "metadata": {
    "collapsed": false,
    "pycharm": {
     "name": "#%%\n",
     "is_executing": true
    }
   },
   "execution_count": null,
   "outputs": []
  },
  {
   "cell_type": "markdown",
   "source": [
    "*Error values*"
   ],
   "metadata": {
    "collapsed": false,
    "pycharm": {
     "name": "#%% md\n"
    }
   }
  },
  {
   "cell_type": "code",
   "execution_count": null,
   "outputs": [],
   "source": [
    "print(\"Mean Absolute Error:\", MAE(y_test, prediction))\n",
    "print(\"Mean Squared Error:\", MSE(y_test, prediction))"
   ],
   "metadata": {
    "collapsed": false,
    "pycharm": {
     "name": "#%%\n",
     "is_executing": true
    }
   }
  },
  {
   "cell_type": "markdown",
   "source": [
    "## Results\n",
    "As we can see, the results of Scikit-learn model and regression library model are completely the same.\n",
    "We've got that for the first method:\n",
    "- Mean Absolute Error: 1.6468385480344996\n",
    "- Mean Squared Error: 2.3136632848913203\n",
    "\n",
    "***But how much sense do these results make?***\n",
    "\n",
    "## Zero theory\n",
    "*Zero theory is an assumption, that we can do to predict the data without Machine Learning,\n",
    "in order to compare its results with the ML-estimator's and to see if the using of the ML is reasonable*\n",
    "\n",
    "In this case, we can assume that the weather doesn't change very much from day to day.\n",
    "So, our *zero theory* will be that the next day the temperature wil be (approximately) the same as 'today'."
   ],
   "metadata": {
    "collapsed": false,
    "pycharm": {
     "name": "#%% md\n"
    }
   }
  },
  {
   "cell_type": "code",
   "execution_count": null,
   "outputs": [],
   "source": [
    "# Estimator function of the first zero function\n",
    "# (we might have different zero functions for other methods)\n",
    "def zero_func1(X):\n",
    "    return X"
   ],
   "metadata": {
    "collapsed": false,
    "pycharm": {
     "name": "#%%\n",
     "is_executing": true
    }
   }
  },
  {
   "cell_type": "markdown",
   "source": [
    "*Prediction*"
   ],
   "metadata": {
    "collapsed": false,
    "pycharm": {
     "name": "#%% md\n"
    }
   }
  },
  {
   "cell_type": "code",
   "execution_count": null,
   "outputs": [],
   "source": [
    "prediction = zero_func1(X_test)\n",
    "prediction"
   ],
   "metadata": {
    "collapsed": false,
    "pycharm": {
     "name": "#%%\n",
     "is_executing": true
    }
   }
  },
  {
   "cell_type": "markdown",
   "source": [
    "*Error values*"
   ],
   "metadata": {
    "collapsed": false,
    "pycharm": {
     "name": "#%% md\n"
    }
   }
  },
  {
   "cell_type": "code",
   "execution_count": 1,
   "outputs": [
    {
     "ename": "NameError",
     "evalue": "name 'MAE' is not defined",
     "output_type": "error",
     "traceback": [
      "\u001B[1;31m---------------------------------------------------------------------------\u001B[0m",
      "\u001B[1;31mNameError\u001B[0m                                 Traceback (most recent call last)",
      "Cell \u001B[1;32mIn [1], line 1\u001B[0m\n\u001B[1;32m----> 1\u001B[0m \u001B[38;5;28mprint\u001B[39m(\u001B[38;5;124m\"\u001B[39m\u001B[38;5;124mMean Absolute Error:\u001B[39m\u001B[38;5;124m\"\u001B[39m, MAE(y_test, prediction))\n\u001B[0;32m      2\u001B[0m \u001B[38;5;28mprint\u001B[39m(\u001B[38;5;124m\"\u001B[39m\u001B[38;5;124mMean Squared Error:\u001B[39m\u001B[38;5;124m\"\u001B[39m, MSE(y_test, prediction))\n",
      "\u001B[1;31mNameError\u001B[0m: name 'MAE' is not defined"
     ]
    }
   ],
   "source": [
    "print(\"Mean Absolute Error:\", MAE(y_test, prediction))\n",
    "print(\"Mean Squared Error:\", MSE(y_test, prediction))"
   ],
   "metadata": {
    "collapsed": false,
    "pycharm": {
     "name": "#%%\n"
    }
   }
  },
  {
   "cell_type": "markdown",
   "source": [
    "# Conclusion\n",
    "As we can see, the errors of the linear models are approximately the same as the errors of the zero-function.\n",
    "That means, that there is no use in linear models as we can make predictions with just the same quality just from an assumption.\n",
    "We obtained such result because the linear model had too little information to build a better estimator.\n",
    "The next methods are expected to be more effective."
   ],
   "metadata": {
    "collapsed": false,
    "pycharm": {
     "name": "#%% md\n"
    }
   }
  },
  {
   "cell_type": "markdown",
   "source": [
    "# Method 2:\n",
    "In this method we are going to predict a particular weather parameter (ex. pressure) for \"tomorrow\",\n",
    "having information about this parameter for the past *n* days."
   ],
   "metadata": {
    "collapsed": false,
    "pycharm": {
     "name": "#%% md\n"
    }
   }
  },
  {
   "cell_type": "code",
   "execution_count": null,
   "outputs": [],
   "source": [
    "# First, let's pick some random n\n",
    "test_n = 5"
   ],
   "metadata": {
    "collapsed": false,
    "pycharm": {
     "name": "#%%\n"
    }
   }
  },
  {
   "cell_type": "code",
   "execution_count": null,
   "outputs": [],
   "source": [
    "# Now we'll create new datasets with mean pressure as example\n",
    "data_train, data_test = split(mean_pressure)\n",
    "\n",
    "test_X_train = group(data_train, test_n)\n",
    "test_y_train = data_train[test_n:]\n",
    "\n",
    "test_X_test = group(data_test, test_n)\n",
    "test_y_test = data_test[test_n:]"
   ],
   "metadata": {
    "collapsed": false,
    "pycharm": {
     "name": "#%%\n"
    }
   }
  },
  {
   "cell_type": "code",
   "execution_count": null,
   "outputs": [],
   "source": [
    "# Scikit-learn model\n",
    "skl_model = skl.LinearRegression()\n",
    "skl_model.fit(test_X_train, test_y_train)\n",
    "# Show the R value\n",
    "skl_model.score(test_X_train, test_y_train)"
   ],
   "metadata": {
    "collapsed": false,
    "pycharm": {
     "name": "#%%\n"
    }
   }
  },
  {
   "cell_type": "markdown",
   "source": [
    "*Prediction*"
   ],
   "metadata": {
    "collapsed": false,
    "pycharm": {
     "name": "#%% md\n"
    }
   }
  },
  {
   "cell_type": "code",
   "execution_count": null,
   "outputs": [],
   "source": [
    "prediction = skl_model.predict(test_X_test)\n",
    "prediction"
   ],
   "metadata": {
    "collapsed": false,
    "pycharm": {
     "name": "#%%\n"
    }
   }
  },
  {
   "cell_type": "markdown",
   "source": [
    "*Reality*"
   ],
   "metadata": {
    "collapsed": false,
    "pycharm": {
     "name": "#%% md\n"
    }
   }
  },
  {
   "cell_type": "code",
   "execution_count": null,
   "outputs": [],
   "source": [
    "test_y_test"
   ],
   "metadata": {
    "collapsed": false,
    "pycharm": {
     "name": "#%%\n"
    }
   }
  },
  {
   "cell_type": "markdown",
   "source": [
    "*Error values*"
   ],
   "metadata": {
    "collapsed": false,
    "pycharm": {
     "name": "#%% md\n"
    }
   }
  },
  {
   "cell_type": "code",
   "execution_count": null,
   "outputs": [],
   "source": [
    "print(\"Mean Absolute Error:\", MAE(test_y_test, prediction))\n",
    "print(\"Mean Squared Error:\", MSE(test_y_test, prediction))"
   ],
   "metadata": {
    "collapsed": false,
    "pycharm": {
     "name": "#%%\n"
    }
   }
  },
  {
   "cell_type": "markdown",
   "source": [
    "*Now test MultivariateRegressor of regression module*"
   ],
   "metadata": {
    "collapsed": false,
    "pycharm": {
     "name": "#%% md\n"
    }
   }
  },
  {
   "cell_type": "code",
   "execution_count": null,
   "outputs": [],
   "source": [
    "reg_model = reg.MultivariateRegressor(test_n)\n",
    "reg_model.fit(X_train, test_y_train)\n",
    "# Show the R value\n",
    "reg_model.score(X_train, test_y_train)"
   ],
   "metadata": {
    "collapsed": false,
    "pycharm": {
     "name": "#%%\n"
    }
   }
  },
  {
   "cell_type": "markdown",
   "source": [
    "*Prediction*"
   ],
   "metadata": {
    "collapsed": false,
    "pycharm": {
     "name": "#%% md\n"
    }
   }
  },
  {
   "cell_type": "code",
   "execution_count": null,
   "outputs": [],
   "source": [
    "prediction = reg_model.predict(test_X_test)\n",
    "prediction"
   ],
   "metadata": {
    "collapsed": false,
    "pycharm": {
     "name": "#%%\n"
    }
   }
  },
  {
   "cell_type": "markdown",
   "source": [
    "*Error values*"
   ],
   "metadata": {
    "collapsed": false,
    "pycharm": {
     "name": "#%% md\n"
    }
   }
  },
  {
   "cell_type": "code",
   "execution_count": null,
   "outputs": [],
   "source": [
    "print(\"Mean Absolute Error:\", MAE(y_test, prediction))\n",
    "print(\"Mean Squared Error:\", MSE(y_test, prediction))"
   ],
   "metadata": {
    "collapsed": false,
    "pycharm": {
     "name": "#%%\n"
    }
   }
  },
  {
   "cell_type": "markdown",
   "source": [
    "***Note:*** *Don't be confused with the absolute values of errors looking just at the raw numbers.\n",
    "They are not 'larger' than the ones, there were in method 1.\n",
    "As you remember, in method 1 we were predicting temperature (in Celsius degrees),\n",
    "whereas now we are predicting pressure (in hectoPascale). So, they cannot be compared directly.\n",
    "To see how effective the model is, we will compare it to the zero theory, but before...*"
   ],
   "metadata": {
    "collapsed": false,
    "pycharm": {
     "name": "#%% md\n"
    }
   }
  },
  {
   "cell_type": "markdown",
   "source": [
    "# Optimising the value of n\n",
    "*If you play with the value of n, and run the code again, you can see, that the prediction also changes.\n",
    "That obviously means that the precision of the estimator depends on n.\n",
    "Now, as we want to train an estimator with the highest precision of predictions possible, we need to optimise the value of n.*\n",
    "\n",
    "In this example, we'll minimise the MAE function."
   ],
   "metadata": {
    "collapsed": false,
    "pycharm": {
     "name": "#%% md\n"
    }
   }
  },
  {
   "cell_type": "code",
   "execution_count": null,
   "outputs": [],
   "source": [
    "# First, let's create of function of MAE on n:\n",
    "def n_to_MAE(n):\n",
    "    X_train = group(data_train, n)\n",
    "    y_train = data_train[n:]\n",
    "\n",
    "    X_test = group(data_test, n)\n",
    "    y_test = data_test[n:]\n",
    "\n",
    "    model = skl.LinearRegression()\n",
    "    model.fit(X_train, y_train)\n",
    "\n",
    "    prediction = reg_model.predict(X_test)\n",
    "\n",
    "    return MAE(y_test, prediction)"
   ],
   "metadata": {
    "collapsed": false,
    "pycharm": {
     "name": "#%%\n"
    }
   }
  },
  {
   "cell_type": "markdown",
   "source": [
    "Although there are lots of different optimisation methods,\n",
    "in this particular case the easiest and the most sufficient way is just a simple enumeration"
   ],
   "metadata": {
    "collapsed": false,
    "pycharm": {
     "name": "#%% md\n"
    }
   }
  },
  {
   "cell_type": "code",
   "execution_count": null,
   "outputs": [],
   "source": [
    "# using range up to 400, because 1 year is 365 days, which can be rounded up to 400\n",
    "n_to_MAE(4)"
   ],
   "metadata": {
    "collapsed": false,
    "pycharm": {
     "name": "#%%\n"
    }
   }
  },
  {
   "cell_type": "code",
   "execution_count": null,
   "outputs": [],
   "source": [],
   "metadata": {
    "collapsed": false,
    "pycharm": {
     "name": "#%%\n"
    }
   }
  }
 ],
 "metadata": {
  "kernelspec": {
   "display_name": "Python 3",
   "language": "python",
   "name": "python3"
  },
  "language_info": {
   "codemirror_mode": {
    "name": "ipython",
    "version": 2
   },
   "file_extension": ".py",
   "mimetype": "text/x-python",
   "name": "python",
   "nbconvert_exporter": "python",
   "pygments_lexer": "ipython2",
   "version": "2.7.6"
  }
 },
 "nbformat": 4,
 "nbformat_minor": 0
}